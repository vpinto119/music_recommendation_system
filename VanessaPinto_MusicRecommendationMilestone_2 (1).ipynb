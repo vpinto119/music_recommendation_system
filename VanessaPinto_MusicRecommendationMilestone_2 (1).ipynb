{
  "nbformat": 4,
  "nbformat_minor": 0,
  "metadata": {
    "colab": {
      "provenance": [],
      "collapsed_sections": [
        "BNmUVN1Yujx8",
        "b0jWUTKeJ9qJ"
      ]
    },
    "kernelspec": {
      "name": "python3",
      "display_name": "Python 3"
    },
    "language_info": {
      "name": "python"
    }
  },
  "cells": [
    {
      "cell_type": "markdown",
      "source": [
        "#**Project: Music Recommendation System**\n",
        "\n",
        "--------------\n",
        "## **Context**\n",
        "--------------\n",
        "\n",
        "With the advent of technology, societies have become more efficient with their lives. At the same time, however, individual human lives have also become more fast-paced and distracted, leaving little time to explore artistic pursuits. Also, technology has made significant advancements in the ability to coexist with art and general entertainment. It has in fact made it easier for humans with a shortage of time to find and consume good content.\n",
        "Almost every internet-based company's revenue relies on the time consumers spend on its platform. These companies need to be able to figure out what kind of content is needed in order to increase customer time spent and make their experience better. Therefore, one of the key challenges for these companies is figuring out what kind of content their customers are most likely to consume.\n",
        "Spotify is one such audio content provider with a huge market base across the world. With the ever-increasing volume of songs becoming available on the Internet, searching for songs of interest has become a tedious task in itself. However, Spotify has grown significantly in the market because of its ability to recommend the ‘best’ next song to each and every customer based on a huge preference database gathered over time - millions of customers and billions of songs. This is done by using smart recommendation systems that can recommend songs based on users’ likes/dislikes.\n",
        "\n",
        "----------------\n",
        "## **Objective**\n",
        "----------------\n",
        "\n",
        "Build a recommendation system to propose the top 10 songs for a user based on the likelihood of listening to those songs.\n",
        "\n",
        "-----------------------------\n",
        "## **Data Dictionary** \n",
        "-----------------------------\n",
        "\n",
        "The core dataset is the Taste Profile Subset released by The Echo Nest as part of the Million Song Dataset. There are two files in this dataset. One contains the details about the song id, titles, release, artist name, and the year of release. The second file contains the user id, song id, and the play count of users.\n",
        "\n",
        "song_data\n",
        "- **song_id**: A unique id given to every song\n",
        "- **title**: Title of the song\n",
        "- **Release**: Name of the released album\n",
        "- **Artist_name**: Name of the artist\n",
        "- **year**: Year of release\n",
        "\n",
        "count_data\n",
        "- **user _id**: A unique id given to the user\n",
        "- **song_id**: A unique id given to the song\n",
        "- **play_count**: Number of times the song was played"
      ],
      "metadata": {
        "id": "zZNMM16WLvnw"
      }
    },
    {
      "cell_type": "code",
      "execution_count": null,
      "metadata": {
        "colab": {
          "base_uri": "https://localhost:8080/"
        },
        "id": "DAmZOJM7LrcE",
        "outputId": "84b8da6a-27d6-434f-b3b4-5c43bccfc2e4"
      },
      "outputs": [
        {
          "output_type": "stream",
          "name": "stdout",
          "text": [
            "Mounted at /content/drive\n"
          ]
        }
      ],
      "source": [
        "# Mounting the drive\n",
        "from google.colab import drive\n",
        "drive.mount('/content/drive')"
      ]
    },
    {
      "cell_type": "markdown",
      "source": [
        "###Install Surprise Library"
      ],
      "metadata": {
        "id": "BNGZYuRauC59"
      }
    },
    {
      "cell_type": "code",
      "source": [
        "!pip install surprise"
      ],
      "metadata": {
        "colab": {
          "base_uri": "https://localhost:8080/"
        },
        "id": "zMrcKOzKL20l",
        "outputId": "9489c4f9-e17c-445d-8fb9-516d0b2a9884"
      },
      "execution_count": null,
      "outputs": [
        {
          "output_type": "stream",
          "name": "stdout",
          "text": [
            "Looking in indexes: https://pypi.org/simple, https://us-python.pkg.dev/colab-wheels/public/simple/\n",
            "Collecting surprise\n",
            "  Downloading surprise-0.1-py2.py3-none-any.whl (1.8 kB)\n",
            "Collecting scikit-surprise\n",
            "  Downloading scikit-surprise-1.1.1.tar.gz (11.8 MB)\n",
            "\u001b[K     |████████████████████████████████| 11.8 MB 41.9 MB/s \n",
            "\u001b[?25hRequirement already satisfied: joblib>=0.11 in /usr/local/lib/python3.7/dist-packages (from scikit-surprise->surprise) (1.1.0)\n",
            "Requirement already satisfied: numpy>=1.11.2 in /usr/local/lib/python3.7/dist-packages (from scikit-surprise->surprise) (1.21.6)\n",
            "Requirement already satisfied: scipy>=1.0.0 in /usr/local/lib/python3.7/dist-packages (from scikit-surprise->surprise) (1.7.3)\n",
            "Requirement already satisfied: six>=1.10.0 in /usr/local/lib/python3.7/dist-packages (from scikit-surprise->surprise) (1.15.0)\n",
            "Building wheels for collected packages: scikit-surprise\n",
            "  Building wheel for scikit-surprise (setup.py) ... \u001b[?25l\u001b[?25hdone\n",
            "  Created wheel for scikit-surprise: filename=scikit_surprise-1.1.1-cp37-cp37m-linux_x86_64.whl size=1633993 sha256=37efe0d43d88d4f028bb82d522c0703eda163368caff87512050559d68a5b22c\n",
            "  Stored in directory: /root/.cache/pip/wheels/76/44/74/b498c42be47b2406bd27994e16c5188e337c657025ab400c1c\n",
            "Successfully built scikit-surprise\n",
            "Installing collected packages: scikit-surprise, surprise\n",
            "Successfully installed scikit-surprise-1.1.1 surprise-0.1\n"
          ]
        }
      ]
    },
    {
      "cell_type": "markdown",
      "source": [
        "###Import Required Libraries"
      ],
      "metadata": {
        "id": "3V7Qsc19uHQD"
      }
    },
    {
      "cell_type": "code",
      "source": [
        "import warnings                                 # Used to ignore the warning given as output of the code\n",
        "warnings.filterwarnings('ignore')\n",
        "\n",
        "import numpy as np                              # Basic libraries of python for numeric and dataframe computations\n",
        "import pandas as pd\n",
        "\n",
        "import matplotlib.pyplot as plt                 # Basic library for data visualization\n",
        "import seaborn as sns                           # Slightly advanced library for data visualization\n",
        "\n",
        "from collections import defaultdict             # A dictionary output that does not raise a key error\n",
        "\n",
        "from sklearn.metrics import mean_squared_error  # A performance metrics in sklearn\n",
        "\n",
        "# To compute the accuracy of models\n",
        "from surprise import accuracy\n",
        "\n",
        "# Class is used to parse a file containing ratings, data should be in structure - user ; item ; rating\n",
        "from surprise.reader import Reader\n",
        "\n",
        "# Class for loading datasets\n",
        "from surprise.dataset import Dataset\n",
        "\n",
        "# For tuning model hyperparameters\n",
        "from surprise.model_selection import GridSearchCV\n",
        "\n",
        "# For splitting the rating data in train and test datasets\n",
        "from surprise.model_selection import train_test_split\n",
        "\n",
        "# For implementing similarity-based recommendation system\n",
        "from surprise.prediction_algorithms.knns import KNNBasic\n",
        "\n",
        "# For implementing matrix factorization based recommendation system\n",
        "from surprise.prediction_algorithms.matrix_factorization import SVD\n",
        "\n",
        "# for implementing K-Fold cross-validation\n",
        "from surprise.model_selection import KFold\n",
        "\n",
        "# For implementing clustering-based recommendation system\n",
        "from surprise import CoClustering"
      ],
      "metadata": {
        "id": "yepF4WlrMdHm"
      },
      "execution_count": null,
      "outputs": []
    },
    {
      "cell_type": "markdown",
      "source": [
        "#**Milestone 1**\n",
        "#Load the data"
      ],
      "metadata": {
        "id": "ICTTc97VuLm1"
      }
    },
    {
      "cell_type": "code",
      "source": [
        "count_df = pd.read_csv('/content/drive/MyDrive/Colab Notebooks/Capstone Project/count_data.csv')\n",
        "song_df = pd.read_csv('/content/drive/MyDrive/Colab Notebooks/Capstone Project/song_data.csv')"
      ],
      "metadata": {
        "id": "1P2HH5uKMSLn"
      },
      "execution_count": null,
      "outputs": []
    },
    {
      "cell_type": "code",
      "source": [
        "count_df.head()"
      ],
      "metadata": {
        "colab": {
          "base_uri": "https://localhost:8080/",
          "height": 206
        },
        "id": "FCFiSYU9MXuJ",
        "outputId": "06bbb2e9-f166-4597-fd67-e55969ca3841"
      },
      "execution_count": null,
      "outputs": [
        {
          "output_type": "execute_result",
          "data": {
            "text/plain": [
              "   Unnamed: 0                                   user_id             song_id  \\\n",
              "0           0  b80344d063b5ccb3212f76538f3d9e43d87dca9e  SOAKIMP12A8C130995   \n",
              "1           1  b80344d063b5ccb3212f76538f3d9e43d87dca9e  SOBBMDR12A8C13253B   \n",
              "2           2  b80344d063b5ccb3212f76538f3d9e43d87dca9e  SOBXHDL12A81C204C0   \n",
              "3           3  b80344d063b5ccb3212f76538f3d9e43d87dca9e  SOBYHAJ12A6701BF1D   \n",
              "4           4  b80344d063b5ccb3212f76538f3d9e43d87dca9e  SODACBL12A8C13C273   \n",
              "\n",
              "   play_count  \n",
              "0           1  \n",
              "1           2  \n",
              "2           1  \n",
              "3           1  \n",
              "4           1  "
            ],
            "text/html": [
              "\n",
              "  <div id=\"df-5ee3f208-6259-44a5-a3b9-6525f68252d7\">\n",
              "    <div class=\"colab-df-container\">\n",
              "      <div>\n",
              "<style scoped>\n",
              "    .dataframe tbody tr th:only-of-type {\n",
              "        vertical-align: middle;\n",
              "    }\n",
              "\n",
              "    .dataframe tbody tr th {\n",
              "        vertical-align: top;\n",
              "    }\n",
              "\n",
              "    .dataframe thead th {\n",
              "        text-align: right;\n",
              "    }\n",
              "</style>\n",
              "<table border=\"1\" class=\"dataframe\">\n",
              "  <thead>\n",
              "    <tr style=\"text-align: right;\">\n",
              "      <th></th>\n",
              "      <th>Unnamed: 0</th>\n",
              "      <th>user_id</th>\n",
              "      <th>song_id</th>\n",
              "      <th>play_count</th>\n",
              "    </tr>\n",
              "  </thead>\n",
              "  <tbody>\n",
              "    <tr>\n",
              "      <th>0</th>\n",
              "      <td>0</td>\n",
              "      <td>b80344d063b5ccb3212f76538f3d9e43d87dca9e</td>\n",
              "      <td>SOAKIMP12A8C130995</td>\n",
              "      <td>1</td>\n",
              "    </tr>\n",
              "    <tr>\n",
              "      <th>1</th>\n",
              "      <td>1</td>\n",
              "      <td>b80344d063b5ccb3212f76538f3d9e43d87dca9e</td>\n",
              "      <td>SOBBMDR12A8C13253B</td>\n",
              "      <td>2</td>\n",
              "    </tr>\n",
              "    <tr>\n",
              "      <th>2</th>\n",
              "      <td>2</td>\n",
              "      <td>b80344d063b5ccb3212f76538f3d9e43d87dca9e</td>\n",
              "      <td>SOBXHDL12A81C204C0</td>\n",
              "      <td>1</td>\n",
              "    </tr>\n",
              "    <tr>\n",
              "      <th>3</th>\n",
              "      <td>3</td>\n",
              "      <td>b80344d063b5ccb3212f76538f3d9e43d87dca9e</td>\n",
              "      <td>SOBYHAJ12A6701BF1D</td>\n",
              "      <td>1</td>\n",
              "    </tr>\n",
              "    <tr>\n",
              "      <th>4</th>\n",
              "      <td>4</td>\n",
              "      <td>b80344d063b5ccb3212f76538f3d9e43d87dca9e</td>\n",
              "      <td>SODACBL12A8C13C273</td>\n",
              "      <td>1</td>\n",
              "    </tr>\n",
              "  </tbody>\n",
              "</table>\n",
              "</div>\n",
              "      <button class=\"colab-df-convert\" onclick=\"convertToInteractive('df-5ee3f208-6259-44a5-a3b9-6525f68252d7')\"\n",
              "              title=\"Convert this dataframe to an interactive table.\"\n",
              "              style=\"display:none;\">\n",
              "        \n",
              "  <svg xmlns=\"http://www.w3.org/2000/svg\" height=\"24px\"viewBox=\"0 0 24 24\"\n",
              "       width=\"24px\">\n",
              "    <path d=\"M0 0h24v24H0V0z\" fill=\"none\"/>\n",
              "    <path d=\"M18.56 5.44l.94 2.06.94-2.06 2.06-.94-2.06-.94-.94-2.06-.94 2.06-2.06.94zm-11 1L8.5 8.5l.94-2.06 2.06-.94-2.06-.94L8.5 2.5l-.94 2.06-2.06.94zm10 10l.94 2.06.94-2.06 2.06-.94-2.06-.94-.94-2.06-.94 2.06-2.06.94z\"/><path d=\"M17.41 7.96l-1.37-1.37c-.4-.4-.92-.59-1.43-.59-.52 0-1.04.2-1.43.59L10.3 9.45l-7.72 7.72c-.78.78-.78 2.05 0 2.83L4 21.41c.39.39.9.59 1.41.59.51 0 1.02-.2 1.41-.59l7.78-7.78 2.81-2.81c.8-.78.8-2.07 0-2.86zM5.41 20L4 18.59l7.72-7.72 1.47 1.35L5.41 20z\"/>\n",
              "  </svg>\n",
              "      </button>\n",
              "      \n",
              "  <style>\n",
              "    .colab-df-container {\n",
              "      display:flex;\n",
              "      flex-wrap:wrap;\n",
              "      gap: 12px;\n",
              "    }\n",
              "\n",
              "    .colab-df-convert {\n",
              "      background-color: #E8F0FE;\n",
              "      border: none;\n",
              "      border-radius: 50%;\n",
              "      cursor: pointer;\n",
              "      display: none;\n",
              "      fill: #1967D2;\n",
              "      height: 32px;\n",
              "      padding: 0 0 0 0;\n",
              "      width: 32px;\n",
              "    }\n",
              "\n",
              "    .colab-df-convert:hover {\n",
              "      background-color: #E2EBFA;\n",
              "      box-shadow: 0px 1px 2px rgba(60, 64, 67, 0.3), 0px 1px 3px 1px rgba(60, 64, 67, 0.15);\n",
              "      fill: #174EA6;\n",
              "    }\n",
              "\n",
              "    [theme=dark] .colab-df-convert {\n",
              "      background-color: #3B4455;\n",
              "      fill: #D2E3FC;\n",
              "    }\n",
              "\n",
              "    [theme=dark] .colab-df-convert:hover {\n",
              "      background-color: #434B5C;\n",
              "      box-shadow: 0px 1px 3px 1px rgba(0, 0, 0, 0.15);\n",
              "      filter: drop-shadow(0px 1px 2px rgba(0, 0, 0, 0.3));\n",
              "      fill: #FFFFFF;\n",
              "    }\n",
              "  </style>\n",
              "\n",
              "      <script>\n",
              "        const buttonEl =\n",
              "          document.querySelector('#df-5ee3f208-6259-44a5-a3b9-6525f68252d7 button.colab-df-convert');\n",
              "        buttonEl.style.display =\n",
              "          google.colab.kernel.accessAllowed ? 'block' : 'none';\n",
              "\n",
              "        async function convertToInteractive(key) {\n",
              "          const element = document.querySelector('#df-5ee3f208-6259-44a5-a3b9-6525f68252d7');\n",
              "          const dataTable =\n",
              "            await google.colab.kernel.invokeFunction('convertToInteractive',\n",
              "                                                     [key], {});\n",
              "          if (!dataTable) return;\n",
              "\n",
              "          const docLinkHtml = 'Like what you see? Visit the ' +\n",
              "            '<a target=\"_blank\" href=https://colab.research.google.com/notebooks/data_table.ipynb>data table notebook</a>'\n",
              "            + ' to learn more about interactive tables.';\n",
              "          element.innerHTML = '';\n",
              "          dataTable['output_type'] = 'display_data';\n",
              "          await google.colab.output.renderOutput(dataTable, element);\n",
              "          const docLink = document.createElement('div');\n",
              "          docLink.innerHTML = docLinkHtml;\n",
              "          element.appendChild(docLink);\n",
              "        }\n",
              "      </script>\n",
              "    </div>\n",
              "  </div>\n",
              "  "
            ]
          },
          "metadata": {},
          "execution_count": 5
        }
      ]
    },
    {
      "cell_type": "code",
      "source": [
        "count_df.info()"
      ],
      "metadata": {
        "colab": {
          "base_uri": "https://localhost:8080/"
        },
        "id": "s0T24PiKMjOI",
        "outputId": "330b016f-21bc-4379-9a07-657960502767"
      },
      "execution_count": null,
      "outputs": [
        {
          "output_type": "stream",
          "name": "stdout",
          "text": [
            "<class 'pandas.core.frame.DataFrame'>\n",
            "RangeIndex: 2000000 entries, 0 to 1999999\n",
            "Data columns (total 4 columns):\n",
            " #   Column      Dtype \n",
            "---  ------      ----- \n",
            " 0   Unnamed: 0  int64 \n",
            " 1   user_id     object\n",
            " 2   song_id     object\n",
            " 3   play_count  int64 \n",
            "dtypes: int64(2), object(2)\n",
            "memory usage: 61.0+ MB\n"
          ]
        }
      ]
    },
    {
      "cell_type": "code",
      "source": [
        "count_df.isnull().sum()"
      ],
      "metadata": {
        "colab": {
          "base_uri": "https://localhost:8080/"
        },
        "id": "mLi8Jw47MlWJ",
        "outputId": "73d54664-8c45-4545-df0a-d939075b20fe"
      },
      "execution_count": null,
      "outputs": [
        {
          "output_type": "execute_result",
          "data": {
            "text/plain": [
              "Unnamed: 0    0\n",
              "user_id       0\n",
              "song_id       0\n",
              "play_count    0\n",
              "dtype: int64"
            ]
          },
          "metadata": {},
          "execution_count": 7
        }
      ]
    },
    {
      "cell_type": "code",
      "source": [
        "count_df.nunique()"
      ],
      "metadata": {
        "colab": {
          "base_uri": "https://localhost:8080/"
        },
        "id": "GuuDxU8MMpe5",
        "outputId": "bbc6ec07-24ae-4abe-e4fa-ddfd12bb8182"
      },
      "execution_count": null,
      "outputs": [
        {
          "output_type": "execute_result",
          "data": {
            "text/plain": [
              "Unnamed: 0    2000000\n",
              "user_id         76353\n",
              "song_id         10000\n",
              "play_count        295\n",
              "dtype: int64"
            ]
          },
          "metadata": {},
          "execution_count": 8
        }
      ]
    },
    {
      "cell_type": "markdown",
      "source": [
        "- This dataset has 2 million rows and 4 columns\n",
        "- Columns unnamed and playcount are integers\n",
        "- columns user_id and song_id are object\n",
        "- drop unnamed\n",
        "- consider one-hot encoding for user-id and song_id\n",
        "- No null values\n",
        "- 76,353 unique users, 10,000 unique songs, and 295 unique play_counts"
      ],
      "metadata": {
        "id": "ugle28V9MuAo"
      }
    },
    {
      "cell_type": "code",
      "source": [
        "song_df.head(\n",
        ")"
      ],
      "metadata": {
        "colab": {
          "base_uri": "https://localhost:8080/",
          "height": 206
        },
        "id": "L4s8PKqsMrf5",
        "outputId": "e327d7d2-6f7f-4d97-c78c-0cb3205ec2de"
      },
      "execution_count": null,
      "outputs": [
        {
          "output_type": "execute_result",
          "data": {
            "text/plain": [
              "              song_id              title  \\\n",
              "0  SOQMMHC12AB0180CB8       Silent Night   \n",
              "1  SOVFVAK12A8C1350D9        Tanssi vaan   \n",
              "2  SOGTUKN12AB017F4F1  No One Could Ever   \n",
              "3  SOBNYVR12A8C13558C      Si Vos Querés   \n",
              "4  SOHSBXH12A8C13B0DF   Tangle Of Aspens   \n",
              "\n",
              "                                release       artist_name  year  \n",
              "0                 Monster Ballads X-Mas  Faster Pussy cat  2003  \n",
              "1                           Karkuteillä  Karkkiautomaatti  1995  \n",
              "2                                Butter    Hudson Mohawke  2006  \n",
              "3                               De Culo       Yerba Brava  2003  \n",
              "4  Rene Ablaze Presents Winter Sessions        Der Mystic     0  "
            ],
            "text/html": [
              "\n",
              "  <div id=\"df-0eb16448-2c57-40af-bd99-e872784b6402\">\n",
              "    <div class=\"colab-df-container\">\n",
              "      <div>\n",
              "<style scoped>\n",
              "    .dataframe tbody tr th:only-of-type {\n",
              "        vertical-align: middle;\n",
              "    }\n",
              "\n",
              "    .dataframe tbody tr th {\n",
              "        vertical-align: top;\n",
              "    }\n",
              "\n",
              "    .dataframe thead th {\n",
              "        text-align: right;\n",
              "    }\n",
              "</style>\n",
              "<table border=\"1\" class=\"dataframe\">\n",
              "  <thead>\n",
              "    <tr style=\"text-align: right;\">\n",
              "      <th></th>\n",
              "      <th>song_id</th>\n",
              "      <th>title</th>\n",
              "      <th>release</th>\n",
              "      <th>artist_name</th>\n",
              "      <th>year</th>\n",
              "    </tr>\n",
              "  </thead>\n",
              "  <tbody>\n",
              "    <tr>\n",
              "      <th>0</th>\n",
              "      <td>SOQMMHC12AB0180CB8</td>\n",
              "      <td>Silent Night</td>\n",
              "      <td>Monster Ballads X-Mas</td>\n",
              "      <td>Faster Pussy cat</td>\n",
              "      <td>2003</td>\n",
              "    </tr>\n",
              "    <tr>\n",
              "      <th>1</th>\n",
              "      <td>SOVFVAK12A8C1350D9</td>\n",
              "      <td>Tanssi vaan</td>\n",
              "      <td>Karkuteillä</td>\n",
              "      <td>Karkkiautomaatti</td>\n",
              "      <td>1995</td>\n",
              "    </tr>\n",
              "    <tr>\n",
              "      <th>2</th>\n",
              "      <td>SOGTUKN12AB017F4F1</td>\n",
              "      <td>No One Could Ever</td>\n",
              "      <td>Butter</td>\n",
              "      <td>Hudson Mohawke</td>\n",
              "      <td>2006</td>\n",
              "    </tr>\n",
              "    <tr>\n",
              "      <th>3</th>\n",
              "      <td>SOBNYVR12A8C13558C</td>\n",
              "      <td>Si Vos Querés</td>\n",
              "      <td>De Culo</td>\n",
              "      <td>Yerba Brava</td>\n",
              "      <td>2003</td>\n",
              "    </tr>\n",
              "    <tr>\n",
              "      <th>4</th>\n",
              "      <td>SOHSBXH12A8C13B0DF</td>\n",
              "      <td>Tangle Of Aspens</td>\n",
              "      <td>Rene Ablaze Presents Winter Sessions</td>\n",
              "      <td>Der Mystic</td>\n",
              "      <td>0</td>\n",
              "    </tr>\n",
              "  </tbody>\n",
              "</table>\n",
              "</div>\n",
              "      <button class=\"colab-df-convert\" onclick=\"convertToInteractive('df-0eb16448-2c57-40af-bd99-e872784b6402')\"\n",
              "              title=\"Convert this dataframe to an interactive table.\"\n",
              "              style=\"display:none;\">\n",
              "        \n",
              "  <svg xmlns=\"http://www.w3.org/2000/svg\" height=\"24px\"viewBox=\"0 0 24 24\"\n",
              "       width=\"24px\">\n",
              "    <path d=\"M0 0h24v24H0V0z\" fill=\"none\"/>\n",
              "    <path d=\"M18.56 5.44l.94 2.06.94-2.06 2.06-.94-2.06-.94-.94-2.06-.94 2.06-2.06.94zm-11 1L8.5 8.5l.94-2.06 2.06-.94-2.06-.94L8.5 2.5l-.94 2.06-2.06.94zm10 10l.94 2.06.94-2.06 2.06-.94-2.06-.94-.94-2.06-.94 2.06-2.06.94z\"/><path d=\"M17.41 7.96l-1.37-1.37c-.4-.4-.92-.59-1.43-.59-.52 0-1.04.2-1.43.59L10.3 9.45l-7.72 7.72c-.78.78-.78 2.05 0 2.83L4 21.41c.39.39.9.59 1.41.59.51 0 1.02-.2 1.41-.59l7.78-7.78 2.81-2.81c.8-.78.8-2.07 0-2.86zM5.41 20L4 18.59l7.72-7.72 1.47 1.35L5.41 20z\"/>\n",
              "  </svg>\n",
              "      </button>\n",
              "      \n",
              "  <style>\n",
              "    .colab-df-container {\n",
              "      display:flex;\n",
              "      flex-wrap:wrap;\n",
              "      gap: 12px;\n",
              "    }\n",
              "\n",
              "    .colab-df-convert {\n",
              "      background-color: #E8F0FE;\n",
              "      border: none;\n",
              "      border-radius: 50%;\n",
              "      cursor: pointer;\n",
              "      display: none;\n",
              "      fill: #1967D2;\n",
              "      height: 32px;\n",
              "      padding: 0 0 0 0;\n",
              "      width: 32px;\n",
              "    }\n",
              "\n",
              "    .colab-df-convert:hover {\n",
              "      background-color: #E2EBFA;\n",
              "      box-shadow: 0px 1px 2px rgba(60, 64, 67, 0.3), 0px 1px 3px 1px rgba(60, 64, 67, 0.15);\n",
              "      fill: #174EA6;\n",
              "    }\n",
              "\n",
              "    [theme=dark] .colab-df-convert {\n",
              "      background-color: #3B4455;\n",
              "      fill: #D2E3FC;\n",
              "    }\n",
              "\n",
              "    [theme=dark] .colab-df-convert:hover {\n",
              "      background-color: #434B5C;\n",
              "      box-shadow: 0px 1px 3px 1px rgba(0, 0, 0, 0.15);\n",
              "      filter: drop-shadow(0px 1px 2px rgba(0, 0, 0, 0.3));\n",
              "      fill: #FFFFFF;\n",
              "    }\n",
              "  </style>\n",
              "\n",
              "      <script>\n",
              "        const buttonEl =\n",
              "          document.querySelector('#df-0eb16448-2c57-40af-bd99-e872784b6402 button.colab-df-convert');\n",
              "        buttonEl.style.display =\n",
              "          google.colab.kernel.accessAllowed ? 'block' : 'none';\n",
              "\n",
              "        async function convertToInteractive(key) {\n",
              "          const element = document.querySelector('#df-0eb16448-2c57-40af-bd99-e872784b6402');\n",
              "          const dataTable =\n",
              "            await google.colab.kernel.invokeFunction('convertToInteractive',\n",
              "                                                     [key], {});\n",
              "          if (!dataTable) return;\n",
              "\n",
              "          const docLinkHtml = 'Like what you see? Visit the ' +\n",
              "            '<a target=\"_blank\" href=https://colab.research.google.com/notebooks/data_table.ipynb>data table notebook</a>'\n",
              "            + ' to learn more about interactive tables.';\n",
              "          element.innerHTML = '';\n",
              "          dataTable['output_type'] = 'display_data';\n",
              "          await google.colab.output.renderOutput(dataTable, element);\n",
              "          const docLink = document.createElement('div');\n",
              "          docLink.innerHTML = docLinkHtml;\n",
              "          element.appendChild(docLink);\n",
              "        }\n",
              "      </script>\n",
              "    </div>\n",
              "  </div>\n",
              "  "
            ]
          },
          "metadata": {},
          "execution_count": 9
        }
      ]
    },
    {
      "cell_type": "code",
      "source": [
        "song_df.isnull().sum()"
      ],
      "metadata": {
        "colab": {
          "base_uri": "https://localhost:8080/"
        },
        "id": "DXhBFfuAMxZs",
        "outputId": "d81ae930-06bc-4438-a6df-c2ef90383b08"
      },
      "execution_count": null,
      "outputs": [
        {
          "output_type": "execute_result",
          "data": {
            "text/plain": [
              "song_id         0\n",
              "title          15\n",
              "release         5\n",
              "artist_name     0\n",
              "year            0\n",
              "dtype: int64"
            ]
          },
          "metadata": {},
          "execution_count": 10
        }
      ]
    },
    {
      "cell_type": "code",
      "source": [
        "song_df.nunique()"
      ],
      "metadata": {
        "colab": {
          "base_uri": "https://localhost:8080/"
        },
        "id": "62iUGPm7M6Wc",
        "outputId": "242f659d-bc5b-4ef2-9663-866391aff324"
      },
      "execution_count": null,
      "outputs": [
        {
          "output_type": "execute_result",
          "data": {
            "text/plain": [
              "song_id        999056\n",
              "title          702428\n",
              "release        149288\n",
              "artist_name     72665\n",
              "year               90\n",
              "dtype: int64"
            ]
          },
          "metadata": {},
          "execution_count": 11
        }
      ]
    },
    {
      "cell_type": "markdown",
      "source": [
        "- This dataset has 1 million rows and 5 columns\n",
        "- All columns but Year are object data types; however, some years are marked as 0 so will drop that column for now since it will only had confusion\n",
        "- Title and Release both have a few null values but depending on our cutoff for rating, these might become obsolete\n",
        "- 999,056 unique songs(ids); 702,428 unique titles; 149,288 unique albums; 72,665 unique artists; and 90 unique years represented in dataset. \n",
        "\n",
        "\n",
        "Looking at this dataset, I will:\n",
        "1. Drop unnamed column\n",
        "2. Merge count dataset with 'title' column in song dataset\n",
        "3. Use LabelEncoder to encode song_ids and user_ids"
      ],
      "metadata": {
        "id": "7QfihKUTNA94"
      }
    },
    {
      "cell_type": "markdown",
      "source": [
        "##Data Pre-Processing"
      ],
      "metadata": {
        "id": "I-HvKH1rua7E"
      }
    },
    {
      "cell_type": "code",
      "source": [
        "#Drop Unnamed column in count_df\n",
        "count_df = count_df.drop('Unnamed: 0', axis = 1)"
      ],
      "metadata": {
        "id": "PRI89umrM8dL"
      },
      "execution_count": null,
      "outputs": []
    },
    {
      "cell_type": "markdown",
      "source": [
        "Year '0' encompasses almost 25% of the 2,000,000 row dataset. I want to see if np.nan will provide more insight by replacing the 0 with NaN"
      ],
      "metadata": {
        "id": "w-0Rc-Ye-oNm"
      }
    },
    {
      "cell_type": "code",
      "source": [
        "song_df['year'].replace(0,np.nan, inplace= True)"
      ],
      "metadata": {
        "id": "ZH9GrImYNQsf"
      },
      "execution_count": null,
      "outputs": []
    },
    {
      "cell_type": "code",
      "source": [
        "song_df.info()"
      ],
      "metadata": {
        "colab": {
          "base_uri": "https://localhost:8080/"
        },
        "id": "lakJl1AZ4Pvv",
        "outputId": "90ed7d91-d221-4897-ca07-899077ceac22"
      },
      "execution_count": null,
      "outputs": [
        {
          "output_type": "stream",
          "name": "stdout",
          "text": [
            "<class 'pandas.core.frame.DataFrame'>\n",
            "RangeIndex: 1000000 entries, 0 to 999999\n",
            "Data columns (total 5 columns):\n",
            " #   Column       Non-Null Count    Dtype  \n",
            "---  ------       --------------    -----  \n",
            " 0   song_id      1000000 non-null  object \n",
            " 1   title        999985 non-null   object \n",
            " 2   release      999995 non-null   object \n",
            " 3   artist_name  1000000 non-null  object \n",
            " 4   year         515576 non-null   float64\n",
            "dtypes: float64(1), object(4)\n",
            "memory usage: 38.1+ MB\n"
          ]
        }
      ]
    },
    {
      "cell_type": "code",
      "source": [
        "plt.figure(figsize = (20,4))\n",
        "sns.countplot(data = song_df, x = 'year')\n",
        "plt.show()"
      ],
      "metadata": {
        "colab": {
          "base_uri": "https://localhost:8080/",
          "height": 279
        },
        "id": "87dvHbdM-TMg",
        "outputId": "7256ea62-9d9d-4c24-d795-0b0720a20079"
      },
      "execution_count": null,
      "outputs": [
        {
          "output_type": "display_data",
          "data": {
            "text/plain": [
              "<Figure size 1440x288 with 1 Axes>"
            ],
            "image/png": "[encoded data removed]"
          },
          "metadata": {
            "needs_background": "light"
          }
        }
      ]
    },
    {
      "cell_type": "markdown",
      "source": [
        "Using replace/np.nan for any 0 in the Year column helped plot the distribution of songs int he dataset and their release years. \n",
        "As we can see, there are more songs from the 2000s represented in the dataset than from the 19000s. "
      ],
      "metadata": {
        "id": "x2_VPQ-K1eRn"
      }
    },
    {
      "cell_type": "markdown",
      "source": [
        "###Merge Datasets"
      ],
      "metadata": {
        "id": "BNmUVN1Yujx8"
      }
    },
    {
      "cell_type": "code",
      "source": [
        "#Merge count_df with song_df\n",
        "count_with_title = pd.merge(count_df, song_df, on = 'song_id', how = 'left')\n",
        "count_with_title"
      ],
      "metadata": {
        "colab": {
          "base_uri": "https://localhost:8080/"
        },
        "id": "hWGH66uBNdhf",
        "outputId": "918117f6-29ee-42c0-fd23-e4432f1855ac"
      },
      "execution_count": null,
      "outputs": [
        {
          "output_type": "execute_result",
          "data": {
            "text/plain": [
              "                                          user_id             song_id  \\\n",
              "0        b80344d063b5ccb3212f76538f3d9e43d87dca9e  SOAKIMP12A8C130995   \n",
              "1        b80344d063b5ccb3212f76538f3d9e43d87dca9e  SOBBMDR12A8C13253B   \n",
              "2        b80344d063b5ccb3212f76538f3d9e43d87dca9e  SOBXHDL12A81C204C0   \n",
              "3        b80344d063b5ccb3212f76538f3d9e43d87dca9e  SOBXHDL12A81C204C0   \n",
              "4        b80344d063b5ccb3212f76538f3d9e43d87dca9e  SOBYHAJ12A6701BF1D   \n",
              "...                                           ...                 ...   \n",
              "2086941  d8bfd4ec88f0f3773a9e022e3c1a0f1d3b7b6a92  SOJEYPO12AAA8C6B0E   \n",
              "2086942  d8bfd4ec88f0f3773a9e022e3c1a0f1d3b7b6a92  SOJJYDE12AF729FC16   \n",
              "2086943  d8bfd4ec88f0f3773a9e022e3c1a0f1d3b7b6a92  SOJKQSF12A6D4F5EE9   \n",
              "2086944  d8bfd4ec88f0f3773a9e022e3c1a0f1d3b7b6a92  SOJUXGA12AC961885C   \n",
              "2086945  d8bfd4ec88f0f3773a9e022e3c1a0f1d3b7b6a92  SOJYOLS12A8C13C06F   \n",
              "\n",
              "         play_count                           title              release  \\\n",
              "0                 1                        The Cove   Thicker Than Water   \n",
              "1                 2                 Entre Dos Aguas  Flamenco Para Niños   \n",
              "2                 1                        Stronger           Graduation   \n",
              "3                 1                        Stronger           Graduation   \n",
              "4                 1                  Constellations    In Between Dreams   \n",
              "...             ...                             ...                  ...   \n",
              "2086941           2       Ignorance (Album Version)            Ignorance   \n",
              "2086942           4          Two Is Better Than One           Love Drunk   \n",
              "2086943           3  What I've Done (Album Version)       What I've Done   \n",
              "2086944           1                              Up            My Worlds   \n",
              "2086945           1      Soil_ Soil (Album Version)              The Con   \n",
              "\n",
              "                                    artist_name    year  \n",
              "0                                  Jack Johnson     NaN  \n",
              "1                                 Paco De Lucia  1976.0  \n",
              "2                                    Kanye West  2007.0  \n",
              "3                                    Kanye West  2007.0  \n",
              "4                                  Jack Johnson  2005.0  \n",
              "...                                         ...     ...  \n",
              "2086941                                Paramore     NaN  \n",
              "2086942  Boys Like Girls featuring Taylor Swift  2009.0  \n",
              "2086943                             Linkin Park  2007.0  \n",
              "2086944                           Justin Bieber  2010.0  \n",
              "2086945                          Tegan And Sara  2007.0  \n",
              "\n",
              "[2086946 rows x 7 columns]"
            ],
            "text/html": [
              "\n",
              "  <div id=\"df-866865b6-b271-4731-9770-5c67525d6d42\">\n",
              "    <div class=\"colab-df-container\">\n",
              "      <div>\n",
              "<style scoped>\n",
              "    .dataframe tbody tr th:only-of-type {\n",
              "        vertical-align: middle;\n",
              "    }\n",
              "\n",
              "    .dataframe tbody tr th {\n",
              "        vertical-align: top;\n",
              "    }\n",
              "\n",
              "    .dataframe thead th {\n",
              "        text-align: right;\n",
              "    }\n",
              "</style>\n",
              "<table border=\"1\" class=\"dataframe\">\n",
              "  <thead>\n",
              "    <tr style=\"text-align: right;\">\n",
              "      <th></th>\n",
              "      <th>user_id</th>\n",
              "      <th>song_id</th>\n",
              "      <th>play_count</th>\n",
              "      <th>title</th>\n",
              "      <th>release</th>\n",
              "      <th>artist_name</th>\n",
              "      <th>year</th>\n",
              "    </tr>\n",
              "  </thead>\n",
              "  <tbody>\n",
              "    <tr>\n",
              "      <th>0</th>\n",
              "      <td>b80344d063b5ccb3212f76538f3d9e43d87dca9e</td>\n",
              "      <td>SOAKIMP12A8C130995</td>\n",
              "      <td>1</td>\n",
              "      <td>The Cove</td>\n",
              "      <td>Thicker Than Water</td>\n",
              "      <td>Jack Johnson</td>\n",
              "      <td>NaN</td>\n",
              "    </tr>\n",
              "    <tr>\n",
              "      <th>1</th>\n",
              "      <td>b80344d063b5ccb3212f76538f3d9e43d87dca9e</td>\n",
              "      <td>SOBBMDR12A8C13253B</td>\n",
              "      <td>2</td>\n",
              "      <td>Entre Dos Aguas</td>\n",
              "      <td>Flamenco Para Niños</td>\n",
              "      <td>Paco De Lucia</td>\n",
              "      <td>1976.0</td>\n",
              "    </tr>\n",
              "    <tr>\n",
              "      <th>2</th>\n",
              "      <td>b80344d063b5ccb3212f76538f3d9e43d87dca9e</td>\n",
              "      <td>SOBXHDL12A81C204C0</td>\n",
              "      <td>1</td>\n",
              "      <td>Stronger</td>\n",
              "      <td>Graduation</td>\n",
              "      <td>Kanye West</td>\n",
              "      <td>2007.0</td>\n",
              "    </tr>\n",
              "    <tr>\n",
              "      <th>3</th>\n",
              "      <td>b80344d063b5ccb3212f76538f3d9e43d87dca9e</td>\n",
              "      <td>SOBXHDL12A81C204C0</td>\n",
              "      <td>1</td>\n",
              "      <td>Stronger</td>\n",
              "      <td>Graduation</td>\n",
              "      <td>Kanye West</td>\n",
              "      <td>2007.0</td>\n",
              "    </tr>\n",
              "    <tr>\n",
              "      <th>4</th>\n",
              "      <td>b80344d063b5ccb3212f76538f3d9e43d87dca9e</td>\n",
              "      <td>SOBYHAJ12A6701BF1D</td>\n",
              "      <td>1</td>\n",
              "      <td>Constellations</td>\n",
              "      <td>In Between Dreams</td>\n",
              "      <td>Jack Johnson</td>\n",
              "      <td>2005.0</td>\n",
              "    </tr>\n",
              "    <tr>\n",
              "      <th>...</th>\n",
              "      <td>...</td>\n",
              "      <td>...</td>\n",
              "      <td>...</td>\n",
              "      <td>...</td>\n",
              "      <td>...</td>\n",
              "      <td>...</td>\n",
              "      <td>...</td>\n",
              "    </tr>\n",
              "    <tr>\n",
              "      <th>2086941</th>\n",
              "      <td>d8bfd4ec88f0f3773a9e022e3c1a0f1d3b7b6a92</td>\n",
              "      <td>SOJEYPO12AAA8C6B0E</td>\n",
              "      <td>2</td>\n",
              "      <td>Ignorance (Album Version)</td>\n",
              "      <td>Ignorance</td>\n",
              "      <td>Paramore</td>\n",
              "      <td>NaN</td>\n",
              "    </tr>\n",
              "    <tr>\n",
              "      <th>2086942</th>\n",
              "      <td>d8bfd4ec88f0f3773a9e022e3c1a0f1d3b7b6a92</td>\n",
              "      <td>SOJJYDE12AF729FC16</td>\n",
              "      <td>4</td>\n",
              "      <td>Two Is Better Than One</td>\n",
              "      <td>Love Drunk</td>\n",
              "      <td>Boys Like Girls featuring Taylor Swift</td>\n",
              "      <td>2009.0</td>\n",
              "    </tr>\n",
              "    <tr>\n",
              "      <th>2086943</th>\n",
              "      <td>d8bfd4ec88f0f3773a9e022e3c1a0f1d3b7b6a92</td>\n",
              "      <td>SOJKQSF12A6D4F5EE9</td>\n",
              "      <td>3</td>\n",
              "      <td>What I've Done (Album Version)</td>\n",
              "      <td>What I've Done</td>\n",
              "      <td>Linkin Park</td>\n",
              "      <td>2007.0</td>\n",
              "    </tr>\n",
              "    <tr>\n",
              "      <th>2086944</th>\n",
              "      <td>d8bfd4ec88f0f3773a9e022e3c1a0f1d3b7b6a92</td>\n",
              "      <td>SOJUXGA12AC961885C</td>\n",
              "      <td>1</td>\n",
              "      <td>Up</td>\n",
              "      <td>My Worlds</td>\n",
              "      <td>Justin Bieber</td>\n",
              "      <td>2010.0</td>\n",
              "    </tr>\n",
              "    <tr>\n",
              "      <th>2086945</th>\n",
              "      <td>d8bfd4ec88f0f3773a9e022e3c1a0f1d3b7b6a92</td>\n",
              "      <td>SOJYOLS12A8C13C06F</td>\n",
              "      <td>1</td>\n",
              "      <td>Soil_ Soil (Album Version)</td>\n",
              "      <td>The Con</td>\n",
              "      <td>Tegan And Sara</td>\n",
              "      <td>2007.0</td>\n",
              "    </tr>\n",
              "  </tbody>\n",
              "</table>\n",
              "<p>2086946 rows × 7 columns</p>\n",
              "</div>\n",
              "      <button class=\"colab-df-convert\" onclick=\"convertToInteractive('df-866865b6-b271-4731-9770-5c67525d6d42')\"\n",
              "              title=\"Convert this dataframe to an interactive table.\"\n",
              "              style=\"display:none;\">\n",
              "        \n",
              "  <svg xmlns=\"http://www.w3.org/2000/svg\" height=\"24px\"viewBox=\"0 0 24 24\"\n",
              "       width=\"24px\">\n",
              "    <path d=\"M0 0h24v24H0V0z\" fill=\"none\"/>\n",
              "    <path d=\"M18.56 5.44l.94 2.06.94-2.06 2.06-.94-2.06-.94-.94-2.06-.94 2.06-2.06.94zm-11 1L8.5 8.5l.94-2.06 2.06-.94-2.06-.94L8.5 2.5l-.94 2.06-2.06.94zm10 10l.94 2.06.94-2.06 2.06-.94-2.06-.94-.94-2.06-.94 2.06-2.06.94z\"/><path d=\"M17.41 7.96l-1.37-1.37c-.4-.4-.92-.59-1.43-.59-.52 0-1.04.2-1.43.59L10.3 9.45l-7.72 7.72c-.78.78-.78 2.05 0 2.83L4 21.41c.39.39.9.59 1.41.59.51 0 1.02-.2 1.41-.59l7.78-7.78 2.81-2.81c.8-.78.8-2.07 0-2.86zM5.41 20L4 18.59l7.72-7.72 1.47 1.35L5.41 20z\"/>\n",
              "  </svg>\n",
              "      </button>\n",
              "      \n",
              "  <style>\n",
              "    .colab-df-container {\n",
              "      display:flex;\n",
              "      flex-wrap:wrap;\n",
              "      gap: 12px;\n",
              "    }\n",
              "\n",
              "    .colab-df-convert {\n",
              "      background-color: #E8F0FE;\n",
              "      border: none;\n",
              "      border-radius: 50%;\n",
              "      cursor: pointer;\n",
              "      display: none;\n",
              "      fill: #1967D2;\n",
              "      height: 32px;\n",
              "      padding: 0 0 0 0;\n",
              "      width: 32px;\n",
              "    }\n",
              "\n",
              "    .colab-df-convert:hover {\n",
              "      background-color: #E2EBFA;\n",
              "      box-shadow: 0px 1px 2px rgba(60, 64, 67, 0.3), 0px 1px 3px 1px rgba(60, 64, 67, 0.15);\n",
              "      fill: #174EA6;\n",
              "    }\n",
              "\n",
              "    [theme=dark] .colab-df-convert {\n",
              "      background-color: #3B4455;\n",
              "      fill: #D2E3FC;\n",
              "    }\n",
              "\n",
              "    [theme=dark] .colab-df-convert:hover {\n",
              "      background-color: #434B5C;\n",
              "      box-shadow: 0px 1px 3px 1px rgba(0, 0, 0, 0.15);\n",
              "      filter: drop-shadow(0px 1px 2px rgba(0, 0, 0, 0.3));\n",
              "      fill: #FFFFFF;\n",
              "    }\n",
              "  </style>\n",
              "\n",
              "      <script>\n",
              "        const buttonEl =\n",
              "          document.querySelector('#df-866865b6-b271-4731-9770-5c67525d6d42 button.colab-df-convert');\n",
              "        buttonEl.style.display =\n",
              "          google.colab.kernel.accessAllowed ? 'block' : 'none';\n",
              "\n",
              "        async function convertToInteractive(key) {\n",
              "          const element = document.querySelector('#df-866865b6-b271-4731-9770-5c67525d6d42');\n",
              "          const dataTable =\n",
              "            await google.colab.kernel.invokeFunction('convertToInteractive',\n",
              "                                                     [key], {});\n",
              "          if (!dataTable) return;\n",
              "\n",
              "          const docLinkHtml = 'Like what you see? Visit the ' +\n",
              "            '<a target=\"_blank\" href=https://colab.research.google.com/notebooks/data_table.ipynb>data table notebook</a>'\n",
              "            + ' to learn more about interactive tables.';\n",
              "          element.innerHTML = '';\n",
              "          dataTable['output_type'] = 'display_data';\n",
              "          await google.colab.output.renderOutput(dataTable, element);\n",
              "          const docLink = document.createElement('div');\n",
              "          docLink.innerHTML = docLinkHtml;\n",
              "          element.appendChild(docLink);\n",
              "        }\n",
              "      </script>\n",
              "    </div>\n",
              "  </div>\n",
              "  "
            ]
          },
          "metadata": {},
          "execution_count": 16
        }
      ]
    },
    {
      "cell_type": "markdown",
      "source": [
        "###Encode Encrypted Data"
      ],
      "metadata": {
        "id": "Z39fZRRoupFs"
      }
    },
    {
      "cell_type": "code",
      "source": [
        "#Use LabelEncoder to simplify user ids and song ids\n",
        "from sklearn.preprocessing import LabelEncoder\n",
        "data = count_with_title[['user_id', 'song_id']].apply(LabelEncoder().fit_transform)\n",
        "data['play_count'] = count_with_title['play_count']\n",
        "data['title'] = count_with_title['title']\n",
        "data['artist_name'] = count_with_title['artist_name']\n",
        "data['year'] = count_with_title['year']\n",
        "\n",
        "data.head()"
      ],
      "metadata": {
        "colab": {
          "base_uri": "https://localhost:8080/",
          "height": 206
        },
        "id": "o0K1ZoQpNneh",
        "outputId": "9920c014-0bf6-4e5b-bd36-ec8c2de459b9"
      },
      "execution_count": null,
      "outputs": [
        {
          "output_type": "execute_result",
          "data": {
            "text/plain": [
              "   user_id  song_id  play_count            title    artist_name    year\n",
              "0    54961      153           1         The Cove   Jack Johnson     NaN\n",
              "1    54961      413           2  Entre Dos Aguas  Paco De Lucia  1976.0\n",
              "2    54961      736           1         Stronger     Kanye West  2007.0\n",
              "3    54961      736           1         Stronger     Kanye West  2007.0\n",
              "4    54961      750           1   Constellations   Jack Johnson  2005.0"
            ],
            "text/html": [
              "\n",
              "  <div id=\"df-d7369224-b556-4b7f-83c8-59ca971c2d50\">\n",
              "    <div class=\"colab-df-container\">\n",
              "      <div>\n",
              "<style scoped>\n",
              "    .dataframe tbody tr th:only-of-type {\n",
              "        vertical-align: middle;\n",
              "    }\n",
              "\n",
              "    .dataframe tbody tr th {\n",
              "        vertical-align: top;\n",
              "    }\n",
              "\n",
              "    .dataframe thead th {\n",
              "        text-align: right;\n",
              "    }\n",
              "</style>\n",
              "<table border=\"1\" class=\"dataframe\">\n",
              "  <thead>\n",
              "    <tr style=\"text-align: right;\">\n",
              "      <th></th>\n",
              "      <th>user_id</th>\n",
              "      <th>song_id</th>\n",
              "      <th>play_count</th>\n",
              "      <th>title</th>\n",
              "      <th>artist_name</th>\n",
              "      <th>year</th>\n",
              "    </tr>\n",
              "  </thead>\n",
              "  <tbody>\n",
              "    <tr>\n",
              "      <th>0</th>\n",
              "      <td>54961</td>\n",
              "      <td>153</td>\n",
              "      <td>1</td>\n",
              "      <td>The Cove</td>\n",
              "      <td>Jack Johnson</td>\n",
              "      <td>NaN</td>\n",
              "    </tr>\n",
              "    <tr>\n",
              "      <th>1</th>\n",
              "      <td>54961</td>\n",
              "      <td>413</td>\n",
              "      <td>2</td>\n",
              "      <td>Entre Dos Aguas</td>\n",
              "      <td>Paco De Lucia</td>\n",
              "      <td>1976.0</td>\n",
              "    </tr>\n",
              "    <tr>\n",
              "      <th>2</th>\n",
              "      <td>54961</td>\n",
              "      <td>736</td>\n",
              "      <td>1</td>\n",
              "      <td>Stronger</td>\n",
              "      <td>Kanye West</td>\n",
              "      <td>2007.0</td>\n",
              "    </tr>\n",
              "    <tr>\n",
              "      <th>3</th>\n",
              "      <td>54961</td>\n",
              "      <td>736</td>\n",
              "      <td>1</td>\n",
              "      <td>Stronger</td>\n",
              "      <td>Kanye West</td>\n",
              "      <td>2007.0</td>\n",
              "    </tr>\n",
              "    <tr>\n",
              "      <th>4</th>\n",
              "      <td>54961</td>\n",
              "      <td>750</td>\n",
              "      <td>1</td>\n",
              "      <td>Constellations</td>\n",
              "      <td>Jack Johnson</td>\n",
              "      <td>2005.0</td>\n",
              "    </tr>\n",
              "  </tbody>\n",
              "</table>\n",
              "</div>\n",
              "      <button class=\"colab-df-convert\" onclick=\"convertToInteractive('df-d7369224-b556-4b7f-83c8-59ca971c2d50')\"\n",
              "              title=\"Convert this dataframe to an interactive table.\"\n",
              "              style=\"display:none;\">\n",
              "        \n",
              "  <svg xmlns=\"http://www.w3.org/2000/svg\" height=\"24px\"viewBox=\"0 0 24 24\"\n",
              "       width=\"24px\">\n",
              "    <path d=\"M0 0h24v24H0V0z\" fill=\"none\"/>\n",
              "    <path d=\"M18.56 5.44l.94 2.06.94-2.06 2.06-.94-2.06-.94-.94-2.06-.94 2.06-2.06.94zm-11 1L8.5 8.5l.94-2.06 2.06-.94-2.06-.94L8.5 2.5l-.94 2.06-2.06.94zm10 10l.94 2.06.94-2.06 2.06-.94-2.06-.94-.94-2.06-.94 2.06-2.06.94z\"/><path d=\"M17.41 7.96l-1.37-1.37c-.4-.4-.92-.59-1.43-.59-.52 0-1.04.2-1.43.59L10.3 9.45l-7.72 7.72c-.78.78-.78 2.05 0 2.83L4 21.41c.39.39.9.59 1.41.59.51 0 1.02-.2 1.41-.59l7.78-7.78 2.81-2.81c.8-.78.8-2.07 0-2.86zM5.41 20L4 18.59l7.72-7.72 1.47 1.35L5.41 20z\"/>\n",
              "  </svg>\n",
              "      </button>\n",
              "      \n",
              "  <style>\n",
              "    .colab-df-container {\n",
              "      display:flex;\n",
              "      flex-wrap:wrap;\n",
              "      gap: 12px;\n",
              "    }\n",
              "\n",
              "    .colab-df-convert {\n",
              "      background-color: #E8F0FE;\n",
              "      border: none;\n",
              "      border-radius: 50%;\n",
              "      cursor: pointer;\n",
              "      display: none;\n",
              "      fill: #1967D2;\n",
              "      height: 32px;\n",
              "      padding: 0 0 0 0;\n",
              "      width: 32px;\n",
              "    }\n",
              "\n",
              "    .colab-df-convert:hover {\n",
              "      background-color: #E2EBFA;\n",
              "      box-shadow: 0px 1px 2px rgba(60, 64, 67, 0.3), 0px 1px 3px 1px rgba(60, 64, 67, 0.15);\n",
              "      fill: #174EA6;\n",
              "    }\n",
              "\n",
              "    [theme=dark] .colab-df-convert {\n",
              "      background-color: #3B4455;\n",
              "      fill: #D2E3FC;\n",
              "    }\n",
              "\n",
              "    [theme=dark] .colab-df-convert:hover {\n",
              "      background-color: #434B5C;\n",
              "      box-shadow: 0px 1px 3px 1px rgba(0, 0, 0, 0.15);\n",
              "      filter: drop-shadow(0px 1px 2px rgba(0, 0, 0, 0.3));\n",
              "      fill: #FFFFFF;\n",
              "    }\n",
              "  </style>\n",
              "\n",
              "      <script>\n",
              "        const buttonEl =\n",
              "          document.querySelector('#df-d7369224-b556-4b7f-83c8-59ca971c2d50 button.colab-df-convert');\n",
              "        buttonEl.style.display =\n",
              "          google.colab.kernel.accessAllowed ? 'block' : 'none';\n",
              "\n",
              "        async function convertToInteractive(key) {\n",
              "          const element = document.querySelector('#df-d7369224-b556-4b7f-83c8-59ca971c2d50');\n",
              "          const dataTable =\n",
              "            await google.colab.kernel.invokeFunction('convertToInteractive',\n",
              "                                                     [key], {});\n",
              "          if (!dataTable) return;\n",
              "\n",
              "          const docLinkHtml = 'Like what you see? Visit the ' +\n",
              "            '<a target=\"_blank\" href=https://colab.research.google.com/notebooks/data_table.ipynb>data table notebook</a>'\n",
              "            + ' to learn more about interactive tables.';\n",
              "          element.innerHTML = '';\n",
              "          dataTable['output_type'] = 'display_data';\n",
              "          await google.colab.output.renderOutput(dataTable, element);\n",
              "          const docLink = document.createElement('div');\n",
              "          docLink.innerHTML = docLinkHtml;\n",
              "          element.appendChild(docLink);\n",
              "        }\n",
              "      </script>\n",
              "    </div>\n",
              "  </div>\n",
              "  "
            ]
          },
          "metadata": {},
          "execution_count": 17
        }
      ]
    },
    {
      "cell_type": "code",
      "source": [
        "data.info()"
      ],
      "metadata": {
        "colab": {
          "base_uri": "https://localhost:8080/"
        },
        "id": "yDVOqvHfN0bS",
        "outputId": "0843e9a5-6317-4383-c4df-616882b0438c"
      },
      "execution_count": null,
      "outputs": [
        {
          "output_type": "stream",
          "name": "stdout",
          "text": [
            "<class 'pandas.core.frame.DataFrame'>\n",
            "Int64Index: 2086946 entries, 0 to 2086945\n",
            "Data columns (total 6 columns):\n",
            " #   Column       Dtype  \n",
            "---  ------       -----  \n",
            " 0   user_id      int64  \n",
            " 1   song_id      int64  \n",
            " 2   play_count   int64  \n",
            " 3   title        object \n",
            " 4   artist_name  object \n",
            " 5   year         float64\n",
            "dtypes: float64(1), int64(3), object(2)\n",
            "memory usage: 111.5+ MB\n"
          ]
        }
      ]
    },
    {
      "cell_type": "markdown",
      "source": [
        "With the merge, we gained an additional 86,946 rows. Let's check if there are duplicates. If so, use drop_duplicates()."
      ],
      "metadata": {
        "id": "oze9s9Kl_00r"
      }
    },
    {
      "cell_type": "code",
      "source": [
        "data.duplicated().sum()"
      ],
      "metadata": {
        "colab": {
          "base_uri": "https://localhost:8080/"
        },
        "id": "Ocwu2CPlAXNj",
        "outputId": "475d6f8a-b6f3-4b6a-adbd-a0ae5561dbdd"
      },
      "execution_count": null,
      "outputs": [
        {
          "output_type": "execute_result",
          "data": {
            "text/plain": [
              "70827"
            ]
          },
          "metadata": {},
          "execution_count": 19
        }
      ]
    },
    {
      "cell_type": "code",
      "source": [
        "data.drop_duplicates(subset=['user_id','song_id'], keep='first', inplace=True, ignore_index= True)"
      ],
      "metadata": {
        "id": "iSGaM5JgOAGk"
      },
      "execution_count": null,
      "outputs": []
    },
    {
      "cell_type": "code",
      "source": [
        "data.info()"
      ],
      "metadata": {
        "colab": {
          "base_uri": "https://localhost:8080/"
        },
        "id": "SqM-rzKSOM9O",
        "outputId": "0cfab060-89e9-4346-87f7-2cd0020e16ac"
      },
      "execution_count": null,
      "outputs": [
        {
          "output_type": "stream",
          "name": "stdout",
          "text": [
            "<class 'pandas.core.frame.DataFrame'>\n",
            "RangeIndex: 2000000 entries, 0 to 1999999\n",
            "Data columns (total 6 columns):\n",
            " #   Column       Dtype  \n",
            "---  ------       -----  \n",
            " 0   user_id      int64  \n",
            " 1   song_id      int64  \n",
            " 2   play_count   int64  \n",
            " 3   title        object \n",
            " 4   artist_name  object \n",
            " 5   year         float64\n",
            "dtypes: float64(1), int64(3), object(2)\n",
            "memory usage: 91.6+ MB\n"
          ]
        }
      ]
    },
    {
      "cell_type": "code",
      "source": [
        "df = data.copy()\n",
        "df2 = data.copy()\n",
        "df3 = data.copy()"
      ],
      "metadata": {
        "id": "rI8-XR_qOOh0"
      },
      "execution_count": null,
      "outputs": []
    },
    {
      "cell_type": "markdown",
      "source": [
        "In this first section, I:\n",
        "- observed the datatypes, null values, and unique values in each imported dataset\n",
        "- dropped columns that did not offer much insight\n",
        "- merged the datasets on song_id into one data set and dropped duplicates\n",
        "- encoded the encryped user_id and song_id for a simplified dataframe\n",
        "- made copies of this final and simplified dataset just in case"
      ],
      "metadata": {
        "id": "4k17k48pOuAa"
      }
    },
    {
      "cell_type": "markdown",
      "source": [
        "#**Exploratory Data Analysis**\n",
        "\n",
        "In this section, I will explore the information provided by the data that will offer the most insight. "
      ],
      "metadata": {
        "id": "Bk1MQa66OsMW"
      }
    },
    {
      "cell_type": "code",
      "source": [
        "data['play_count'].describe()"
      ],
      "metadata": {
        "colab": {
          "base_uri": "https://localhost:8080/"
        },
        "id": "nlcLqLwxPRgd",
        "outputId": "cf0a5862-8603-4c27-8d57-3e7cd8233d9e"
      },
      "execution_count": null,
      "outputs": [
        {
          "output_type": "execute_result",
          "data": {
            "text/plain": [
              "count    2.000000e+06\n",
              "mean     3.045485e+00\n",
              "std      6.579720e+00\n",
              "min      1.000000e+00\n",
              "25%      1.000000e+00\n",
              "50%      1.000000e+00\n",
              "75%      3.000000e+00\n",
              "max      2.213000e+03\n",
              "Name: play_count, dtype: float64"
            ]
          },
          "metadata": {},
          "execution_count": 23
        }
      ]
    },
    {
      "cell_type": "markdown",
      "source": [
        "- This summary statistic shows that 75% of observations (aka user + song combo) have a playcount of 3 or less, with a mean of 3 and a median of 1. \n",
        "- This does not say much about the popularity of the song itself but rather that most users don't listen to a particular song more than 3 times. \n",
        "- The upper quartile (between 3rd quartile and max), however, seems to be where A LOT of outliers live since the data set has 295 unique playcounts and a max of 2213 counts for one user+song combo\n",
        "- With this in mind, perhaps drop any rows that have more than 3 play counts (or 10 for wiggle room)/have a cutoff when developing models or just drop users have have listened to less than a certain amount of songs and vice versa\n"
      ],
      "metadata": {
        "id": "fhlHhGp-Q78I"
      }
    },
    {
      "cell_type": "code",
      "source": [
        "data['play_count'].value_counts()"
      ],
      "metadata": {
        "colab": {
          "base_uri": "https://localhost:8080/"
        },
        "id": "jWf0LM89Q-Ck",
        "outputId": "2a88fc36-ecbc-49e7-82b6-5160760a97e0"
      },
      "execution_count": null,
      "outputs": [
        {
          "output_type": "execute_result",
          "data": {
            "text/plain": [
              "1      1138433\n",
              "2       313043\n",
              "3       142933\n",
              "5        93136\n",
              "4        82569\n",
              "        ...   \n",
              "255          1\n",
              "302          1\n",
              "330          1\n",
              "431          1\n",
              "260          1\n",
              "Name: play_count, Length: 295, dtype: int64"
            ]
          },
          "metadata": {},
          "execution_count": 24
        }
      ]
    },
    {
      "cell_type": "markdown",
      "source": [
        "- This value_counts method corroborates the observations noted above, with the majority of observations (user + song combo) having a play count below 3 and 4 to 2213 being the outliers\n",
        "\n",
        "Which song has the most play counts?"
      ],
      "metadata": {
        "id": "oscX9lA1Rffi"
      }
    },
    {
      "cell_type": "code",
      "source": [
        "data.groupby('song_id').sum()['play_count'].sort_values(ascending = False)"
      ],
      "metadata": {
        "colab": {
          "base_uri": "https://localhost:8080/"
        },
        "id": "2YUJhBOXRbTn",
        "outputId": "8946dee3-6890-4732-ea7b-bd2fd88c54ba"
      },
      "execution_count": null,
      "outputs": [
        {
          "output_type": "execute_result",
          "data": {
            "text/plain": [
              "song_id\n",
              "614     54136\n",
              "317     49253\n",
              "7416    41418\n",
              "1664    31153\n",
              "2220    31036\n",
              "        ...  \n",
              "164        76\n",
              "7251       75\n",
              "1771       73\n",
              "5402       73\n",
              "3971       71\n",
              "Name: play_count, Length: 10000, dtype: int64"
            ]
          },
          "metadata": {},
          "execution_count": 25
        }
      ]
    },
    {
      "cell_type": "markdown",
      "source": [
        "The most a song has been listened to is 54,136 times and the least is 71 times."
      ],
      "metadata": {
        "id": "FyaN9FBVvhPK"
      }
    },
    {
      "cell_type": "code",
      "source": [
        "data.groupby('song_id').sum()['play_count'].sort_values(ascending = False).describe()"
      ],
      "metadata": {
        "colab": {
          "base_uri": "https://localhost:8080/"
        },
        "id": "eRRtELbURsb-",
        "outputId": "ab10228d-febb-489c-9dac-62e97e858907"
      },
      "execution_count": null,
      "outputs": [
        {
          "output_type": "execute_result",
          "data": {
            "text/plain": [
              "count    10000.000000\n",
              "mean       609.096900\n",
              "std       1401.268442\n",
              "min         71.000000\n",
              "25%        221.000000\n",
              "50%        336.000000\n",
              "75%        587.000000\n",
              "max      54136.000000\n",
              "Name: play_count, dtype: float64"
            ]
          },
          "metadata": {},
          "execution_count": 26
        }
      ]
    },
    {
      "cell_type": "markdown",
      "source": [
        "- The above observations show each song's total playcount\n",
        "- Summary statistics:\n",
        "1. The average song is listened to a total of 609 times, however, looking at the data, the mean is sensitive to outliers\n",
        "2. The median playcount of songs in this data set is 336 times.\n",
        "3. The majority of the songs in this dataset were listened to less than 587 times. This suggests that the 4th quartile (between 75% and max value) holds A LOT of outliers, with the most popular song in the data set - You're The One - being listened to over 54,000+ times. "
      ],
      "metadata": {
        "id": "D-bl4PqsRwqW"
      }
    },
    {
      "cell_type": "markdown",
      "source": [
        "Which song has been listened to by the most users?"
      ],
      "metadata": {
        "id": "AkOGyoK3wCY7"
      }
    },
    {
      "cell_type": "code",
      "source": [
        "data.groupby('song_id').count()['user_id'].sort_values(ascending = False)"
      ],
      "metadata": {
        "colab": {
          "base_uri": "https://localhost:8080/"
        },
        "id": "hW-yF7XlRq3X",
        "outputId": "59a03aff-a91c-426e-c967-fe5d5578fdbb"
      },
      "execution_count": null,
      "outputs": [
        {
          "output_type": "execute_result",
          "data": {
            "text/plain": [
              "song_id\n",
              "2220    8277\n",
              "317     7032\n",
              "352     6949\n",
              "614     6412\n",
              "7416    6145\n",
              "        ... \n",
              "8747      51\n",
              "4492      51\n",
              "622       50\n",
              "9638      48\n",
              "2666      48\n",
              "Name: user_id, Length: 10000, dtype: int64"
            ]
          },
          "metadata": {},
          "execution_count": 27
        }
      ]
    },
    {
      "cell_type": "markdown",
      "source": [
        "Which user has listened to the most songs?"
      ],
      "metadata": {
        "id": "MffYuaouwKDZ"
      }
    },
    {
      "cell_type": "code",
      "source": [
        "data.groupby('user_id').count()['song_id'].sort_values(ascending = False)"
      ],
      "metadata": {
        "colab": {
          "base_uri": "https://localhost:8080/"
        },
        "id": "A85JNHdpR8Dq",
        "outputId": "7751c546-d367-4fc5-df2b-97bdf2776f09"
      },
      "execution_count": null,
      "outputs": [
        {
          "output_type": "execute_result",
          "data": {
            "text/plain": [
              "user_id\n",
              "32542    711\n",
              "75144    643\n",
              "23297    556\n",
              "10807    540\n",
              "7834     533\n",
              "        ... \n",
              "4929       1\n",
              "40445      1\n",
              "19698      1\n",
              "40417      1\n",
              "56932      1\n",
              "Name: song_id, Length: 76353, dtype: int64"
            ]
          },
          "metadata": {},
          "execution_count": 28
        }
      ]
    },
    {
      "cell_type": "markdown",
      "source": [
        "- The song with the lowest number of users/listeners is song_id = 2666 and highest is song_id = 2220. However, the same cannot be said when considering the total playcount for each song. \n",
        "- The user that has listened to the most unique number of songs is user_id = 32542 and many users have only listened to one song, however, that does not necessarily mean they have only listened to the song once. \n",
        "- However, looking at the dataset, it looks like it makes most sense to reduce the dataset by removing users that have listened below a certain number of songs and removing songs that have only been listened by a small number of users (especially since there are over 75,000 users and 10,000 songs). This is because we are more likely to find similarities between users that have listened to a wide range of songs and items that have been listened to by a large number of listeners. Playcount, in itself, will not provide much insight into the patterns to create an effective recommendation system."
      ],
      "metadata": {
        "id": "GeUASGh6SE6Q"
      }
    },
    {
      "cell_type": "code",
      "source": [
        "plt.figure(figsize = (20,4))\n",
        "sns.countplot(data = data, x = 'play_count')\n",
        "plt.title('Distribution of Song Playcounts')\n",
        "plt.xlabel('Song Play Counts')\n",
        "plt.ylabel('Frequency of Counts')\n",
        "plt.show()"
      ],
      "metadata": {
        "colab": {
          "base_uri": "https://localhost:8080/",
          "height": 295
        },
        "id": "henGU2G0ibsj",
        "outputId": "f420da01-39d4-4fa2-d0d2-efd1b9a120cf"
      },
      "execution_count": null,
      "outputs": [
        {
          "output_type": "display_data",
          "data": {
            "text/plain": [
              "<Figure size 1440x288 with 1 Axes>"
            ],
            "image/png": "[encoded data removed]"
          },
          "metadata": {
            "needs_background": "light"
          }
        }
      ]
    },
    {
      "cell_type": "markdown",
      "source": [
        "This plot shows that after about 10 play_counts, the rest are just outliers. So, when dropping rows, consider dropping rows where a user has listened to a song over 10 times."
      ],
      "metadata": {
        "id": "RxQH4Hey1GVz"
      }
    },
    {
      "cell_type": "markdown",
      "source": [
        "##**Data Preparation**\n",
        "\n",
        "As this dataset is quite large and has 2 million observations, it is not going be computationally efficient to build a model using this. Moreover, there are many users who have only listened to a few songs and also there are songs listened by few users. Hence we can reduce the dataset to a more manageable amount of observations by considering certain logical assumptions, such as:\n",
        "- removing users that have listened to less than 50 songs don't have much insight into the songs available or not very interested in music. Test other values if dataset is not significantly reduced\n",
        "- removing songs that do not have at least 100 listeners won't be listened by many more thus do not offer much insight. Test other values if dataset is not significantly reduced\n",
        "- removing songs that have users have listened to over 10 times\n",
        "\n",
        "Let's see how this helps reduce the dataset for now. "
      ],
      "metadata": {
        "id": "D_1ezRJYd-Gj"
      }
    },
    {
      "cell_type": "markdown",
      "source": [
        "###Drop users who listen to less than 100 songs"
      ],
      "metadata": {
        "id": "K6knAeR5edmO"
      }
    },
    {
      "cell_type": "code",
      "source": [
        "users = data.user_id\n",
        "song_count = dict()\n",
        "for user in users:\n",
        "  if user in song_count:\n",
        "    song_count[user] += 1\n",
        "  else:\n",
        "    song_count[user] = 1"
      ],
      "metadata": {
        "id": "-gwvHkkLUhSP"
      },
      "execution_count": null,
      "outputs": []
    },
    {
      "cell_type": "code",
      "source": [
        "song_count_cutoff = 100\n",
        "\n",
        "remove_users = []\n",
        "\n",
        "for user, num_songs in song_count.items():\n",
        "  if num_songs < song_count_cutoff:\n",
        "    remove_users.append(user)\n",
        "data = data.loc[~data.user_id.isin(remove_users)]"
      ],
      "metadata": {
        "id": "KQtm3FPBf9Gn"
      },
      "execution_count": null,
      "outputs": []
    },
    {
      "cell_type": "code",
      "source": [
        "data.info()"
      ],
      "metadata": {
        "colab": {
          "base_uri": "https://localhost:8080/"
        },
        "id": "G_oP91f5gj4b",
        "outputId": "fb4356d8-a0e3-4284-b75b-d070ea7e8a5c"
      },
      "execution_count": null,
      "outputs": [
        {
          "output_type": "stream",
          "name": "stdout",
          "text": [
            "<class 'pandas.core.frame.DataFrame'>\n",
            "Int64Index: 373273 entries, 196 to 1999769\n",
            "Data columns (total 6 columns):\n",
            " #   Column       Non-Null Count   Dtype  \n",
            "---  ------       --------------   -----  \n",
            " 0   user_id      373273 non-null  int64  \n",
            " 1   song_id      373273 non-null  int64  \n",
            " 2   play_count   373273 non-null  int64  \n",
            " 3   title        373273 non-null  object \n",
            " 4   artist_name  373273 non-null  object \n",
            " 5   year         310993 non-null  float64\n",
            "dtypes: float64(1), int64(3), object(2)\n",
            "memory usage: 19.9+ MB\n"
          ]
        }
      ]
    },
    {
      "cell_type": "code",
      "source": [
        "data.nunique()"
      ],
      "metadata": {
        "colab": {
          "base_uri": "https://localhost:8080/"
        },
        "id": "LrrLHiH2go2q",
        "outputId": "7dd35a63-20b1-4c99-ff3b-028870774fd2"
      },
      "execution_count": null,
      "outputs": [
        {
          "output_type": "execute_result",
          "data": {
            "text/plain": [
              "user_id        2466\n",
              "song_id        9996\n",
              "play_count      151\n",
              "title          9563\n",
              "artist_name    3372\n",
              "year             57\n",
              "dtype: int64"
            ]
          },
          "metadata": {},
          "execution_count": 33
        }
      ]
    },
    {
      "cell_type": "markdown",
      "source": [
        "This technique reduced the dataset by over half and users by ~85%"
      ],
      "metadata": {
        "id": "8-ILtA3nguc8"
      }
    },
    {
      "cell_type": "code",
      "source": [
        "songs = data.song_id\n",
        "user_count = dict()\n",
        "\n",
        "for song in songs:\n",
        "  if song in user_count:\n",
        "    user_count[song] += 1\n",
        "  else:\n",
        "    user_count[song] = 1"
      ],
      "metadata": {
        "id": "mOkellUAgs7b"
      },
      "execution_count": null,
      "outputs": []
    },
    {
      "cell_type": "code",
      "source": [
        "user_count_cutoff = 100\n",
        "remove_songs = []\n",
        "\n",
        "for song, num_users in user_count.items():\n",
        "  if num_users < user_count_cutoff:\n",
        "    remove_songs.append(song)\n",
        "data = data.loc[~data.song_id.isin(remove_songs)]"
      ],
      "metadata": {
        "id": "6ROWTIpzhPWA"
      },
      "execution_count": null,
      "outputs": []
    },
    {
      "cell_type": "code",
      "source": [
        "data.drop(data.index[data['play_count'] > 10], inplace = True )"
      ],
      "metadata": {
        "id": "liAiI5KSmIJe"
      },
      "execution_count": null,
      "outputs": []
    },
    {
      "cell_type": "code",
      "source": [
        "df_final = data"
      ],
      "metadata": {
        "id": "fjcEmZ7joqX8"
      },
      "execution_count": null,
      "outputs": []
    },
    {
      "cell_type": "code",
      "source": [
        "df_final.info()"
      ],
      "metadata": {
        "colab": {
          "base_uri": "https://localhost:8080/"
        },
        "id": "r2_ddWM-nlH0",
        "outputId": "efb64095-d418-477b-91e1-0eee7f385aaa"
      },
      "execution_count": null,
      "outputs": [
        {
          "output_type": "stream",
          "name": "stdout",
          "text": [
            "<class 'pandas.core.frame.DataFrame'>\n",
            "Int64Index: 112921 entries, 200 to 1999765\n",
            "Data columns (total 6 columns):\n",
            " #   Column       Non-Null Count   Dtype  \n",
            "---  ------       --------------   -----  \n",
            " 0   user_id      112921 non-null  int64  \n",
            " 1   song_id      112921 non-null  int64  \n",
            " 2   play_count   112921 non-null  int64  \n",
            " 3   title        112921 non-null  object \n",
            " 4   artist_name  112921 non-null  object \n",
            " 5   year         93141 non-null   float64\n",
            "dtypes: float64(1), int64(3), object(2)\n",
            "memory usage: 6.0+ MB\n"
          ]
        }
      ]
    },
    {
      "cell_type": "code",
      "source": [
        "df_final.nunique()"
      ],
      "metadata": {
        "colab": {
          "base_uri": "https://localhost:8080/"
        },
        "id": "Dci_1y4jnq2B",
        "outputId": "01490e22-9ffd-4d75-91aa-3a631ac2a376"
      },
      "execution_count": null,
      "outputs": [
        {
          "output_type": "execute_result",
          "data": {
            "text/plain": [
              "user_id        2466\n",
              "song_id         610\n",
              "play_count       10\n",
              "title           607\n",
              "artist_name     237\n",
              "year             35\n",
              "dtype: int64"
            ]
          },
          "metadata": {},
          "execution_count": 39
        }
      ]
    },
    {
      "cell_type": "markdown",
      "source": [
        "Observations:\n",
        "Final dataset to analyze:\n",
        "- 112,921 observations\n",
        "- 2466 users\n",
        "- 610 songs\n",
        "- 10 unique playcounts\n",
        "- 607 titles\n",
        "- 237 artists\n",
        "- 35 unique years"
      ],
      "metadata": {
        "id": "3UUsyCpWh5fi"
      }
    },
    {
      "cell_type": "markdown",
      "source": [
        "In Milestone 2, I will explore various recommendation system techniques such as:\n",
        "- Rank Based\n",
        "- Similarity Based Collaborative Filtering\n",
        "- Matrix-Factorization Collaborative Filtering. "
      ],
      "metadata": {
        "id": "2diM104YA2ET"
      }
    },
    {
      "cell_type": "markdown",
      "source": [
        "#**Milestone 2**: Building Recommendation Systems"
      ],
      "metadata": {
        "id": "pgfHD0QFGrX3"
      }
    },
    {
      "cell_type": "markdown",
      "source": [
        "## **Model 1: Create Rank-Based Recommendation System**\n",
        "\n",
        "- Rank-based recommendation systems provide recommendations based on the most popular items. This kind of recommendation system is useful when we have cold start problems. Cold start refers to the issue when we get a new user into the system and the machine is not able to recommend a song to the new user, as the user did not have any historical interactions in the dataset. In those cases, we can use rank-based recommendation system to recommend a song to the new user.\n",
        "\n",
        "- To build the rank-based recommendation system, we take average of all the play counts provided to each song and then rank them based on their average play count."
      ],
      "metadata": {
        "id": "FWSTUZ_rG7xe"
      }
    },
    {
      "cell_type": "code",
      "source": [
        "df_final = data"
      ],
      "metadata": {
        "id": "L50xTh7GG5VE"
      },
      "execution_count": null,
      "outputs": []
    },
    {
      "cell_type": "code",
      "source": [
        "average_playcount = df_final.groupby('song_id').mean()['play_count']\n",
        "play_frequency = df_final.groupby('song_id').count()['play_count']\n",
        "final_count = pd.DataFrame({'avg_play_count': average_playcount, 'play_frequency': play_frequency})\n",
        "final_count"
      ],
      "metadata": {
        "colab": {
          "base_uri": "https://localhost:8080/",
          "height": 455
        },
        "id": "wLq_C1EtImI3",
        "outputId": "c310393a-a187-47e5-d68b-68511cc2b8d1"
      },
      "execution_count": null,
      "outputs": [
        {
          "output_type": "execute_result",
          "data": {
            "text/plain": [
              "         avg_play_count  play_frequency\n",
              "song_id                                \n",
              "21             1.782979             235\n",
              "22             1.619835             121\n",
              "52             2.054404             386\n",
              "62             1.990385             104\n",
              "93             1.779817             109\n",
              "...                 ...             ...\n",
              "9939           2.195349             215\n",
              "9942           3.516340             153\n",
              "9960           1.736434             129\n",
              "9981           2.272059             136\n",
              "9989           1.298077             104\n",
              "\n",
              "[610 rows x 2 columns]"
            ],
            "text/html": [
              "\n",
              "  <div id=\"df-0133d82a-99af-4876-b082-c4681a9968e2\">\n",
              "    <div class=\"colab-df-container\">\n",
              "      <div>\n",
              "<style scoped>\n",
              "    .dataframe tbody tr th:only-of-type {\n",
              "        vertical-align: middle;\n",
              "    }\n",
              "\n",
              "    .dataframe tbody tr th {\n",
              "        vertical-align: top;\n",
              "    }\n",
              "\n",
              "    .dataframe thead th {\n",
              "        text-align: right;\n",
              "    }\n",
              "</style>\n",
              "<table border=\"1\" class=\"dataframe\">\n",
              "  <thead>\n",
              "    <tr style=\"text-align: right;\">\n",
              "      <th></th>\n",
              "      <th>avg_play_count</th>\n",
              "      <th>play_frequency</th>\n",
              "    </tr>\n",
              "    <tr>\n",
              "      <th>song_id</th>\n",
              "      <th></th>\n",
              "      <th></th>\n",
              "    </tr>\n",
              "  </thead>\n",
              "  <tbody>\n",
              "    <tr>\n",
              "      <th>21</th>\n",
              "      <td>1.782979</td>\n",
              "      <td>235</td>\n",
              "    </tr>\n",
              "    <tr>\n",
              "      <th>22</th>\n",
              "      <td>1.619835</td>\n",
              "      <td>121</td>\n",
              "    </tr>\n",
              "    <tr>\n",
              "      <th>52</th>\n",
              "      <td>2.054404</td>\n",
              "      <td>386</td>\n",
              "    </tr>\n",
              "    <tr>\n",
              "      <th>62</th>\n",
              "      <td>1.990385</td>\n",
              "      <td>104</td>\n",
              "    </tr>\n",
              "    <tr>\n",
              "      <th>93</th>\n",
              "      <td>1.779817</td>\n",
              "      <td>109</td>\n",
              "    </tr>\n",
              "    <tr>\n",
              "      <th>...</th>\n",
              "      <td>...</td>\n",
              "      <td>...</td>\n",
              "    </tr>\n",
              "    <tr>\n",
              "      <th>9939</th>\n",
              "      <td>2.195349</td>\n",
              "      <td>215</td>\n",
              "    </tr>\n",
              "    <tr>\n",
              "      <th>9942</th>\n",
              "      <td>3.516340</td>\n",
              "      <td>153</td>\n",
              "    </tr>\n",
              "    <tr>\n",
              "      <th>9960</th>\n",
              "      <td>1.736434</td>\n",
              "      <td>129</td>\n",
              "    </tr>\n",
              "    <tr>\n",
              "      <th>9981</th>\n",
              "      <td>2.272059</td>\n",
              "      <td>136</td>\n",
              "    </tr>\n",
              "    <tr>\n",
              "      <th>9989</th>\n",
              "      <td>1.298077</td>\n",
              "      <td>104</td>\n",
              "    </tr>\n",
              "  </tbody>\n",
              "</table>\n",
              "<p>610 rows × 2 columns</p>\n",
              "</div>\n",
              "      <button class=\"colab-df-convert\" onclick=\"convertToInteractive('df-0133d82a-99af-4876-b082-c4681a9968e2')\"\n",
              "              title=\"Convert this dataframe to an interactive table.\"\n",
              "              style=\"display:none;\">\n",
              "        \n",
              "  <svg xmlns=\"http://www.w3.org/2000/svg\" height=\"24px\"viewBox=\"0 0 24 24\"\n",
              "       width=\"24px\">\n",
              "    <path d=\"M0 0h24v24H0V0z\" fill=\"none\"/>\n",
              "    <path d=\"M18.56 5.44l.94 2.06.94-2.06 2.06-.94-2.06-.94-.94-2.06-.94 2.06-2.06.94zm-11 1L8.5 8.5l.94-2.06 2.06-.94-2.06-.94L8.5 2.5l-.94 2.06-2.06.94zm10 10l.94 2.06.94-2.06 2.06-.94-2.06-.94-.94-2.06-.94 2.06-2.06.94z\"/><path d=\"M17.41 7.96l-1.37-1.37c-.4-.4-.92-.59-1.43-.59-.52 0-1.04.2-1.43.59L10.3 9.45l-7.72 7.72c-.78.78-.78 2.05 0 2.83L4 21.41c.39.39.9.59 1.41.59.51 0 1.02-.2 1.41-.59l7.78-7.78 2.81-2.81c.8-.78.8-2.07 0-2.86zM5.41 20L4 18.59l7.72-7.72 1.47 1.35L5.41 20z\"/>\n",
              "  </svg>\n",
              "      </button>\n",
              "      \n",
              "  <style>\n",
              "    .colab-df-container {\n",
              "      display:flex;\n",
              "      flex-wrap:wrap;\n",
              "      gap: 12px;\n",
              "    }\n",
              "\n",
              "    .colab-df-convert {\n",
              "      background-color: #E8F0FE;\n",
              "      border: none;\n",
              "      border-radius: 50%;\n",
              "      cursor: pointer;\n",
              "      display: none;\n",
              "      fill: #1967D2;\n",
              "      height: 32px;\n",
              "      padding: 0 0 0 0;\n",
              "      width: 32px;\n",
              "    }\n",
              "\n",
              "    .colab-df-convert:hover {\n",
              "      background-color: #E2EBFA;\n",
              "      box-shadow: 0px 1px 2px rgba(60, 64, 67, 0.3), 0px 1px 3px 1px rgba(60, 64, 67, 0.15);\n",
              "      fill: #174EA6;\n",
              "    }\n",
              "\n",
              "    [theme=dark] .colab-df-convert {\n",
              "      background-color: #3B4455;\n",
              "      fill: #D2E3FC;\n",
              "    }\n",
              "\n",
              "    [theme=dark] .colab-df-convert:hover {\n",
              "      background-color: #434B5C;\n",
              "      box-shadow: 0px 1px 3px 1px rgba(0, 0, 0, 0.15);\n",
              "      filter: drop-shadow(0px 1px 2px rgba(0, 0, 0, 0.3));\n",
              "      fill: #FFFFFF;\n",
              "    }\n",
              "  </style>\n",
              "\n",
              "      <script>\n",
              "        const buttonEl =\n",
              "          document.querySelector('#df-0133d82a-99af-4876-b082-c4681a9968e2 button.colab-df-convert');\n",
              "        buttonEl.style.display =\n",
              "          google.colab.kernel.accessAllowed ? 'block' : 'none';\n",
              "\n",
              "        async function convertToInteractive(key) {\n",
              "          const element = document.querySelector('#df-0133d82a-99af-4876-b082-c4681a9968e2');\n",
              "          const dataTable =\n",
              "            await google.colab.kernel.invokeFunction('convertToInteractive',\n",
              "                                                     [key], {});\n",
              "          if (!dataTable) return;\n",
              "\n",
              "          const docLinkHtml = 'Like what you see? Visit the ' +\n",
              "            '<a target=\"_blank\" href=https://colab.research.google.com/notebooks/data_table.ipynb>data table notebook</a>'\n",
              "            + ' to learn more about interactive tables.';\n",
              "          element.innerHTML = '';\n",
              "          dataTable['output_type'] = 'display_data';\n",
              "          await google.colab.output.renderOutput(dataTable, element);\n",
              "          const docLink = document.createElement('div');\n",
              "          docLink.innerHTML = docLinkHtml;\n",
              "          element.appendChild(docLink);\n",
              "        }\n",
              "      </script>\n",
              "    </div>\n",
              "  </div>\n",
              "  "
            ]
          },
          "metadata": {},
          "execution_count": 41
        }
      ]
    },
    {
      "cell_type": "markdown",
      "source": [
        "Average playcount = average number of times each user listened to the song\n",
        "\n",
        "Play frequency = total number of times the song was listened to"
      ],
      "metadata": {
        "id": "Qut4tyCQfL4l"
      }
    },
    {
      "cell_type": "code",
      "source": [
        "def top_n_songs(data, n, min_interaction=100):\n",
        "    \n",
        "    # Finding books with minimum number of interactions\n",
        "    recommendations = final_count[final_count['play_frequency'] > min_interaction]\n",
        "    \n",
        "    # Sorting values w.r.t. average rating \n",
        "    recommendations = recommendations.sort_values(by = 'avg_play_count', ascending = False)\n",
        "\n",
        "    return recommendations.index[:n]"
      ],
      "metadata": {
        "id": "l8C6lWj8JzbQ"
      },
      "execution_count": null,
      "outputs": []
    },
    {
      "cell_type": "markdown",
      "source": [
        "Find Top 5 Songs with 50 Minimum Interactions"
      ],
      "metadata": {
        "id": "Pc3NVEMucz5_"
      }
    },
    {
      "cell_type": "code",
      "source": [
        "top_n_songs(final_count, 5, 50)"
      ],
      "metadata": {
        "colab": {
          "base_uri": "https://localhost:8080/"
        },
        "id": "yArGyOuxbHbr",
        "outputId": "d45726da-0e30-4b88-d6c1-a2c88d05d651"
      },
      "execution_count": null,
      "outputs": [
        {
          "output_type": "execute_result",
          "data": {
            "text/plain": [
              "Int64Index([7224, 6450, 8324, 614, 9942], dtype='int64', name='song_id')"
            ]
          },
          "metadata": {},
          "execution_count": 43
        }
      ]
    },
    {
      "cell_type": "markdown",
      "source": [
        "Find top 10 songs with 100 minimum interactions"
      ],
      "metadata": {
        "id": "1h1fOMluc9KN"
      }
    },
    {
      "cell_type": "code",
      "source": [
        "top_n_songs(final_count, 10, 100)"
      ],
      "metadata": {
        "colab": {
          "base_uri": "https://localhost:8080/"
        },
        "id": "CsKt4AW5dDea",
        "outputId": "d8b4574b-183b-4373-e13b-aec00e7f3501"
      },
      "execution_count": null,
      "outputs": [
        {
          "output_type": "execute_result",
          "data": {
            "text/plain": [
              "Int64Index([7224, 6450, 8324, 614, 9942, 6860, 317, 5653, 8483, 1664], dtype='int64', name='song_id')"
            ]
          },
          "metadata": {},
          "execution_count": 44
        }
      ]
    },
    {
      "cell_type": "code",
      "source": [
        "recs = list(top_n_songs(final_count, 5, 50))\n",
        "for i in recs:\n",
        " print(df_final.loc[df_final['song_id'] == i]['title'].unique())"
      ],
      "metadata": {
        "colab": {
          "base_uri": "https://localhost:8080/"
        },
        "id": "RuFy5IvwkqNA",
        "outputId": "f2573c1c-e552-45f0-fdf2-88ec26f0ccee"
      },
      "execution_count": null,
      "outputs": [
        {
          "output_type": "stream",
          "name": "stdout",
          "text": [
            "['Victoria (LP Version)']\n",
            "['Brave The Elements']\n",
            "['The Big Gundown']\n",
            "[\"You're The One\"]\n",
            "['Greece 2000']\n"
          ]
        }
      ]
    },
    {
      "cell_type": "code",
      "source": [
        "recs2 = list(top_n_songs(final_count, 10,100))\n",
        "for i in recs2:\n",
        "  print(df_final[df_final['song_id'] == i]['title'].unique())"
      ],
      "metadata": {
        "colab": {
          "base_uri": "https://localhost:8080/"
        },
        "id": "SLVkdoOFlunZ",
        "outputId": "1fc8ac42-e442-444e-ea2f-f7ff4472a411"
      },
      "execution_count": null,
      "outputs": [
        {
          "output_type": "stream",
          "name": "stdout",
          "text": [
            "['Victoria (LP Version)']\n",
            "['Brave The Elements']\n",
            "['The Big Gundown']\n",
            "[\"You're The One\"]\n",
            "['Greece 2000']\n",
            "['Mercy:The Laundromat']\n",
            "['Undo']\n",
            "['Transparency']\n",
            "['Video Killed The Radio Star']\n",
            "['Horn Concerto No. 4 in E flat K495: II. Romance (Andante cantabile)']\n"
          ]
        }
      ]
    },
    {
      "cell_type": "markdown",
      "source": [
        "#**Similarity-Based Collaborative Filtering**\n",
        "\n",
        "In this type of recommendation system, we do not need any information about the users or items. We only need user-item interaction data to build a collaborative recommendation system. For example: \n",
        "<ol>\n",
        "    <li><b>Ratings</b> provided by users. For example - ratings of books on Goodreads, movie ratings on IMDB, etc.</li>\n",
        "    <li><b>Likes</b> of users on different Facebook posts, likes on youtube videos</li>\n",
        "    <li><b>Use/buying</b> of a product by users. For example - buying different items on e-commerce sites</li>\n",
        "    <li><b>Reading</b> of articles by readers on various blogs</li>\n",
        "    <li><b>Playcounts</b> of songs by users on music streaming platforms</li>\n",
        "</ol>"
      ],
      "metadata": {
        "id": "-I-gciFmm8kQ"
      }
    },
    {
      "cell_type": "markdown",
      "source": [
        "#### **Types of Collaborative Filtering**\n",
        "\n",
        "- Similarity/Neighborhood Based\n",
        "- Matrix Factorization Based\n",
        "\n",
        "But before we start building models, let's define some terminologies:\n",
        "\n",
        "**Relevant item** - An item (book in this case) that is actually **rated higher than the threshold rating (here 7)** is relevant, if the **actual rating is below the threshold then it is a non-relevant item**.  \n",
        "\n",
        "**Recommended item** - An item that's **predicted rating is higher than the threshold (here 7) is a recommended item**, if the **predicted rating is below the threshold then that book will not be recommended to the user**. \n",
        "\n",
        "**False Negative (FN)** - It is the **frequency of relevant items that are not recommended to the user**. If the relevant items are not recommended to the user, then the user might not buy the product/item. This would result in the **loss of opportunity for the service provider** which they would like to minimize.\n",
        "\n",
        "**False Positive (FP)** - It is the **frequency of recommended items that are actually not relevant**. In this case, the recommendation system is not doing a good job of finding and recommending the relevant items to the user. This would result in **loss of resources for the service provider** which they would also like to minimize.\n",
        "\n",
        "**Recall** - It is the **fraction of actually relevant items that are recommended to the user** i.e. if out of 10 relevant books, 6 are recommended to the user then recall is 0.60. Higher the value of recall better is the model. It is one of the metrics to do the performance assessment of classification models.\n",
        "\n",
        "**Precision** - It is the **fraction of recommended items that are relevant actually** i.e. if out of 10 recommended items, 6 are found relevant by the user then precision is 0.60. The higher the value of precision better is the model. It is one of the metrics to do the performance assessment of classification models.\n",
        "\n",
        "**While making a recommendation system it becomes customary to look at the performance of the model. In terms of how many recommendations are relevant and vice-versa, below are the two most used performance metrics used in the assessment of recommendation systems.**\n",
        "\n",
        "####**Precision@k and Recall@k**\n",
        "**Precision@k** - It is the **fraction of recommended items that are relevant in `top k` predictions**. Value of k is the number of recommendations to be provided to the user. One can choose a variable number of recommendations to be given to a unique user.  \n",
        "\n",
        "\n",
        "**Recall@k** - It is the **fraction of relevant items that are recommended to the user in `top k` predictions**.\n",
        "\n",
        "**F1-Score@k** - It is the **harmonic mean of Precision@k and Recall@k**. When **precision@k and recall@k both seem to be important** then it is useful to use this metric because it is representative of both of them. \n",
        "\n",
        "**Some Useful Functions**\n",
        "\n",
        "- The following function takes the **recommendation model** as input and gives the **precision@k and recall@k** for that model.  \n",
        "- To compute **precision and recall**, **top k** predictions are taken under consideration for each user.\n",
        "\n",
        "We are going to start by building a **user-user similarity-based recommendation system** using cosine similarity and using KNN to find similar users who are the nearest neighbor to the given user.\n",
        "\n"
      ],
      "metadata": {
        "id": "b0jWUTKeJ9qJ"
      }
    },
    {
      "cell_type": "markdown",
      "source": [
        "####**Model 2**: User-User Similarity Based Recommendation System\n",
        "\n",
        "\n"
      ],
      "metadata": {
        "id": "nCRu6qnLKob4"
      }
    },
    {
      "cell_type": "code",
      "source": [
        "# The function to calulate the RMSE, precision@k, recall@k, and F_1 score\n",
        "def precision_recall_at_k(model, k = 30, threshold = 1.5):\n",
        "    \"\"\"Return precision and recall at k metrics for each user\n",
        "       Using a threshold of 1.5 since the mean for playcount is 3\n",
        "    \"\"\"\n",
        "\n",
        "    # First map the predictions to each user.\n",
        "    user_est_true = defaultdict(list)\n",
        "    \n",
        "    # Making predictions on the test data\n",
        "    predictions=model.test(testset)\n",
        "    \n",
        "    for uid, _, true_r, est, _ in predictions:\n",
        "        user_est_true[uid].append((est, true_r))\n",
        "\n",
        "    precisions = dict()\n",
        "    recalls = dict()\n",
        "    for uid, user_playcounts in user_est_true.items():\n",
        "\n",
        "        # Sort user playcounts by estimated value\n",
        "        user_playcounts.sort(key = lambda x : x[0], reverse = True)\n",
        "\n",
        "        # Number of relevant songs\n",
        "        n_rel = sum((true_r >= threshold) for (_, true_r) in user_playcounts)\n",
        "\n",
        "        # Number of recommended songs in top k\n",
        "        n_rec_k = sum((est >= threshold) for (est, _) in user_playcounts[ : k])\n",
        "\n",
        "        # Number of relevant and recommended songs in top k\n",
        "        n_rel_and_rec_k = sum(((true_r >= threshold) and (est >= threshold))\n",
        "                              for (est, true_r) in user_playcounts[ : k])\n",
        "\n",
        "        # Precision@K: Proportion of recommended songs that are relevant\n",
        "        # When n_rec_k is 0, Precision is undefined. We here set Precision to 0 when n_rec_k is 0\n",
        "\n",
        "        precisions[uid] = n_rel_and_rec_k / n_rec_k if n_rec_k != 0 else 0\n",
        "\n",
        "        # Recall@K: Proportion of relevant songs that are recommended\n",
        "        # When n_rel is 0, Recall is undefined. We here set Recall to 0 when n_rel is 0\n",
        "\n",
        "        recalls[uid] = n_rel_and_rec_k / n_rel if n_rel != 0 else 0\n",
        "    \n",
        "    # Mean of all the predicted precisions are calculated\n",
        "    precision = round((sum(prec for prec in precisions.values()) / len(precisions)), 3)\n",
        "\n",
        "    # Mean of all the predicted recalls are calculated\n",
        "    recall = round((sum(rec for rec in recalls.values()) / len(recalls)), 3)\n",
        "    \n",
        "    accuracy.rmse(predictions)\n",
        "\n",
        "    # Command to print the overall precision\n",
        "    print('Precision: ', precision)\n",
        "\n",
        "    # Command to print the overall recall\n",
        "    print('Recall: ', recall)\n",
        "    \n",
        "    # Formula to compute the F-1 score\n",
        "    print('F_1 score: ', round((2 * precision * recall) / (precision + recall), 3))"
      ],
      "metadata": {
        "id": "SrukaH2Sml4g"
      },
      "execution_count": null,
      "outputs": []
    },
    {
      "cell_type": "markdown",
      "source": [
        "Make the dataset into surprise dataset and splitting it into train and test set"
      ],
      "metadata": {
        "id": "TFFxdy_KN9ID"
      }
    },
    {
      "cell_type": "code",
      "source": [
        "# Instantiating Reader scale with expected rating (playcount) \n",
        "reader = Reader(rating_scale=(1, 10))\n",
        "\n",
        "# Loading the rating dataset\n",
        "data = Dataset.load_from_df(df_final[['user_id', 'song_id', 'play_count']], reader)\n",
        "\n",
        "# Splitting the data into train and test dataset\n",
        "trainset, testset = train_test_split(data, test_size=0.4, random_state=42)"
      ],
      "metadata": {
        "id": "EC_AfpgMM1jD"
      },
      "execution_count": null,
      "outputs": []
    },
    {
      "cell_type": "code",
      "source": [
        "sim_options = {'name': 'cosine',\n",
        "               'user_based': True}\n",
        "\n",
        "sim_user_user = KNNBasic(sim_options = sim_options, verbose = False, random_state = 1)\n",
        "\n",
        "# Train the algorithm on the train set, and predict ratings/playcount for the test set\n",
        "sim_user_user.fit(trainset)\n",
        "\n",
        "# Let us compute precision@k, recall@k, and f_1 score \n",
        "precision_recall_at_k(sim_user_user)"
      ],
      "metadata": {
        "colab": {
          "base_uri": "https://localhost:8080/"
        },
        "id": "hxHl36d8RQVo",
        "outputId": "3412d9e7-833a-42fc-83ae-4ff39b87c6ca"
      },
      "execution_count": null,
      "outputs": [
        {
          "output_type": "stream",
          "name": "stdout",
          "text": [
            "RMSE: 1.7221\n",
            "Precision:  0.429\n",
            "Recall:  0.82\n",
            "F_1 score:  0.563\n"
          ]
        }
      ]
    },
    {
      "cell_type": "markdown",
      "source": [
        "**Observations:**\n",
        "- This model has a very high RMSE score (1.72).\n",
        "- While Precision is low (0.43), Recall is almost twice as high (0.82). Ideally, I want a balance of both, let's look at the F-1 score.\n",
        "- F-1 Score is over 50% (0.56) which isn't horrible however, due to the inconsistency of all the scores in this metric, let's use GridSearch CV for hyperparamter tuning to improve scores.\n",
        "\n",
        "First, though, let's test the predictions. "
      ],
      "metadata": {
        "id": "k5BP-hhmSCEC"
      }
    },
    {
      "cell_type": "code",
      "source": [
        "# Predicting play_count for a sample user with a listened song\n",
        "sim_user_user.predict(6958, 1671, r_ui = 2, verbose = True) # Use user id 6958 and song_id 1671\n"
      ],
      "metadata": {
        "colab": {
          "base_uri": "https://localhost:8080/"
        },
        "id": "lmHWJ787TSm4",
        "outputId": "7962212c-928e-4278-b7d1-e4b49de4600b"
      },
      "execution_count": null,
      "outputs": [
        {
          "output_type": "stream",
          "name": "stdout",
          "text": [
            "user: 6958       item: 1671       r_ui = 2.00   est = 1.56   {'actual_k': 40, 'was_impossible': False}\n"
          ]
        },
        {
          "output_type": "execute_result",
          "data": {
            "text/plain": [
              "Prediction(uid=6958, iid=1671, r_ui=2, est=1.5567002046318954, details={'actual_k': 40, 'was_impossible': False})"
            ]
          },
          "metadata": {},
          "execution_count": 50
        }
      ]
    },
    {
      "cell_type": "code",
      "source": [
        "#Printing another list of songs listened to by user 6958\n",
        "print(df_final[df_final['user_id']== 6958])"
      ],
      "metadata": {
        "colab": {
          "base_uri": "https://localhost:8080/"
        },
        "id": "9UIIOndrvogG",
        "outputId": "208fc4a5-7213-4edc-c973-11edf9013c15"
      },
      "execution_count": null,
      "outputs": [
        {
          "output_type": "stream",
          "name": "stdout",
          "text": [
            "     user_id  song_id  play_count  \\\n",
            "200     6958      447           1   \n",
            "202     6958      512           1   \n",
            "203     6958      549           1   \n",
            "204     6958      703           1   \n",
            "205     6958      719           1   \n",
            "206     6958      892           1   \n",
            "209     6958     1050           5   \n",
            "210     6958     1056           2   \n",
            "213     6958     1480           1   \n",
            "215     6958     1671           2   \n",
            "216     6958     1752           1   \n",
            "217     6958     1756           1   \n",
            "218     6958     1787           2   \n",
            "219     6958     1818           1   \n",
            "221     6958     2107           1   \n",
            "225     6958     2289           1   \n",
            "226     6958     2304           1   \n",
            "227     6958     2425           1   \n",
            "228     6958     2501           1   \n",
            "232     6958     2701           1   \n",
            "235     6958     2898           1   \n",
            "237     6958     2994           1   \n",
            "239     6958     3074           1   \n",
            "240     6958     3134           1   \n",
            "244     6958     3491           1   \n",
            "246     6958     3551           1   \n",
            "247     6958     3718           2   \n",
            "249     6958     3801           1   \n",
            "251     6958     3907           1   \n",
            "258     6958     4862           1   \n",
            "262     6958     5193           1   \n",
            "263     6958     5326           1   \n",
            "264     6958     5340           1   \n",
            "267     6958     5441           1   \n",
            "269     6958     5566           5   \n",
            "271     6958     5894           1   \n",
            "272     6958     6305           1   \n",
            "280     6958     7738           1   \n",
            "281     6958     8029           1   \n",
            "282     6958     8037           1   \n",
            "286     6958     8425           1   \n",
            "290     6958     9065           1   \n",
            "293     6958     9351           2   \n",
            "\n",
            "                                                 title  \\\n",
            "200                                 Daisy And Prudence   \n",
            "202                    The Ballad of Michael Valentine   \n",
            "203                          I Stand Corrected (Album)   \n",
            "204                              They Might Follow You   \n",
            "205                                         Monkey Man   \n",
            "206                                    Bleeding Hearts   \n",
            "209                                        Wet Blanket   \n",
            "210                                     Guyamas Sonora   \n",
            "213                                      Fast As I Can   \n",
            "215                                Sleeping In (Album)   \n",
            "216                                     Gimme Sympathy   \n",
            "217                         You Mustn't Kick It Around   \n",
            "218                                     Help I'm Alive   \n",
            "219                                           Teenager   \n",
            "221                                       Stadium Love   \n",
            "225                                     Satellite Mind   \n",
            "226                                       Daddy's Eyes   \n",
            "227                                           Señorita   \n",
            "228                                             Camaro   \n",
            "232                                               Tron   \n",
            "235                                    Twilight Galaxy   \n",
            "237                                       Elephant Gun   \n",
            "239  Catch You Baby (Steve Pitron & Max Sanna Radio...   \n",
            "240                                          Why Worry   \n",
            "244                       Bling (Confession Of A King)   \n",
            "246                                       You're A Cad   \n",
            "247                                        The Penalty   \n",
            "249                                               Baby   \n",
            "251                               What's In The Middle   \n",
            "258                                    Red Socks Pugie   \n",
            "262                              Goodnight Bad Morning   \n",
            "263                                       Collect Call   \n",
            "264                               Postcards From Italy   \n",
            "267                         Where The White Boys Dance   \n",
            "269                         The Bachelor and the Bride   \n",
            "271                                   Caring Is Creepy   \n",
            "272                     Rhode Island Is Famous For You   \n",
            "280                                             Nantes   \n",
            "281                                I CAN'T GET STARTED   \n",
            "282                                    Gold Guns Girls   \n",
            "286                               Love Letter To Japan   \n",
            "290                          Balloons (Single version)   \n",
            "293                         The Police And The Private   \n",
            "\n",
            "                  artist_name    year  \n",
            "200              Erin McKeown  2000.0  \n",
            "202               The Killers  2004.0  \n",
            "203           Vampire Weekend  2007.0  \n",
            "204               Tiny Vipers  2007.0  \n",
            "205             Amy Winehouse  2007.0  \n",
            "206                   Soltero     NaN  \n",
            "209                    Metric  2003.0  \n",
            "210                    Beirut  2007.0  \n",
            "213              Erin McKeown  2000.0  \n",
            "215            Postal Service  2003.0  \n",
            "216                    Metric  2009.0  \n",
            "217              Erin McKeown  2000.0  \n",
            "218                    Metric  2009.0  \n",
            "219            Camera Obscura     NaN  \n",
            "221                    Metric  2009.0  \n",
            "225                    Metric  2009.0  \n",
            "226               The Killers  2006.0  \n",
            "227         Justin Timberlake  2002.0  \n",
            "228             Kings Of Leon  2007.0  \n",
            "232                     Foals  2008.0  \n",
            "235                    Metric  2009.0  \n",
            "237                    Beirut  2006.0  \n",
            "239             Lonnie Gordon     NaN  \n",
            "240  The All-American Rejects  2003.0  \n",
            "244               The Killers  2006.0  \n",
            "246      the bird and the bee  2009.0  \n",
            "247                    Beirut  2007.0  \n",
            "249      the bird and the bee  2009.0  \n",
            "251      the bird and the bee  2009.0  \n",
            "258                     Foals  2008.0  \n",
            "262                 The Kills  2008.0  \n",
            "263                    Metric  2009.0  \n",
            "264                    Beirut  2005.0  \n",
            "267               The Killers  2006.0  \n",
            "269          The Decemberists  2003.0  \n",
            "271                 The Shins  2001.0  \n",
            "272              Erin McKeown  2007.0  \n",
            "280                    Beirut  2007.0  \n",
            "281                Ron Carter     NaN  \n",
            "282                    Metric  2009.0  \n",
            "286      the bird and the bee  2009.0  \n",
            "290                     Foals  2007.0  \n",
            "293                    Metric  2005.0  \n"
          ]
        }
      ]
    },
    {
      "cell_type": "code",
      "source": [
        "sim_user_user.predict(6958, 1056, r_ui = 2, verbose = True)"
      ],
      "metadata": {
        "colab": {
          "base_uri": "https://localhost:8080/"
        },
        "id": "LPkJB9mnvj1t",
        "outputId": "e8bb37ef-9836-42ac-b0a7-df0551027d40"
      },
      "execution_count": null,
      "outputs": [
        {
          "output_type": "stream",
          "name": "stdout",
          "text": [
            "user: 6958       item: 1056       r_ui = 2.00   est = 1.58   {'actual_k': 40, 'was_impossible': False}\n"
          ]
        },
        {
          "output_type": "execute_result",
          "data": {
            "text/plain": [
              "Prediction(uid=6958, iid=1056, r_ui=2, est=1.5845926333966949, details={'actual_k': 40, 'was_impossible': False})"
            ]
          },
          "metadata": {},
          "execution_count": 100
        }
      ]
    },
    {
      "cell_type": "code",
      "source": [
        "sim_user_user.predict(6958, 1050, r_ui = 5, verbose = True)"
      ],
      "metadata": {
        "colab": {
          "base_uri": "https://localhost:8080/"
        },
        "id": "5JGmm_C7vkGU",
        "outputId": "1ee4f554-bf3b-4b6c-e0c7-1c2e16dfbcb7"
      },
      "execution_count": null,
      "outputs": [
        {
          "output_type": "stream",
          "name": "stdout",
          "text": [
            "user: 6958       item: 1050       r_ui = 5.00   est = 3.03   {'actual_k': 40, 'was_impossible': False}\n"
          ]
        },
        {
          "output_type": "execute_result",
          "data": {
            "text/plain": [
              "Prediction(uid=6958, iid=1050, r_ui=5, est=3.0313350311760785, details={'actual_k': 40, 'was_impossible': False})"
            ]
          },
          "metadata": {},
          "execution_count": 102
        }
      ]
    },
    {
      "cell_type": "code",
      "source": [
        "sim_user_user.predict(6958, 1787, r_ui = 2, verbose = True)"
      ],
      "metadata": {
        "colab": {
          "base_uri": "https://localhost:8080/"
        },
        "id": "Bi15ju6tvkvn",
        "outputId": "565b5eb1-6d3c-4bbd-87a0-cf8ccc8dd788"
      },
      "execution_count": null,
      "outputs": [
        {
          "output_type": "stream",
          "name": "stdout",
          "text": [
            "user: 6958       item: 1787       r_ui = 2.00   est = 2.10   {'actual_k': 40, 'was_impossible': False}\n"
          ]
        },
        {
          "output_type": "execute_result",
          "data": {
            "text/plain": [
              "Prediction(uid=6958, iid=1787, r_ui=2, est=2.09957570114584, details={'actual_k': 40, 'was_impossible': False})"
            ]
          },
          "metadata": {},
          "execution_count": 103
        }
      ]
    },
    {
      "cell_type": "code",
      "source": [
        "# Predicting play_count for a sample user with a song not listened by the user\n",
        "sim_user_user.predict(6958, 3232, verbose = True) "
      ],
      "metadata": {
        "colab": {
          "base_uri": "https://localhost:8080/"
        },
        "id": "vXnrQzreThKq",
        "outputId": "b60cc6ac-baf7-41e2-ac5d-cf516615b087"
      },
      "execution_count": null,
      "outputs": [
        {
          "output_type": "stream",
          "name": "stdout",
          "text": [
            "user: 6958       item: 3232       r_ui = None   est = 1.47   {'actual_k': 35, 'was_impossible': False}\n"
          ]
        },
        {
          "output_type": "execute_result",
          "data": {
            "text/plain": [
              "Prediction(uid=6958, iid=3232, r_ui=None, est=1.4717281457727631, details={'actual_k': 35, 'was_impossible': False})"
            ]
          },
          "metadata": {},
          "execution_count": 51
        }
      ]
    },
    {
      "cell_type": "markdown",
      "source": [
        "**Observations**:\n",
        "- Due to the metric scores observed above, I tested the model across 4 songs user 6958 has listened to to measure overall performance by comparing the predicted playcount vs the actual playcount. To calculate this, I divided the predicted playcount by the true playcount for each song, added all four together and took the mean in order to get an average of correct guesses\n",
        "- Despite the 0.56 F1 score, this model showed it was about 80% correct which shows there is room for improvement. \n",
        "- For a song a user had not listened to, it predicted a 1.47 which falls short of the threshold set earlier. \n",
        "\n",
        "As mentioned before, I will use GridSearch CV to tune the hyperparameters of the model to see if performance improves. "
      ],
      "metadata": {
        "id": "WwSB4krTUsSW"
      }
    },
    {
      "cell_type": "code",
      "source": [
        "# Setting up parameter grid to tune the hyperparameters\n",
        "param_grid = {'k': [10, 20, 30], 'min_k': [3, 6, 9],\n",
        "              'sim_options': {'name': [\"cosine\", 'pearson', \"pearson_baseline\"],\n",
        "                              'user_based': [True], \"min_support\": [2, 4]}\n",
        "              }\n",
        "\n",
        "# Performing 3-fold cross-validation to tune the hyperparameters\n",
        "gs = GridSearchCV(KNNBasic, param_grid, measures=['rmse', 'mae'], cv=3, n_jobs = -1)\n",
        "# Fitting the data\n",
        "gs.fit(data) # Use entire data for GridSearch\n",
        "\n",
        "# Best RMSE score\n",
        "print(gs.best_score['rmse'])\n",
        "\n",
        "# Combination of parameters that gave the best RMSE score\n",
        "print(gs.best_params['rmse'])"
      ],
      "metadata": {
        "id": "RgG63goYUqSl",
        "colab": {
          "base_uri": "https://localhost:8080/"
        },
        "outputId": "add1ea0f-155f-43f0-c7c0-e5399734f86b"
      },
      "execution_count": null,
      "outputs": [
        {
          "output_type": "stream",
          "name": "stdout",
          "text": [
            "1.648878559975973\n",
            "{'k': 30, 'min_k': 9, 'sim_options': {'name': 'pearson_baseline', 'user_based': True, 'min_support': 2}}\n"
          ]
        }
      ]
    },
    {
      "cell_type": "code",
      "source": [
        "sim_options = {'name': 'pearson_baseline',\n",
        "               'user_based': True}\n",
        "\n",
        "sim_user_user_optimized = KNNBasic(sim_options = sim_options, k= 30, min_k = 9, verbose = False, random_state = 1)\n",
        "\n",
        "# Train the algorithm on the train set, and predict ratings/playcount for the test set\n",
        "sim_user_user_optimized.fit(trainset)\n",
        "\n",
        "# Let us compute precision@k, recall@k, and f_1 score \n",
        "precision_recall_at_k(sim_user_user_optimized)"
      ],
      "metadata": {
        "id": "pV7pxRNmRD0w",
        "colab": {
          "base_uri": "https://localhost:8080/"
        },
        "outputId": "51896f86-b90e-49c8-def0-9262479432eb"
      },
      "execution_count": null,
      "outputs": [
        {
          "output_type": "stream",
          "name": "stdout",
          "text": [
            "RMSE: 1.6540\n",
            "Precision:  0.442\n",
            "Recall:  0.816\n",
            "F_1 score:  0.573\n"
          ]
        }
      ]
    },
    {
      "cell_type": "markdown",
      "source": [
        "**Observations:**\n",
        "- The optimized model still has a very high RMSE score despite lowering a little bit to 1.65.\n",
        "- While Precision is still low, it rose up a little bit to 0.44, Recall remained the same at 0.82. Since I wanted a balance of both, let's look at the F-1 score.\n",
        "- F-1 Score is over 50% (0.57) and showed improvement which isn't horrible but still quite low. \n",
        "After predicting playcounts and recommendations, I will continue to test different recommendation systems and see if the metric scores improve. \n"
      ],
      "metadata": {
        "id": "ZXRB2ifvSp6m"
      }
    },
    {
      "cell_type": "code",
      "source": [
        "sim_user_user_optimized.predict(6958, 1671, r_ui = 2, verbose = True)"
      ],
      "metadata": {
        "id": "zFOD96PMbI6v",
        "colab": {
          "base_uri": "https://localhost:8080/"
        },
        "outputId": "326b7723-00be-4ef3-ea7a-8b7350c70ffe"
      },
      "execution_count": null,
      "outputs": [
        {
          "output_type": "stream",
          "name": "stdout",
          "text": [
            "user: 6958       item: 1671       r_ui = 2.00   est = 1.39   {'actual_k': 18, 'was_impossible': False}\n"
          ]
        },
        {
          "output_type": "execute_result",
          "data": {
            "text/plain": [
              "Prediction(uid=6958, iid=1671, r_ui=2, est=1.392681875259934, details={'actual_k': 18, 'was_impossible': False})"
            ]
          },
          "metadata": {},
          "execution_count": 55
        }
      ]
    },
    {
      "cell_type": "code",
      "source": [
        "sim_user_user_optimized.predict(6958, 1056, r_ui = 2, verbose = True)"
      ],
      "metadata": {
        "colab": {
          "base_uri": "https://localhost:8080/"
        },
        "id": "fTnIulG9xcYN",
        "outputId": "8639f673-03a7-4441-b149-b1983826c0d4"
      },
      "execution_count": null,
      "outputs": [
        {
          "output_type": "stream",
          "name": "stdout",
          "text": [
            "user: 6958       item: 1056       r_ui = 2.00   est = 2.04   {'actual_k': 26, 'was_impossible': False}\n"
          ]
        },
        {
          "output_type": "execute_result",
          "data": {
            "text/plain": [
              "Prediction(uid=6958, iid=1056, r_ui=2, est=2.039487513745809, details={'actual_k': 26, 'was_impossible': False})"
            ]
          },
          "metadata": {},
          "execution_count": 104
        }
      ]
    },
    {
      "cell_type": "code",
      "source": [
        "sim_user_user_optimized.predict(6958, 1050, r_ui = 5, verbose = True)"
      ],
      "metadata": {
        "colab": {
          "base_uri": "https://localhost:8080/"
        },
        "id": "9tUHfnyUxclP",
        "outputId": "6d2f7b86-45e9-46dd-ecdf-1dc237baf9ce"
      },
      "execution_count": null,
      "outputs": [
        {
          "output_type": "stream",
          "name": "stdout",
          "text": [
            "user: 6958       item: 1050       r_ui = 5.00   est = 5.22   {'actual_k': 11, 'was_impossible': False}\n"
          ]
        },
        {
          "output_type": "execute_result",
          "data": {
            "text/plain": [
              "Prediction(uid=6958, iid=1050, r_ui=5, est=5.220743899120661, details={'actual_k': 11, 'was_impossible': False})"
            ]
          },
          "metadata": {},
          "execution_count": 105
        }
      ]
    },
    {
      "cell_type": "code",
      "source": [
        "sim_user_user_optimized.predict(6958, 1787, r_ui = 2, verbose = True)"
      ],
      "metadata": {
        "colab": {
          "base_uri": "https://localhost:8080/"
        },
        "id": "5rY-0Na0xcxs",
        "outputId": "57dd2c80-a4fd-4f8a-83ba-119a75992f75"
      },
      "execution_count": null,
      "outputs": [
        {
          "output_type": "stream",
          "name": "stdout",
          "text": [
            "user: 6958       item: 1787       r_ui = 2.00   est = 1.88   {'actual_k': 30, 'was_impossible': False}\n"
          ]
        },
        {
          "output_type": "execute_result",
          "data": {
            "text/plain": [
              "Prediction(uid=6958, iid=1787, r_ui=2, est=1.879918781556753, details={'actual_k': 30, 'was_impossible': False})"
            ]
          },
          "metadata": {},
          "execution_count": 106
        }
      ]
    },
    {
      "cell_type": "code",
      "source": [
        "sim_user_user_optimized.predict(6958, 3232, verbose = True)"
      ],
      "metadata": {
        "id": "hgnCE3rJhGYh",
        "colab": {
          "base_uri": "https://localhost:8080/"
        },
        "outputId": "fe63d11c-38f9-4a93-dea2-b0e46edb0667"
      },
      "execution_count": null,
      "outputs": [
        {
          "output_type": "stream",
          "name": "stdout",
          "text": [
            "user: 6958       item: 3232       r_ui = None   est = 1.97   {'actual_k': 9, 'was_impossible': False}\n"
          ]
        },
        {
          "output_type": "execute_result",
          "data": {
            "text/plain": [
              "Prediction(uid=6958, iid=3232, r_ui=None, est=1.9736456772894173, details={'actual_k': 9, 'was_impossible': False})"
            ]
          },
          "metadata": {},
          "execution_count": 127
        }
      ]
    },
    {
      "cell_type": "markdown",
      "source": [
        "**Observartions**:\n",
        "- Due to the metric scores observed above, I tested the model across 4 songs user 6958 has listened to to measure overall performance by comparing the predicted playcount vs the actual playcount. To calculate this, I divided the predicted playcount by the true playcount for each song, added all four together and took the mean in order to get an average of correct guesses\n",
        "- Despite the 0.56 F1 score, this optimized user user model showed it was about 92.5% correct (higher than recall score) which shows that, so far, it is the more accurate model at recommending relevant songs.\n",
        "- For a song the user had not listened to, it predicted a 1.97 and since the average prediction for an actual playcount was so high, this is a song the user is likely to listen to. I'll compare these numbers throughout the project for other models tested.\n",
        "- The optimized user-user similarity based model is performing **much better** than its baseline model.\n"
      ],
      "metadata": {
        "id": "itQxSbYGl4pV"
      }
    },
    {
      "cell_type": "markdown",
      "source": [
        "**5 Users Most Similar to User 0 using KNearest Neighbors**"
      ],
      "metadata": {
        "id": "Kf-RCrssnecs"
      }
    },
    {
      "cell_type": "code",
      "source": [
        "sim_user_user_optimized.get_neighbors(0, k = 5)"
      ],
      "metadata": {
        "id": "vYbfkLhohhWz",
        "colab": {
          "base_uri": "https://localhost:8080/"
        },
        "outputId": "976e3bb5-19f2-41ab-9b4f-8d735c9a1501"
      },
      "execution_count": null,
      "outputs": [
        {
          "output_type": "execute_result",
          "data": {
            "text/plain": [
              "[1664, 930, 9, 413, 1127]"
            ]
          },
          "metadata": {},
          "execution_count": 128
        }
      ]
    },
    {
      "cell_type": "markdown",
      "source": [
        "Since the original model performed better, I will use it to implement a function for the recommendation algorithm to predict the playcount of songs for a particular user. The input parameters are:\n",
        "- data: A song dataset\n",
        "- user_id: A user-id against which we want the recommendations\n",
        "- top_n: The number of songs we want to recommend\n",
        "- algo: The algorithm we want to use for predicting the play_count\n",
        "- The output of the function is a set of top_n items recommended for the given - user_id based on the given algorithm"
      ],
      "metadata": {
        "id": "nyE4BPM3naUq"
      }
    },
    {
      "cell_type": "code",
      "source": [
        "def get_recommendations(data, user_id, top_n, algo):\n",
        "    \n",
        "    # Creating an empty list to store the recommended book ids\n",
        "    recommendations = []\n",
        "    \n",
        "    # Creating an user item interactions matrix \n",
        "    user_item_interactions_matrix = data.pivot(index='user_id', columns='song_id', values='play_count')\n",
        "    \n",
        "    # Extracting those book ids which the user_id has not interacted with yet\n",
        "    non_interacted_items = user_item_interactions_matrix.loc[user_id][user_item_interactions_matrix.loc[user_id].isnull()].index.tolist()\n",
        "    \n",
        "    # Looping through each of the book id which user_id has not interacted with yet\n",
        "    for song_id in non_interacted_items:\n",
        "        \n",
        "        # Predicting the ratings for those non interacted book ids by this user\n",
        "        est = algo.predict(user_id, song_id).est\n",
        "        \n",
        "        # Appending the predicted ratings\n",
        "        recommendations.append((song_id, est))\n",
        "\n",
        "    # Sorting the predicted ratings in descending order\n",
        "    recommendations.sort(key=lambda x: x[1], reverse=True)\n",
        "\n",
        "    return recommendations[:top_n] # Returning top n predicted rating items for this user"
      ],
      "metadata": {
        "id": "dpVgi8Q2nbFn"
      },
      "execution_count": null,
      "outputs": []
    },
    {
      "cell_type": "code",
      "source": [
        "recommendations = get_recommendations(df_final, 6958, 5, sim_user_user_optimized)"
      ],
      "metadata": {
        "id": "hl0ptQMJoMi1"
      },
      "execution_count": null,
      "outputs": []
    },
    {
      "cell_type": "code",
      "source": [
        "pd.DataFrame(recommendations, columns=['song_id', 'predicted_playcount'])"
      ],
      "metadata": {
        "id": "4MQPo6SroyNQ",
        "colab": {
          "base_uri": "https://localhost:8080/",
          "height": 206
        },
        "outputId": "290edc2d-5fab-4bf8-b71f-e5098966527f"
      },
      "execution_count": null,
      "outputs": [
        {
          "output_type": "execute_result",
          "data": {
            "text/plain": [
              "   song_id  predicted_playcount\n",
              "0     5653             4.941745\n",
              "1     8831             4.263192\n",
              "2     7224             4.114620\n",
              "3     3386             4.022183\n",
              "4     8434             3.955269"
            ],
            "text/html": [
              "\n",
              "  <div id=\"df-34115a54-7434-418a-b788-dd518fe82e21\">\n",
              "    <div class=\"colab-df-container\">\n",
              "      <div>\n",
              "<style scoped>\n",
              "    .dataframe tbody tr th:only-of-type {\n",
              "        vertical-align: middle;\n",
              "    }\n",
              "\n",
              "    .dataframe tbody tr th {\n",
              "        vertical-align: top;\n",
              "    }\n",
              "\n",
              "    .dataframe thead th {\n",
              "        text-align: right;\n",
              "    }\n",
              "</style>\n",
              "<table border=\"1\" class=\"dataframe\">\n",
              "  <thead>\n",
              "    <tr style=\"text-align: right;\">\n",
              "      <th></th>\n",
              "      <th>song_id</th>\n",
              "      <th>predicted_playcount</th>\n",
              "    </tr>\n",
              "  </thead>\n",
              "  <tbody>\n",
              "    <tr>\n",
              "      <th>0</th>\n",
              "      <td>5653</td>\n",
              "      <td>4.941745</td>\n",
              "    </tr>\n",
              "    <tr>\n",
              "      <th>1</th>\n",
              "      <td>8831</td>\n",
              "      <td>4.263192</td>\n",
              "    </tr>\n",
              "    <tr>\n",
              "      <th>2</th>\n",
              "      <td>7224</td>\n",
              "      <td>4.114620</td>\n",
              "    </tr>\n",
              "    <tr>\n",
              "      <th>3</th>\n",
              "      <td>3386</td>\n",
              "      <td>4.022183</td>\n",
              "    </tr>\n",
              "    <tr>\n",
              "      <th>4</th>\n",
              "      <td>8434</td>\n",
              "      <td>3.955269</td>\n",
              "    </tr>\n",
              "  </tbody>\n",
              "</table>\n",
              "</div>\n",
              "      <button class=\"colab-df-convert\" onclick=\"convertToInteractive('df-34115a54-7434-418a-b788-dd518fe82e21')\"\n",
              "              title=\"Convert this dataframe to an interactive table.\"\n",
              "              style=\"display:none;\">\n",
              "        \n",
              "  <svg xmlns=\"http://www.w3.org/2000/svg\" height=\"24px\"viewBox=\"0 0 24 24\"\n",
              "       width=\"24px\">\n",
              "    <path d=\"M0 0h24v24H0V0z\" fill=\"none\"/>\n",
              "    <path d=\"M18.56 5.44l.94 2.06.94-2.06 2.06-.94-2.06-.94-.94-2.06-.94 2.06-2.06.94zm-11 1L8.5 8.5l.94-2.06 2.06-.94-2.06-.94L8.5 2.5l-.94 2.06-2.06.94zm10 10l.94 2.06.94-2.06 2.06-.94-2.06-.94-.94-2.06-.94 2.06-2.06.94z\"/><path d=\"M17.41 7.96l-1.37-1.37c-.4-.4-.92-.59-1.43-.59-.52 0-1.04.2-1.43.59L10.3 9.45l-7.72 7.72c-.78.78-.78 2.05 0 2.83L4 21.41c.39.39.9.59 1.41.59.51 0 1.02-.2 1.41-.59l7.78-7.78 2.81-2.81c.8-.78.8-2.07 0-2.86zM5.41 20L4 18.59l7.72-7.72 1.47 1.35L5.41 20z\"/>\n",
              "  </svg>\n",
              "      </button>\n",
              "      \n",
              "  <style>\n",
              "    .colab-df-container {\n",
              "      display:flex;\n",
              "      flex-wrap:wrap;\n",
              "      gap: 12px;\n",
              "    }\n",
              "\n",
              "    .colab-df-convert {\n",
              "      background-color: #E8F0FE;\n",
              "      border: none;\n",
              "      border-radius: 50%;\n",
              "      cursor: pointer;\n",
              "      display: none;\n",
              "      fill: #1967D2;\n",
              "      height: 32px;\n",
              "      padding: 0 0 0 0;\n",
              "      width: 32px;\n",
              "    }\n",
              "\n",
              "    .colab-df-convert:hover {\n",
              "      background-color: #E2EBFA;\n",
              "      box-shadow: 0px 1px 2px rgba(60, 64, 67, 0.3), 0px 1px 3px 1px rgba(60, 64, 67, 0.15);\n",
              "      fill: #174EA6;\n",
              "    }\n",
              "\n",
              "    [theme=dark] .colab-df-convert {\n",
              "      background-color: #3B4455;\n",
              "      fill: #D2E3FC;\n",
              "    }\n",
              "\n",
              "    [theme=dark] .colab-df-convert:hover {\n",
              "      background-color: #434B5C;\n",
              "      box-shadow: 0px 1px 3px 1px rgba(0, 0, 0, 0.15);\n",
              "      filter: drop-shadow(0px 1px 2px rgba(0, 0, 0, 0.3));\n",
              "      fill: #FFFFFF;\n",
              "    }\n",
              "  </style>\n",
              "\n",
              "      <script>\n",
              "        const buttonEl =\n",
              "          document.querySelector('#df-34115a54-7434-418a-b788-dd518fe82e21 button.colab-df-convert');\n",
              "        buttonEl.style.display =\n",
              "          google.colab.kernel.accessAllowed ? 'block' : 'none';\n",
              "\n",
              "        async function convertToInteractive(key) {\n",
              "          const element = document.querySelector('#df-34115a54-7434-418a-b788-dd518fe82e21');\n",
              "          const dataTable =\n",
              "            await google.colab.kernel.invokeFunction('convertToInteractive',\n",
              "                                                     [key], {});\n",
              "          if (!dataTable) return;\n",
              "\n",
              "          const docLinkHtml = 'Like what you see? Visit the ' +\n",
              "            '<a target=\"_blank\" href=https://colab.research.google.com/notebooks/data_table.ipynb>data table notebook</a>'\n",
              "            + ' to learn more about interactive tables.';\n",
              "          element.innerHTML = '';\n",
              "          dataTable['output_type'] = 'display_data';\n",
              "          await google.colab.output.renderOutput(dataTable, element);\n",
              "          const docLink = document.createElement('div');\n",
              "          docLink.innerHTML = docLinkHtml;\n",
              "          element.appendChild(docLink);\n",
              "        }\n",
              "      </script>\n",
              "    </div>\n",
              "  </div>\n",
              "  "
            ]
          },
          "metadata": {},
          "execution_count": 130
        }
      ]
    },
    {
      "cell_type": "markdown",
      "source": [
        "- This dataframe shows the songs recommended to user 6958 and the playcount for 5 top songs the user had not yet interacted with using the original user-user model.\n",
        "- However, because I don't have context of how many times these songs have been listened to by other users, it's important to also consider the corrected playcount of the songs to measure the likelihood of the user listening to the songs"
      ],
      "metadata": {
        "id": "RumhlPXwpMqr"
      }
    },
    {
      "cell_type": "markdown",
      "source": [
        "###Corrected Playcount and Ranking Above Songs"
      ],
      "metadata": {
        "id": "BWd4XExGqC2V"
      }
    },
    {
      "cell_type": "code",
      "source": [
        "def ranking_songs(recommendations, final_rating):\n",
        "  # Sort the books based on ratings count\n",
        "  ranked_songs = final_count.loc[[items[0] for items in recommendations]].sort_values('play_frequency', ascending=False)[['play_frequency']].reset_index()\n",
        "\n",
        "  # Merge with the recommended books to get predicted ratings\n",
        "  ranked_songs = ranked_songs.merge(pd.DataFrame(recommendations, columns=['song_id', 'predicted_playcount']), on='song_id', how='inner')\n",
        "\n",
        "  # Rank the books based on corrected ratings\n",
        "  ranked_songs['corrected_playcount'] = ranked_songs['predicted_playcount'] + 1 / np.sqrt(ranked_songs['play_frequency'])\n",
        "\n",
        "  # Sort the books based on corrected ratings\n",
        "  ranked_songs = ranked_songs.sort_values('corrected_playcount', ascending=False)\n",
        "  \n",
        "  return ranked_songs"
      ],
      "metadata": {
        "id": "k3FjMU-tqCSq"
      },
      "execution_count": null,
      "outputs": []
    },
    {
      "cell_type": "markdown",
      "source": [
        "In this function, I am **adding** the quantity 1/np.sqrt(n) to get more optimistic predictions since there technically isn't a cap on the playcount."
      ],
      "metadata": {
        "id": "PZS7UtflszEU"
      }
    },
    {
      "cell_type": "code",
      "source": [
        "ranking_songs(recommendations, final_count)"
      ],
      "metadata": {
        "id": "FaEHMFnHpGT_",
        "colab": {
          "base_uri": "https://localhost:8080/",
          "height": 206
        },
        "outputId": "f2666624-0a25-498a-8093-c6a201e25f66"
      },
      "execution_count": null,
      "outputs": [
        {
          "output_type": "execute_result",
          "data": {
            "text/plain": [
              "   song_id  play_frequency  predicted_playcount  corrected_playcount\n",
              "1     5653             119             4.941745             5.033415\n",
              "2     8831             110             4.263192             4.358538\n",
              "3     7224             108             4.114620             4.210845\n",
              "4     3386             101             4.022183             4.121686\n",
              "0     8434             259             3.955269             4.017406"
            ],
            "text/html": [
              "\n",
              "  <div id=\"df-a7b9b9a5-89ed-4ab2-a83a-b02c5fb1c2a8\">\n",
              "    <div class=\"colab-df-container\">\n",
              "      <div>\n",
              "<style scoped>\n",
              "    .dataframe tbody tr th:only-of-type {\n",
              "        vertical-align: middle;\n",
              "    }\n",
              "\n",
              "    .dataframe tbody tr th {\n",
              "        vertical-align: top;\n",
              "    }\n",
              "\n",
              "    .dataframe thead th {\n",
              "        text-align: right;\n",
              "    }\n",
              "</style>\n",
              "<table border=\"1\" class=\"dataframe\">\n",
              "  <thead>\n",
              "    <tr style=\"text-align: right;\">\n",
              "      <th></th>\n",
              "      <th>song_id</th>\n",
              "      <th>play_frequency</th>\n",
              "      <th>predicted_playcount</th>\n",
              "      <th>corrected_playcount</th>\n",
              "    </tr>\n",
              "  </thead>\n",
              "  <tbody>\n",
              "    <tr>\n",
              "      <th>1</th>\n",
              "      <td>5653</td>\n",
              "      <td>119</td>\n",
              "      <td>4.941745</td>\n",
              "      <td>5.033415</td>\n",
              "    </tr>\n",
              "    <tr>\n",
              "      <th>2</th>\n",
              "      <td>8831</td>\n",
              "      <td>110</td>\n",
              "      <td>4.263192</td>\n",
              "      <td>4.358538</td>\n",
              "    </tr>\n",
              "    <tr>\n",
              "      <th>3</th>\n",
              "      <td>7224</td>\n",
              "      <td>108</td>\n",
              "      <td>4.114620</td>\n",
              "      <td>4.210845</td>\n",
              "    </tr>\n",
              "    <tr>\n",
              "      <th>4</th>\n",
              "      <td>3386</td>\n",
              "      <td>101</td>\n",
              "      <td>4.022183</td>\n",
              "      <td>4.121686</td>\n",
              "    </tr>\n",
              "    <tr>\n",
              "      <th>0</th>\n",
              "      <td>8434</td>\n",
              "      <td>259</td>\n",
              "      <td>3.955269</td>\n",
              "      <td>4.017406</td>\n",
              "    </tr>\n",
              "  </tbody>\n",
              "</table>\n",
              "</div>\n",
              "      <button class=\"colab-df-convert\" onclick=\"convertToInteractive('df-a7b9b9a5-89ed-4ab2-a83a-b02c5fb1c2a8')\"\n",
              "              title=\"Convert this dataframe to an interactive table.\"\n",
              "              style=\"display:none;\">\n",
              "        \n",
              "  <svg xmlns=\"http://www.w3.org/2000/svg\" height=\"24px\"viewBox=\"0 0 24 24\"\n",
              "       width=\"24px\">\n",
              "    <path d=\"M0 0h24v24H0V0z\" fill=\"none\"/>\n",
              "    <path d=\"M18.56 5.44l.94 2.06.94-2.06 2.06-.94-2.06-.94-.94-2.06-.94 2.06-2.06.94zm-11 1L8.5 8.5l.94-2.06 2.06-.94-2.06-.94L8.5 2.5l-.94 2.06-2.06.94zm10 10l.94 2.06.94-2.06 2.06-.94-2.06-.94-.94-2.06-.94 2.06-2.06.94z\"/><path d=\"M17.41 7.96l-1.37-1.37c-.4-.4-.92-.59-1.43-.59-.52 0-1.04.2-1.43.59L10.3 9.45l-7.72 7.72c-.78.78-.78 2.05 0 2.83L4 21.41c.39.39.9.59 1.41.59.51 0 1.02-.2 1.41-.59l7.78-7.78 2.81-2.81c.8-.78.8-2.07 0-2.86zM5.41 20L4 18.59l7.72-7.72 1.47 1.35L5.41 20z\"/>\n",
              "  </svg>\n",
              "      </button>\n",
              "      \n",
              "  <style>\n",
              "    .colab-df-container {\n",
              "      display:flex;\n",
              "      flex-wrap:wrap;\n",
              "      gap: 12px;\n",
              "    }\n",
              "\n",
              "    .colab-df-convert {\n",
              "      background-color: #E8F0FE;\n",
              "      border: none;\n",
              "      border-radius: 50%;\n",
              "      cursor: pointer;\n",
              "      display: none;\n",
              "      fill: #1967D2;\n",
              "      height: 32px;\n",
              "      padding: 0 0 0 0;\n",
              "      width: 32px;\n",
              "    }\n",
              "\n",
              "    .colab-df-convert:hover {\n",
              "      background-color: #E2EBFA;\n",
              "      box-shadow: 0px 1px 2px rgba(60, 64, 67, 0.3), 0px 1px 3px 1px rgba(60, 64, 67, 0.15);\n",
              "      fill: #174EA6;\n",
              "    }\n",
              "\n",
              "    [theme=dark] .colab-df-convert {\n",
              "      background-color: #3B4455;\n",
              "      fill: #D2E3FC;\n",
              "    }\n",
              "\n",
              "    [theme=dark] .colab-df-convert:hover {\n",
              "      background-color: #434B5C;\n",
              "      box-shadow: 0px 1px 3px 1px rgba(0, 0, 0, 0.15);\n",
              "      filter: drop-shadow(0px 1px 2px rgba(0, 0, 0, 0.3));\n",
              "      fill: #FFFFFF;\n",
              "    }\n",
              "  </style>\n",
              "\n",
              "      <script>\n",
              "        const buttonEl =\n",
              "          document.querySelector('#df-a7b9b9a5-89ed-4ab2-a83a-b02c5fb1c2a8 button.colab-df-convert');\n",
              "        buttonEl.style.display =\n",
              "          google.colab.kernel.accessAllowed ? 'block' : 'none';\n",
              "\n",
              "        async function convertToInteractive(key) {\n",
              "          const element = document.querySelector('#df-a7b9b9a5-89ed-4ab2-a83a-b02c5fb1c2a8');\n",
              "          const dataTable =\n",
              "            await google.colab.kernel.invokeFunction('convertToInteractive',\n",
              "                                                     [key], {});\n",
              "          if (!dataTable) return;\n",
              "\n",
              "          const docLinkHtml = 'Like what you see? Visit the ' +\n",
              "            '<a target=\"_blank\" href=https://colab.research.google.com/notebooks/data_table.ipynb>data table notebook</a>'\n",
              "            + ' to learn more about interactive tables.';\n",
              "          element.innerHTML = '';\n",
              "          dataTable['output_type'] = 'display_data';\n",
              "          await google.colab.output.renderOutput(dataTable, element);\n",
              "          const docLink = document.createElement('div');\n",
              "          docLink.innerHTML = docLinkHtml;\n",
              "          element.appendChild(docLink);\n",
              "        }\n",
              "      </script>\n",
              "    </div>\n",
              "  </div>\n",
              "  "
            ]
          },
          "metadata": {},
          "execution_count": 132
        }
      ]
    },
    {
      "cell_type": "markdown",
      "source": [
        "####**Model 3**: Item-Item Similarity Based Recommendation System\n"
      ],
      "metadata": {
        "id": "IJ698QoAue-i"
      }
    },
    {
      "cell_type": "code",
      "source": [
        "sim_options = {'name': 'cosine',\n",
        "               'user_based': False}\n",
        "\n",
        "sim_item_item = KNNBasic(sim_options = sim_options, verbose = False, random_state = 1)\n",
        "\n",
        "# Train the algorithm on the train set, and predict ratings/playcount for the test set\n",
        "sim_item_item.fit(trainset)\n",
        "\n",
        "# Let us compute precision@k, recall@k, and f_1 score \n",
        "precision_recall_at_k(sim_item_item)"
      ],
      "metadata": {
        "id": "GbJfSv_3srIJ",
        "colab": {
          "base_uri": "https://localhost:8080/"
        },
        "outputId": "d77cb548-89a0-4cc6-d598-ea721baa3e5f"
      },
      "execution_count": null,
      "outputs": [
        {
          "output_type": "stream",
          "name": "stdout",
          "text": [
            "RMSE: 1.6321\n",
            "Precision:  0.373\n",
            "Recall:  0.677\n",
            "F_1 score:  0.481\n"
          ]
        }
      ]
    },
    {
      "cell_type": "markdown",
      "source": [
        "**Observations:**\n",
        "- This model has a very high RMSE score (1.63).\n",
        "- While Precision is low (0.37), Recall is almost twice as high (0.68). Because I want a balance of both, let's look at the F-1 score.\n",
        "- F-1 Score is under 50% (0.48) which is very low and does not pass the above 50% test. I'm going to try to use GridSearch CV for hyperparamter tuning to improve scores.\n",
        "\n",
        "First, though, let's test the predictions. "
      ],
      "metadata": {
        "id": "h_toRY7SvFb-"
      }
    },
    {
      "cell_type": "code",
      "source": [
        "sim_item_item.predict(6958, 1671, r_ui = 2, verbose = True) "
      ],
      "metadata": {
        "id": "WGOZhPQou7DS",
        "colab": {
          "base_uri": "https://localhost:8080/"
        },
        "outputId": "be42379e-c3ca-43ff-ece2-a03e8d2e3de6"
      },
      "execution_count": null,
      "outputs": [
        {
          "output_type": "stream",
          "name": "stdout",
          "text": [
            "user: 6958       item: 1671       r_ui = 2.00   est = 1.43   {'actual_k': 22, 'was_impossible': False}\n"
          ]
        },
        {
          "output_type": "execute_result",
          "data": {
            "text/plain": [
              "Prediction(uid=6958, iid=1671, r_ui=2, est=1.4329511153100947, details={'actual_k': 22, 'was_impossible': False})"
            ]
          },
          "metadata": {},
          "execution_count": 64
        }
      ]
    },
    {
      "cell_type": "code",
      "source": [
        "sim_item_item.predict(6958, 1056, r_ui = 2, verbose = True) "
      ],
      "metadata": {
        "colab": {
          "base_uri": "https://localhost:8080/"
        },
        "id": "clP6SuiAxwp5",
        "outputId": "718e3b5b-95e2-430e-9fb0-1866f5a89f7e"
      },
      "execution_count": null,
      "outputs": [
        {
          "output_type": "stream",
          "name": "stdout",
          "text": [
            "user: 6958       item: 1056       r_ui = 2.00   est = 1.40   {'actual_k': 23, 'was_impossible': False}\n"
          ]
        },
        {
          "output_type": "execute_result",
          "data": {
            "text/plain": [
              "Prediction(uid=6958, iid=1056, r_ui=2, est=1.3956225654905863, details={'actual_k': 23, 'was_impossible': False})"
            ]
          },
          "metadata": {},
          "execution_count": 107
        }
      ]
    },
    {
      "cell_type": "code",
      "source": [
        "sim_item_item.predict(6958, 1050, r_ui = 5, verbose = True) "
      ],
      "metadata": {
        "colab": {
          "base_uri": "https://localhost:8080/"
        },
        "id": "8C4_RdOFxw3P",
        "outputId": "c937d7d9-dad7-4a6c-eb14-c3d30258db36"
      },
      "execution_count": null,
      "outputs": [
        {
          "output_type": "stream",
          "name": "stdout",
          "text": [
            "user: 6958       item: 1050       r_ui = 5.00   est = 1.54   {'actual_k': 23, 'was_impossible': False}\n"
          ]
        },
        {
          "output_type": "execute_result",
          "data": {
            "text/plain": [
              "Prediction(uid=6958, iid=1050, r_ui=5, est=1.5367700654008363, details={'actual_k': 23, 'was_impossible': False})"
            ]
          },
          "metadata": {},
          "execution_count": 110
        }
      ]
    },
    {
      "cell_type": "code",
      "source": [
        "sim_item_item.predict(6958, 1787, r_ui = 2, verbose = True) "
      ],
      "metadata": {
        "colab": {
          "base_uri": "https://localhost:8080/"
        },
        "id": "AgoKdfjRxyJQ",
        "outputId": "4bb04789-3bc0-4f70-8943-361c5d15e182"
      },
      "execution_count": null,
      "outputs": [
        {
          "output_type": "stream",
          "name": "stdout",
          "text": [
            "user: 6958       item: 1787       r_ui = 2.00   est = 1.43   {'actual_k': 23, 'was_impossible': False}\n"
          ]
        },
        {
          "output_type": "execute_result",
          "data": {
            "text/plain": [
              "Prediction(uid=6958, iid=1787, r_ui=2, est=1.4253884852315855, details={'actual_k': 23, 'was_impossible': False})"
            ]
          },
          "metadata": {},
          "execution_count": 109
        }
      ]
    },
    {
      "cell_type": "code",
      "source": [
        "sim_item_item.predict(6859, 3232, verbose = True) "
      ],
      "metadata": {
        "id": "5oLoqw1cvlwt",
        "colab": {
          "base_uri": "https://localhost:8080/"
        },
        "outputId": "a52a661a-d913-4123-ca4c-dfe277c1c235"
      },
      "execution_count": null,
      "outputs": [
        {
          "output_type": "stream",
          "name": "stdout",
          "text": [
            "user: 6859       item: 3232       r_ui = None   est = 2.06   {'was_impossible': True, 'reason': 'User and/or item is unknown.'}\n"
          ]
        },
        {
          "output_type": "execute_result",
          "data": {
            "text/plain": [
              "Prediction(uid=6859, iid=3232, r_ui=None, est=2.0553341598771993, details={'was_impossible': True, 'reason': 'User and/or item is unknown.'})"
            ]
          },
          "metadata": {},
          "execution_count": 133
        }
      ]
    },
    {
      "cell_type": "markdown",
      "source": [
        "**Observations**:\n",
        "- Due to the metric scores observed above, I tested the model across 4 songs user 6958 has listened to to measure overall performance by comparing the predicted playcount vs the actual playcount. To calculate this, I divided the predicted playcount by the true playcount for each song, added all four together and took the mean in order to get an average of correct guesses\n",
        "- Similar to its 0.48 F1 score, this model showed it was about 61% correct which shows there is a lot of room for improvement.\n",
        "- For a song not listened to by the user, it's showing a predicted playcount of 2.06 which does not provide too much insight since the model is not performing too well."
      ],
      "metadata": {
        "id": "hgwk455M4HDd"
      }
    },
    {
      "cell_type": "code",
      "source": [
        "# Apply grid search for enhancing model performance\n",
        "\n",
        "# Setting up parameter grid to tune the hyperparameters\n",
        "param_grid = {'k': [10, 20, 30], 'min_k': [3, 6, 9],\n",
        "              'sim_options': {'name': [\"cosine\", 'pearson', \"pearson_baseline\"],\n",
        "                              'user_based': [False], \"min_support\": [2, 4]}\n",
        "              }\n",
        "\n",
        "# Performing 3-fold cross-validation to tune the hyperparameters\n",
        "gs = GridSearchCV(KNNBasic, param_grid, measures=['rmse', 'mae'], cv=3, n_jobs = -1)\n",
        "\n",
        "# Fitting the data\n",
        "gs.fit(data)\n",
        "\n",
        "# Find the best RMSE score\n",
        "print(gs.best_score['rmse'])\n",
        "\n",
        "# Extract the combination of parameters that gave the best RMSE score\n",
        "print(gs.best_params['rmse'])\n",
        "\n"
      ],
      "metadata": {
        "id": "vkfjGIDAyibH",
        "colab": {
          "base_uri": "https://localhost:8080/"
        },
        "outputId": "aec42e93-41e0-47df-c01b-0e553cf7600f"
      },
      "execution_count": null,
      "outputs": [
        {
          "output_type": "stream",
          "name": "stdout",
          "text": [
            "1.5940144406966545\n",
            "{'k': 20, 'min_k': 6, 'sim_options': {'name': 'pearson_baseline', 'user_based': False, 'min_support': 2}}\n"
          ]
        }
      ]
    },
    {
      "cell_type": "code",
      "source": [
        "sim_options = {'name': 'pearson_baseline',\n",
        "               'user_based': False}\n",
        "\n",
        "sim_item_item_optimized = KNNBasic(sim_options = sim_options, k= 20, min_k = 6, verbose = False, random_state = 1)\n",
        "\n",
        "# Train the algorithm on the train set, and predict ratings/playcount for the test set\n",
        "sim_item_item_optimized.fit(trainset)\n",
        "\n",
        "# Let us compute precision@k, recall@k, and f_1 score \n",
        "precision_recall_at_k(sim_item_item_optimized)"
      ],
      "metadata": {
        "id": "T8m26HCN71Pe",
        "colab": {
          "base_uri": "https://localhost:8080/"
        },
        "outputId": "f43b3f7d-d623-4871-adb4-f4624d3b7409"
      },
      "execution_count": null,
      "outputs": [
        {
          "output_type": "stream",
          "name": "stdout",
          "text": [
            "RMSE: 1.5998\n",
            "Precision:  0.445\n",
            "Recall:  0.72\n",
            "F_1 score:  0.55\n"
          ]
        }
      ]
    },
    {
      "cell_type": "markdown",
      "source": [
        "**Observations:**\n",
        "- The optimized model still has a very high RMSE score despite lowering a little bit to 1.60.\n",
        "- While Precision is still low, it rose up a little bit to 0.45 and Recall also considerably increased to 0.72. Because we want a balance of both, let's look at the F-1 score.\n",
        "- F-1 Score is over 50% at 0.55 which means the optimized model is performing better than the original model since the baseline model had a failing F1 score.\n",
        "Let's see how it performs on making predictions.\n",
        "\n",
        "After predicting playcounts and recommendations, I will continue to test different recommendation systems and see if the metric scores improve. "
      ],
      "metadata": {
        "id": "5GFWwT5o8xXP"
      }
    },
    {
      "cell_type": "code",
      "source": [
        "sim_item_item_optimized.predict(6958, 1671, r_ui = 2, verbose = True) "
      ],
      "metadata": {
        "id": "TyfBwUfd8jzO",
        "colab": {
          "base_uri": "https://localhost:8080/"
        },
        "outputId": "a2fe9c72-0cbf-48f4-c909-361bd7476f0a"
      },
      "execution_count": null,
      "outputs": [
        {
          "output_type": "stream",
          "name": "stdout",
          "text": [
            "user: 6958       item: 1671       r_ui = 2.00   est = 1.88   {'actual_k': 14, 'was_impossible': False}\n"
          ]
        },
        {
          "output_type": "execute_result",
          "data": {
            "text/plain": [
              "Prediction(uid=6958, iid=1671, r_ui=2, est=1.8830916124461725, details={'actual_k': 14, 'was_impossible': False})"
            ]
          },
          "metadata": {},
          "execution_count": 70
        }
      ]
    },
    {
      "cell_type": "code",
      "source": [
        "sim_item_item_optimized.predict(6958, 1056, r_ui = 2, verbose = True) "
      ],
      "metadata": {
        "colab": {
          "base_uri": "https://localhost:8080/"
        },
        "id": "6QgGqpzIyKjc",
        "outputId": "d51d36fb-1d8e-4b4e-d2a5-d6df39d0a53a"
      },
      "execution_count": null,
      "outputs": [
        {
          "output_type": "stream",
          "name": "stdout",
          "text": [
            "user: 6958       item: 1056       r_ui = 2.00   est = 1.87   {'actual_k': 10, 'was_impossible': False}\n"
          ]
        },
        {
          "output_type": "execute_result",
          "data": {
            "text/plain": [
              "Prediction(uid=6958, iid=1056, r_ui=2, est=1.8743264442911476, details={'actual_k': 10, 'was_impossible': False})"
            ]
          },
          "metadata": {},
          "execution_count": 111
        }
      ]
    },
    {
      "cell_type": "code",
      "source": [
        "sim_item_item_optimized.predict(6958, 1050, r_ui = 5, verbose = True) "
      ],
      "metadata": {
        "colab": {
          "base_uri": "https://localhost:8080/"
        },
        "id": "dDFArcumyKq9",
        "outputId": "f2288a89-9801-4874-cc1a-edb9361e175f"
      },
      "execution_count": null,
      "outputs": [
        {
          "output_type": "stream",
          "name": "stdout",
          "text": [
            "user: 6958       item: 1050       r_ui = 5.00   est = 4.12   {'actual_k': 14, 'was_impossible': False}\n"
          ]
        },
        {
          "output_type": "execute_result",
          "data": {
            "text/plain": [
              "Prediction(uid=6958, iid=1050, r_ui=5, est=4.12457405491896, details={'actual_k': 14, 'was_impossible': False})"
            ]
          },
          "metadata": {},
          "execution_count": 112
        }
      ]
    },
    {
      "cell_type": "code",
      "source": [
        "sim_item_item_optimized.predict(6958, 1787, r_ui = 2, verbose = True) "
      ],
      "metadata": {
        "colab": {
          "base_uri": "https://localhost:8080/"
        },
        "id": "QtMWD4BpyLB9",
        "outputId": "b1d795bc-9283-44f7-ec8d-09204c46e30d"
      },
      "execution_count": null,
      "outputs": [
        {
          "output_type": "stream",
          "name": "stdout",
          "text": [
            "user: 6958       item: 1787       r_ui = 2.00   est = 1.85   {'actual_k': 8, 'was_impossible': False}\n"
          ]
        },
        {
          "output_type": "execute_result",
          "data": {
            "text/plain": [
              "Prediction(uid=6958, iid=1787, r_ui=2, est=1.8472876669666862, details={'actual_k': 8, 'was_impossible': False})"
            ]
          },
          "metadata": {},
          "execution_count": 113
        }
      ]
    },
    {
      "cell_type": "code",
      "source": [
        "sim_item_item_optimized.predict(6958, 3232, verbose = True) "
      ],
      "metadata": {
        "id": "ZT0le9Is9lT-",
        "colab": {
          "base_uri": "https://localhost:8080/"
        },
        "outputId": "4694b008-5271-488c-bf7e-34795b5926be"
      },
      "execution_count": null,
      "outputs": [
        {
          "output_type": "stream",
          "name": "stdout",
          "text": [
            "user: 6958       item: 3232       r_ui = None   est = 1.46   {'actual_k': 9, 'was_impossible': False}\n"
          ]
        },
        {
          "output_type": "execute_result",
          "data": {
            "text/plain": [
              "Prediction(uid=6958, iid=3232, r_ui=None, est=1.4586863801926448, details={'actual_k': 9, 'was_impossible': False})"
            ]
          },
          "metadata": {},
          "execution_count": 135
        }
      ]
    },
    {
      "cell_type": "markdown",
      "source": [
        "**Observations:**\n",
        "- Due to the metric scores observed above, I tested the model across 4 songs user 6958 has listened to to measure overall performance by comparing the predicted playcount vs the actual playcount. To calculate this, I divided the predicted playcount by the true playcount for each song, added all four together and took the mean in order to get an average of correct guesses\n",
        "- Despite its 0.55 F1 score, this optimized item item model showed it was about 91% correct with regard to its relevant recommendations.\n",
        "- For a song not listened to by the user, it's showing a predicted playcount of 1.46 which should be a good prediction.\n",
        "- The optimized item-item similarity based model is performing **much better** than its baseline model and about same as the optimized user-user model on the predictions"
      ],
      "metadata": {
        "id": "Vl_KOVPV9uzw"
      }
    },
    {
      "cell_type": "markdown",
      "source": [
        "**5 Items Most Similar to Item 0 using KNearest Neighbors**"
      ],
      "metadata": {
        "id": "2wr6ZHBt-kei"
      }
    },
    {
      "cell_type": "code",
      "source": [
        "sim_item_item_optimized.get_neighbors(0, k = 5)"
      ],
      "metadata": {
        "id": "tbvoRYnA9sj0",
        "colab": {
          "base_uri": "https://localhost:8080/"
        },
        "outputId": "85b77596-c95f-475b-9413-b2622adbe7c4"
      },
      "execution_count": null,
      "outputs": [
        {
          "output_type": "execute_result",
          "data": {
            "text/plain": [
              "[599, 552, 370, 488, 417]"
            ]
          },
          "metadata": {},
          "execution_count": 136
        }
      ]
    },
    {
      "cell_type": "code",
      "source": [
        "# Making top 5 recommendations for user_id 6958 with item_item_similarity-based recommendation engine\n",
        "recommendations = get_recommendations(df_final, 6958, 5, sim_item_item_optimized)"
      ],
      "metadata": {
        "id": "RA0CC0dX-zkW"
      },
      "execution_count": null,
      "outputs": []
    },
    {
      "cell_type": "code",
      "source": [
        "# Building the dataframe for above recommendations with columns \"song_id\" and \"predicted_play_count\"\n",
        "pd.DataFrame(recommendations, columns=['song_id', 'predicted_playcount'])"
      ],
      "metadata": {
        "id": "izqvwdAM_JxB",
        "colab": {
          "base_uri": "https://localhost:8080/",
          "height": 206
        },
        "outputId": "2f51217c-3f07-4e0a-a23c-59cf6d62338f"
      },
      "execution_count": null,
      "outputs": [
        {
          "output_type": "execute_result",
          "data": {
            "text/plain": [
              "   song_id  predicted_playcount\n",
              "0     4262             3.058082\n",
              "1     2914             2.910854\n",
              "2     2672             2.859115\n",
              "3     2054             2.827107\n",
              "4     9960             2.695389"
            ],
            "text/html": [
              "\n",
              "  <div id=\"df-a031ff5a-9260-49d7-bda7-15976a3e1d45\">\n",
              "    <div class=\"colab-df-container\">\n",
              "      <div>\n",
              "<style scoped>\n",
              "    .dataframe tbody tr th:only-of-type {\n",
              "        vertical-align: middle;\n",
              "    }\n",
              "\n",
              "    .dataframe tbody tr th {\n",
              "        vertical-align: top;\n",
              "    }\n",
              "\n",
              "    .dataframe thead th {\n",
              "        text-align: right;\n",
              "    }\n",
              "</style>\n",
              "<table border=\"1\" class=\"dataframe\">\n",
              "  <thead>\n",
              "    <tr style=\"text-align: right;\">\n",
              "      <th></th>\n",
              "      <th>song_id</th>\n",
              "      <th>predicted_playcount</th>\n",
              "    </tr>\n",
              "  </thead>\n",
              "  <tbody>\n",
              "    <tr>\n",
              "      <th>0</th>\n",
              "      <td>4262</td>\n",
              "      <td>3.058082</td>\n",
              "    </tr>\n",
              "    <tr>\n",
              "      <th>1</th>\n",
              "      <td>2914</td>\n",
              "      <td>2.910854</td>\n",
              "    </tr>\n",
              "    <tr>\n",
              "      <th>2</th>\n",
              "      <td>2672</td>\n",
              "      <td>2.859115</td>\n",
              "    </tr>\n",
              "    <tr>\n",
              "      <th>3</th>\n",
              "      <td>2054</td>\n",
              "      <td>2.827107</td>\n",
              "    </tr>\n",
              "    <tr>\n",
              "      <th>4</th>\n",
              "      <td>9960</td>\n",
              "      <td>2.695389</td>\n",
              "    </tr>\n",
              "  </tbody>\n",
              "</table>\n",
              "</div>\n",
              "      <button class=\"colab-df-convert\" onclick=\"convertToInteractive('df-a031ff5a-9260-49d7-bda7-15976a3e1d45')\"\n",
              "              title=\"Convert this dataframe to an interactive table.\"\n",
              "              style=\"display:none;\">\n",
              "        \n",
              "  <svg xmlns=\"http://www.w3.org/2000/svg\" height=\"24px\"viewBox=\"0 0 24 24\"\n",
              "       width=\"24px\">\n",
              "    <path d=\"M0 0h24v24H0V0z\" fill=\"none\"/>\n",
              "    <path d=\"M18.56 5.44l.94 2.06.94-2.06 2.06-.94-2.06-.94-.94-2.06-.94 2.06-2.06.94zm-11 1L8.5 8.5l.94-2.06 2.06-.94-2.06-.94L8.5 2.5l-.94 2.06-2.06.94zm10 10l.94 2.06.94-2.06 2.06-.94-2.06-.94-.94-2.06-.94 2.06-2.06.94z\"/><path d=\"M17.41 7.96l-1.37-1.37c-.4-.4-.92-.59-1.43-.59-.52 0-1.04.2-1.43.59L10.3 9.45l-7.72 7.72c-.78.78-.78 2.05 0 2.83L4 21.41c.39.39.9.59 1.41.59.51 0 1.02-.2 1.41-.59l7.78-7.78 2.81-2.81c.8-.78.8-2.07 0-2.86zM5.41 20L4 18.59l7.72-7.72 1.47 1.35L5.41 20z\"/>\n",
              "  </svg>\n",
              "      </button>\n",
              "      \n",
              "  <style>\n",
              "    .colab-df-container {\n",
              "      display:flex;\n",
              "      flex-wrap:wrap;\n",
              "      gap: 12px;\n",
              "    }\n",
              "\n",
              "    .colab-df-convert {\n",
              "      background-color: #E8F0FE;\n",
              "      border: none;\n",
              "      border-radius: 50%;\n",
              "      cursor: pointer;\n",
              "      display: none;\n",
              "      fill: #1967D2;\n",
              "      height: 32px;\n",
              "      padding: 0 0 0 0;\n",
              "      width: 32px;\n",
              "    }\n",
              "\n",
              "    .colab-df-convert:hover {\n",
              "      background-color: #E2EBFA;\n",
              "      box-shadow: 0px 1px 2px rgba(60, 64, 67, 0.3), 0px 1px 3px 1px rgba(60, 64, 67, 0.15);\n",
              "      fill: #174EA6;\n",
              "    }\n",
              "\n",
              "    [theme=dark] .colab-df-convert {\n",
              "      background-color: #3B4455;\n",
              "      fill: #D2E3FC;\n",
              "    }\n",
              "\n",
              "    [theme=dark] .colab-df-convert:hover {\n",
              "      background-color: #434B5C;\n",
              "      box-shadow: 0px 1px 3px 1px rgba(0, 0, 0, 0.15);\n",
              "      filter: drop-shadow(0px 1px 2px rgba(0, 0, 0, 0.3));\n",
              "      fill: #FFFFFF;\n",
              "    }\n",
              "  </style>\n",
              "\n",
              "      <script>\n",
              "        const buttonEl =\n",
              "          document.querySelector('#df-a031ff5a-9260-49d7-bda7-15976a3e1d45 button.colab-df-convert');\n",
              "        buttonEl.style.display =\n",
              "          google.colab.kernel.accessAllowed ? 'block' : 'none';\n",
              "\n",
              "        async function convertToInteractive(key) {\n",
              "          const element = document.querySelector('#df-a031ff5a-9260-49d7-bda7-15976a3e1d45');\n",
              "          const dataTable =\n",
              "            await google.colab.kernel.invokeFunction('convertToInteractive',\n",
              "                                                     [key], {});\n",
              "          if (!dataTable) return;\n",
              "\n",
              "          const docLinkHtml = 'Like what you see? Visit the ' +\n",
              "            '<a target=\"_blank\" href=https://colab.research.google.com/notebooks/data_table.ipynb>data table notebook</a>'\n",
              "            + ' to learn more about interactive tables.';\n",
              "          element.innerHTML = '';\n",
              "          dataTable['output_type'] = 'display_data';\n",
              "          await google.colab.output.renderOutput(dataTable, element);\n",
              "          const docLink = document.createElement('div');\n",
              "          docLink.innerHTML = docLinkHtml;\n",
              "          element.appendChild(docLink);\n",
              "        }\n",
              "      </script>\n",
              "    </div>\n",
              "  </div>\n",
              "  "
            ]
          },
          "metadata": {},
          "execution_count": 74
        }
      ]
    },
    {
      "cell_type": "code",
      "source": [
        "# Applying the ranking_songs function\n",
        "ranking_songs(recommendations, final_count)"
      ],
      "metadata": {
        "id": "R2lIdfQ8_NGJ",
        "colab": {
          "base_uri": "https://localhost:8080/",
          "height": 206
        },
        "outputId": "91cd93ae-f4d6-43b6-d44a-83afe5eda8b9"
      },
      "execution_count": null,
      "outputs": [
        {
          "output_type": "execute_result",
          "data": {
            "text/plain": [
              "   song_id  play_frequency  predicted_playcount  corrected_playcount\n",
              "1     4262             172             3.058082             3.134331\n",
              "3     2914             104             2.910854             3.008912\n",
              "4     2054             102             2.827107             2.926122\n",
              "0     2672             392             2.859115             2.909622\n",
              "2     9960             129             2.695389             2.783434"
            ],
            "text/html": [
              "\n",
              "  <div id=\"df-84d4f453-d6e2-4fc4-8a83-fb83803b25ea\">\n",
              "    <div class=\"colab-df-container\">\n",
              "      <div>\n",
              "<style scoped>\n",
              "    .dataframe tbody tr th:only-of-type {\n",
              "        vertical-align: middle;\n",
              "    }\n",
              "\n",
              "    .dataframe tbody tr th {\n",
              "        vertical-align: top;\n",
              "    }\n",
              "\n",
              "    .dataframe thead th {\n",
              "        text-align: right;\n",
              "    }\n",
              "</style>\n",
              "<table border=\"1\" class=\"dataframe\">\n",
              "  <thead>\n",
              "    <tr style=\"text-align: right;\">\n",
              "      <th></th>\n",
              "      <th>song_id</th>\n",
              "      <th>play_frequency</th>\n",
              "      <th>predicted_playcount</th>\n",
              "      <th>corrected_playcount</th>\n",
              "    </tr>\n",
              "  </thead>\n",
              "  <tbody>\n",
              "    <tr>\n",
              "      <th>1</th>\n",
              "      <td>4262</td>\n",
              "      <td>172</td>\n",
              "      <td>3.058082</td>\n",
              "      <td>3.134331</td>\n",
              "    </tr>\n",
              "    <tr>\n",
              "      <th>3</th>\n",
              "      <td>2914</td>\n",
              "      <td>104</td>\n",
              "      <td>2.910854</td>\n",
              "      <td>3.008912</td>\n",
              "    </tr>\n",
              "    <tr>\n",
              "      <th>4</th>\n",
              "      <td>2054</td>\n",
              "      <td>102</td>\n",
              "      <td>2.827107</td>\n",
              "      <td>2.926122</td>\n",
              "    </tr>\n",
              "    <tr>\n",
              "      <th>0</th>\n",
              "      <td>2672</td>\n",
              "      <td>392</td>\n",
              "      <td>2.859115</td>\n",
              "      <td>2.909622</td>\n",
              "    </tr>\n",
              "    <tr>\n",
              "      <th>2</th>\n",
              "      <td>9960</td>\n",
              "      <td>129</td>\n",
              "      <td>2.695389</td>\n",
              "      <td>2.783434</td>\n",
              "    </tr>\n",
              "  </tbody>\n",
              "</table>\n",
              "</div>\n",
              "      <button class=\"colab-df-convert\" onclick=\"convertToInteractive('df-84d4f453-d6e2-4fc4-8a83-fb83803b25ea')\"\n",
              "              title=\"Convert this dataframe to an interactive table.\"\n",
              "              style=\"display:none;\">\n",
              "        \n",
              "  <svg xmlns=\"http://www.w3.org/2000/svg\" height=\"24px\"viewBox=\"0 0 24 24\"\n",
              "       width=\"24px\">\n",
              "    <path d=\"M0 0h24v24H0V0z\" fill=\"none\"/>\n",
              "    <path d=\"M18.56 5.44l.94 2.06.94-2.06 2.06-.94-2.06-.94-.94-2.06-.94 2.06-2.06.94zm-11 1L8.5 8.5l.94-2.06 2.06-.94-2.06-.94L8.5 2.5l-.94 2.06-2.06.94zm10 10l.94 2.06.94-2.06 2.06-.94-2.06-.94-.94-2.06-.94 2.06-2.06.94z\"/><path d=\"M17.41 7.96l-1.37-1.37c-.4-.4-.92-.59-1.43-.59-.52 0-1.04.2-1.43.59L10.3 9.45l-7.72 7.72c-.78.78-.78 2.05 0 2.83L4 21.41c.39.39.9.59 1.41.59.51 0 1.02-.2 1.41-.59l7.78-7.78 2.81-2.81c.8-.78.8-2.07 0-2.86zM5.41 20L4 18.59l7.72-7.72 1.47 1.35L5.41 20z\"/>\n",
              "  </svg>\n",
              "      </button>\n",
              "      \n",
              "  <style>\n",
              "    .colab-df-container {\n",
              "      display:flex;\n",
              "      flex-wrap:wrap;\n",
              "      gap: 12px;\n",
              "    }\n",
              "\n",
              "    .colab-df-convert {\n",
              "      background-color: #E8F0FE;\n",
              "      border: none;\n",
              "      border-radius: 50%;\n",
              "      cursor: pointer;\n",
              "      display: none;\n",
              "      fill: #1967D2;\n",
              "      height: 32px;\n",
              "      padding: 0 0 0 0;\n",
              "      width: 32px;\n",
              "    }\n",
              "\n",
              "    .colab-df-convert:hover {\n",
              "      background-color: #E2EBFA;\n",
              "      box-shadow: 0px 1px 2px rgba(60, 64, 67, 0.3), 0px 1px 3px 1px rgba(60, 64, 67, 0.15);\n",
              "      fill: #174EA6;\n",
              "    }\n",
              "\n",
              "    [theme=dark] .colab-df-convert {\n",
              "      background-color: #3B4455;\n",
              "      fill: #D2E3FC;\n",
              "    }\n",
              "\n",
              "    [theme=dark] .colab-df-convert:hover {\n",
              "      background-color: #434B5C;\n",
              "      box-shadow: 0px 1px 3px 1px rgba(0, 0, 0, 0.15);\n",
              "      filter: drop-shadow(0px 1px 2px rgba(0, 0, 0, 0.3));\n",
              "      fill: #FFFFFF;\n",
              "    }\n",
              "  </style>\n",
              "\n",
              "      <script>\n",
              "        const buttonEl =\n",
              "          document.querySelector('#df-84d4f453-d6e2-4fc4-8a83-fb83803b25ea button.colab-df-convert');\n",
              "        buttonEl.style.display =\n",
              "          google.colab.kernel.accessAllowed ? 'block' : 'none';\n",
              "\n",
              "        async function convertToInteractive(key) {\n",
              "          const element = document.querySelector('#df-84d4f453-d6e2-4fc4-8a83-fb83803b25ea');\n",
              "          const dataTable =\n",
              "            await google.colab.kernel.invokeFunction('convertToInteractive',\n",
              "                                                     [key], {});\n",
              "          if (!dataTable) return;\n",
              "\n",
              "          const docLinkHtml = 'Like what you see? Visit the ' +\n",
              "            '<a target=\"_blank\" href=https://colab.research.google.com/notebooks/data_table.ipynb>data table notebook</a>'\n",
              "            + ' to learn more about interactive tables.';\n",
              "          element.innerHTML = '';\n",
              "          dataTable['output_type'] = 'display_data';\n",
              "          await google.colab.output.renderOutput(dataTable, element);\n",
              "          const docLink = document.createElement('div');\n",
              "          docLink.innerHTML = docLinkHtml;\n",
              "          element.appendChild(docLink);\n",
              "        }\n",
              "      </script>\n",
              "    </div>\n",
              "  </div>\n",
              "  "
            ]
          },
          "metadata": {},
          "execution_count": 75
        }
      ]
    },
    {
      "cell_type": "markdown",
      "source": [
        "**Observations:**\n",
        "- It is clear the optimized item-item model has recommended different songs to the user than then optimized user-user model.\n",
        "- Although some of these songs have a higher play frequency than the recommended songs by user-user model, their predicted/corrected playcount is slightly less."
      ],
      "metadata": {
        "id": "R2VTsvuS_x0e"
      }
    },
    {
      "cell_type": "markdown",
      "source": [
        "###**Model 4:** Model Based Collaborative Filtering - Matrix Factorization\n",
        "\n",
        "Model-based Collaborative Filtering is a **personalized recommendation system**, the recommendations are based on the past behavior of the user and it is not dependent on any additional information. We use **latent features** to find recommendations for each user."
      ],
      "metadata": {
        "id": "AsoQzsnt8fy3"
      }
    },
    {
      "cell_type": "markdown",
      "source": [
        "### **Singular Value Decomposition (SVD)**\n",
        "\n",
        "SVD is used to **compute the latent features** from the **user-item matrix** that we already learned earlier. But SVD does not work when we **miss values** in the **user-item matrix**."
      ],
      "metadata": {
        "id": "C7dNATcL86D-"
      }
    },
    {
      "cell_type": "code",
      "source": [
        "# Build baseline model using svd\n",
        "svd = SVD(random_state=1)\n",
        "\n",
        "# Training the algorithm on the train set\n",
        "svd.fit(trainset)\n",
        "\n",
        "# Let us compute precision@k and recall@k \n",
        "precision_recall_at_k(svd)"
      ],
      "metadata": {
        "id": "BWyHp_bXAWQk",
        "colab": {
          "base_uri": "https://localhost:8080/"
        },
        "outputId": "d60e66e4-6848-4121-f935-324ade36daee"
      },
      "execution_count": null,
      "outputs": [
        {
          "output_type": "stream",
          "name": "stdout",
          "text": [
            "RMSE: 1.6034\n",
            "Precision:  0.443\n",
            "Recall:  0.736\n",
            "F_1 score:  0.553\n"
          ]
        }
      ]
    },
    {
      "cell_type": "markdown",
      "source": [
        "**Observations:**\n",
        "- This model has a high RMSE score (1.60).\n",
        "- While Precision is low (0.44), Recall is high (0.74). Because I want a balance of both, let's look at the F-1 score.\n",
        "- F-1 Score is over 50% (0.55) which passes the above 50% test, however this still leaves room for improvement. I'm going to try to use GridSearch CV for hyperparamter tuning to improve scores.\n",
        "\n",
        "\n",
        "First, though, let's test the predictions. "
      ],
      "metadata": {
        "id": "DGf74KPl9Zst"
      }
    },
    {
      "cell_type": "code",
      "source": [
        "# Making prediction for user (with user_id 6958) to song (with song_id 1671), take r_ui = 2\n",
        "svd.predict(6958, 1671, r_ui=2, verbose=True)"
      ],
      "metadata": {
        "id": "HjazvoCz9N79",
        "colab": {
          "base_uri": "https://localhost:8080/"
        },
        "outputId": "d9774469-9aac-4e4d-d395-eaa676579760"
      },
      "execution_count": null,
      "outputs": [
        {
          "output_type": "stream",
          "name": "stdout",
          "text": [
            "user: 6958       item: 1671       r_ui = 2.00   est = 1.20   {'was_impossible': False}\n"
          ]
        },
        {
          "output_type": "execute_result",
          "data": {
            "text/plain": [
              "Prediction(uid=6958, iid=1671, r_ui=2, est=1.1970134237461074, details={'was_impossible': False})"
            ]
          },
          "metadata": {},
          "execution_count": 77
        }
      ]
    },
    {
      "cell_type": "code",
      "source": [
        "svd.predict(6958, 1056, r_ui=2, verbose=True)"
      ],
      "metadata": {
        "colab": {
          "base_uri": "https://localhost:8080/"
        },
        "id": "wmo3-rCyydvT",
        "outputId": "0fd76998-3063-410f-a67a-a7022b613b77"
      },
      "execution_count": null,
      "outputs": [
        {
          "output_type": "stream",
          "name": "stdout",
          "text": [
            "user: 6958       item: 1056       r_ui = 2.00   est = 1.50   {'was_impossible': False}\n"
          ]
        },
        {
          "output_type": "execute_result",
          "data": {
            "text/plain": [
              "Prediction(uid=6958, iid=1056, r_ui=2, est=1.497301643604814, details={'was_impossible': False})"
            ]
          },
          "metadata": {},
          "execution_count": 114
        }
      ]
    },
    {
      "cell_type": "code",
      "source": [
        "svd.predict(6958, 1050, r_ui=5, verbose=True)"
      ],
      "metadata": {
        "colab": {
          "base_uri": "https://localhost:8080/"
        },
        "id": "PY7F7Yz1yd7Y",
        "outputId": "3edfc70b-4334-4e2c-d6d5-792d2f62fb28"
      },
      "execution_count": null,
      "outputs": [
        {
          "output_type": "stream",
          "name": "stdout",
          "text": [
            "user: 6958       item: 1050       r_ui = 5.00   est = 3.46   {'was_impossible': False}\n"
          ]
        },
        {
          "output_type": "execute_result",
          "data": {
            "text/plain": [
              "Prediction(uid=6958, iid=1050, r_ui=5, est=3.456907362422685, details={'was_impossible': False})"
            ]
          },
          "metadata": {},
          "execution_count": 115
        }
      ]
    },
    {
      "cell_type": "code",
      "source": [
        "svd.predict(6958, 1787, r_ui=2, verbose=True)"
      ],
      "metadata": {
        "colab": {
          "base_uri": "https://localhost:8080/"
        },
        "id": "1lfE-2AAyeIG",
        "outputId": "85645863-621c-4547-b525-dbe2177e790b"
      },
      "execution_count": null,
      "outputs": [
        {
          "output_type": "stream",
          "name": "stdout",
          "text": [
            "user: 6958       item: 1787       r_ui = 2.00   est = 2.25   {'was_impossible': False}\n"
          ]
        },
        {
          "output_type": "execute_result",
          "data": {
            "text/plain": [
              "Prediction(uid=6958, iid=1787, r_ui=2, est=2.254889266260125, details={'was_impossible': False})"
            ]
          },
          "metadata": {},
          "execution_count": 116
        }
      ]
    },
    {
      "cell_type": "code",
      "source": [
        "# Making a prediction for the user who has not listened to the song (song_id 3232)\n",
        "svd.predict(6958, 3232, verbose=True)"
      ],
      "metadata": {
        "id": "yhWG044Z-y8o",
        "colab": {
          "base_uri": "https://localhost:8080/"
        },
        "outputId": "b905b67b-ddb8-4d20-82a3-e855aa9e88a3"
      },
      "execution_count": null,
      "outputs": [
        {
          "output_type": "stream",
          "name": "stdout",
          "text": [
            "user: 6958       item: 3232       r_ui = None   est = 1.50   {'was_impossible': False}\n"
          ]
        },
        {
          "output_type": "execute_result",
          "data": {
            "text/plain": [
              "Prediction(uid=6958, iid=3232, r_ui=None, est=1.4955563327341175, details={'was_impossible': False})"
            ]
          },
          "metadata": {},
          "execution_count": 137
        }
      ]
    },
    {
      "cell_type": "markdown",
      "source": [
        "**Observations:**\n",
        "- Due to the metric scores observed above, I tested the model across 4 songs user 6958 has listened to to measure overall performance by comparing the predicted playcount vs the actual playcount. To calculate this, I divided the predicted playcount by the true playcount for each song, added all four together and took the mean in order to get an average of correct guesses\n",
        "- Despite its 0.55 F1 score, this baseline SVD model showed it was about 80% correct which shows there is room for improvement.\n",
        "- For a song not listened to by the user, it's showing a predicted playcount of 1.50 which provides a bit of insight due to its performance on other predictions. \n",
        "\n",
        "Let's try to improve performance through hyperparameter tuning.\n",
        "\n",
        "Below we will be tuning only three hyperparameters:\n",
        "- **n_epochs**: The number of iteration of the SGD algorithm\n",
        "- **lr_all**: The learning rate for all parameters\n",
        "- **reg_all**: The regularization term for all parameters"
      ],
      "metadata": {
        "id": "uUddot7B_f_I"
      }
    },
    {
      "cell_type": "code",
      "source": [
        "# Set the parameter space to tune\n",
        "param_grid = {'n_epochs': [10, 20, 30], 'lr_all': [0.001, 0.005, 0.01],\n",
        "              'reg_all': [0.2, 0.4, 0.6]}\n",
        "\n",
        "# Performing 3-fold gridsearch cross validation\n",
        "gs_ = GridSearchCV(SVD, param_grid, measures=['rmse'], cv=3, n_jobs=-1)\n",
        "\n",
        "# Fitting data\n",
        "gs_.fit(data)\n",
        "\n",
        "# Best RMSE score\n",
        "print(gs_.best_score['rmse'])\n",
        "\n",
        "# Combination of parameters that gave the best RMSE score\n",
        "print(gs_.best_params['rmse'])\n"
      ],
      "metadata": {
        "id": "jMjU1gSz_dOh",
        "colab": {
          "base_uri": "https://localhost:8080/"
        },
        "outputId": "cd3f0404-7fdb-4472-8e99-1720d9d123f6"
      },
      "execution_count": null,
      "outputs": [
        {
          "output_type": "stream",
          "name": "stdout",
          "text": [
            "1.5558858260862085\n",
            "{'n_epochs': 30, 'lr_all': 0.01, 'reg_all': 0.2}\n"
          ]
        }
      ]
    },
    {
      "cell_type": "code",
      "source": [
        "# Building the optimized SVD model\n",
        "svd_optimized = SVD(n_epochs=30, lr_all=0.01, reg_all=0.2, random_state=1)\n",
        "\n",
        "# Training the algorithm on the train set\n",
        "svd_optimized.fit(trainset)\n",
        "\n",
        "# Let us compute precision@k and recall@k\n",
        "precision_recall_at_k(svd_optimized)"
      ],
      "metadata": {
        "id": "6oE_XvpTDNRv",
        "colab": {
          "base_uri": "https://localhost:8080/"
        },
        "outputId": "c02d12dd-4bbe-4260-ee79-4c6a34bf3b6f"
      },
      "execution_count": null,
      "outputs": [
        {
          "output_type": "stream",
          "name": "stdout",
          "text": [
            "RMSE: 1.5586\n",
            "Precision:  0.448\n",
            "Recall:  0.763\n",
            "F_1 score:  0.565\n"
          ]
        }
      ]
    },
    {
      "cell_type": "markdown",
      "source": [
        "**Observations:**\n",
        "- The optimized SVD model still has a high RMSE score despite lowering a little bit to 1.56\n",
        "- While Precision is still low, it rose marginally to 0.45 and Recall also considerably increased to 0.76. Because we want a balance of both, let's look at the F-1 score.\n",
        "- F-1 Score is over 50% at 0.57 which implies the optimized model is performing better than the baseline model.\n",
        "Let's see how it performs on making predictions.\n",
        "\n",
        "After predicting playcounts and recommendations, I will continue to test different recommendation systems and see if the metric scores improve. "
      ],
      "metadata": {
        "id": "P314r6GCD4aK"
      }
    },
    {
      "cell_type": "code",
      "source": [
        "# Making prediction for user (with user_id 6958) to song (with song_id 1671), take r_ui = 2\n",
        "svd_optimized.predict(6958, 1671, r_ui=2, verbose=True)"
      ],
      "metadata": {
        "id": "oNsFYDNnDeEg",
        "colab": {
          "base_uri": "https://localhost:8080/"
        },
        "outputId": "9b81fbe1-a623-4db9-e2a5-c7500f26411b"
      },
      "execution_count": null,
      "outputs": [
        {
          "output_type": "stream",
          "name": "stdout",
          "text": [
            "user: 6958       item: 1671       r_ui = 2.00   est = 1.42   {'was_impossible': False}\n"
          ]
        },
        {
          "output_type": "execute_result",
          "data": {
            "text/plain": [
              "Prediction(uid=6958, iid=1671, r_ui=2, est=1.4195203492525539, details={'was_impossible': False})"
            ]
          },
          "metadata": {},
          "execution_count": 83
        }
      ]
    },
    {
      "cell_type": "code",
      "source": [
        "svd_optimized.predict(6958, 1056, r_ui=2, verbose=True)"
      ],
      "metadata": {
        "colab": {
          "base_uri": "https://localhost:8080/"
        },
        "id": "53QfpciCywe9",
        "outputId": "2327a177-2c21-4019-8cee-851c976eb5a6"
      },
      "execution_count": null,
      "outputs": [
        {
          "output_type": "stream",
          "name": "stdout",
          "text": [
            "user: 6958       item: 1056       r_ui = 2.00   est = 1.49   {'was_impossible': False}\n"
          ]
        },
        {
          "output_type": "execute_result",
          "data": {
            "text/plain": [
              "Prediction(uid=6958, iid=1056, r_ui=2, est=1.4929445673906003, details={'was_impossible': False})"
            ]
          },
          "metadata": {},
          "execution_count": 117
        }
      ]
    },
    {
      "cell_type": "code",
      "source": [
        "svd_optimized.predict(6958, 1050, r_ui=5, verbose=True)"
      ],
      "metadata": {
        "colab": {
          "base_uri": "https://localhost:8080/"
        },
        "id": "CU_sq3QNywsL",
        "outputId": "de053eb6-a83b-44f2-b837-37ae6f9dbc01"
      },
      "execution_count": null,
      "outputs": [
        {
          "output_type": "stream",
          "name": "stdout",
          "text": [
            "user: 6958       item: 1050       r_ui = 5.00   est = 3.30   {'was_impossible': False}\n"
          ]
        },
        {
          "output_type": "execute_result",
          "data": {
            "text/plain": [
              "Prediction(uid=6958, iid=1050, r_ui=5, est=3.304765944243367, details={'was_impossible': False})"
            ]
          },
          "metadata": {},
          "execution_count": 119
        }
      ]
    },
    {
      "cell_type": "code",
      "source": [
        "svd_optimized.predict(6958, 1787, r_ui=2, verbose=True)"
      ],
      "metadata": {
        "colab": {
          "base_uri": "https://localhost:8080/"
        },
        "id": "mTEPZ_Qzyw4w",
        "outputId": "9f38ee7e-0e7a-494c-e0d9-7d79b89d5b59"
      },
      "execution_count": null,
      "outputs": [
        {
          "output_type": "stream",
          "name": "stdout",
          "text": [
            "user: 6958       item: 1787       r_ui = 2.00   est = 1.93   {'was_impossible': False}\n"
          ]
        },
        {
          "output_type": "execute_result",
          "data": {
            "text/plain": [
              "Prediction(uid=6958, iid=1787, r_ui=2, est=1.9274796345340492, details={'was_impossible': False})"
            ]
          },
          "metadata": {},
          "execution_count": 120
        }
      ]
    },
    {
      "cell_type": "code",
      "source": [
        "# Making a prediction for the user who has not listened to the song (song_id 3232)\n",
        "svd_optimized.predict(6958, 3232, verbose=True)"
      ],
      "metadata": {
        "id": "bOpqIIEjEbQF",
        "colab": {
          "base_uri": "https://localhost:8080/"
        },
        "outputId": "eed5c1db-58ef-4cc9-9c4b-62e0f888cf19"
      },
      "execution_count": null,
      "outputs": [
        {
          "output_type": "stream",
          "name": "stdout",
          "text": [
            "user: 6958       item: 3232       r_ui = None   est = 1.39   {'was_impossible': False}\n"
          ]
        },
        {
          "output_type": "execute_result",
          "data": {
            "text/plain": [
              "Prediction(uid=6958, iid=3232, r_ui=None, est=1.3893905784286982, details={'was_impossible': False})"
            ]
          },
          "metadata": {},
          "execution_count": 138
        }
      ]
    },
    {
      "cell_type": "markdown",
      "source": [
        "**Observations**:\n",
        "- Despite the metric scores observed above, I tested the model across 4 songs user 6958 has listened to to measure overall performance by comparing the predicted playcount vs the actual playcount. To calculate this, I divided the predicted playcount by the true playcount for each song, added all four together and took the mean in order to get an average of correct guesses\n",
        "- Despite its 0.57 F1 score, this optimized SVD model showed it was about 77% correct, implying it is perfoming slightly worse than its baseline model.\n",
        "- For a song not listened to by the user, it's showing a predicted playcount of 1.39 which provides only some insight into whether or not this would be a relevant song for the user."
      ],
      "metadata": {
        "id": "dbaqLHHKEges"
      }
    },
    {
      "cell_type": "code",
      "source": [
        "# Getting top 5 recommendations for user_id 6958 using \"svd_optimized\" algorithm\n",
        "recommendations = get_recommendations(df_final, 6958, 5, svd)\n",
        "pd.DataFrame(recommendations, columns=['song_id', 'predicted_playcount'])"
      ],
      "metadata": {
        "id": "s8dME8pLF0tY",
        "colab": {
          "base_uri": "https://localhost:8080/",
          "height": 206
        },
        "outputId": "5c828d38-effe-4c6e-d7c3-80ab4c30bfe3"
      },
      "execution_count": null,
      "outputs": [
        {
          "output_type": "execute_result",
          "data": {
            "text/plain": [
              "   song_id  predicted_playcount\n",
              "0     6450             4.226809\n",
              "1     5653             3.743278\n",
              "2     8324             3.600737\n",
              "3     7416             3.581545\n",
              "4     2220             3.580421"
            ],
            "text/html": [
              "\n",
              "  <div id=\"df-8ab9c784-994c-4686-b6c9-3bd537a11eef\">\n",
              "    <div class=\"colab-df-container\">\n",
              "      <div>\n",
              "<style scoped>\n",
              "    .dataframe tbody tr th:only-of-type {\n",
              "        vertical-align: middle;\n",
              "    }\n",
              "\n",
              "    .dataframe tbody tr th {\n",
              "        vertical-align: top;\n",
              "    }\n",
              "\n",
              "    .dataframe thead th {\n",
              "        text-align: right;\n",
              "    }\n",
              "</style>\n",
              "<table border=\"1\" class=\"dataframe\">\n",
              "  <thead>\n",
              "    <tr style=\"text-align: right;\">\n",
              "      <th></th>\n",
              "      <th>song_id</th>\n",
              "      <th>predicted_playcount</th>\n",
              "    </tr>\n",
              "  </thead>\n",
              "  <tbody>\n",
              "    <tr>\n",
              "      <th>0</th>\n",
              "      <td>6450</td>\n",
              "      <td>4.226809</td>\n",
              "    </tr>\n",
              "    <tr>\n",
              "      <th>1</th>\n",
              "      <td>5653</td>\n",
              "      <td>3.743278</td>\n",
              "    </tr>\n",
              "    <tr>\n",
              "      <th>2</th>\n",
              "      <td>8324</td>\n",
              "      <td>3.600737</td>\n",
              "    </tr>\n",
              "    <tr>\n",
              "      <th>3</th>\n",
              "      <td>7416</td>\n",
              "      <td>3.581545</td>\n",
              "    </tr>\n",
              "    <tr>\n",
              "      <th>4</th>\n",
              "      <td>2220</td>\n",
              "      <td>3.580421</td>\n",
              "    </tr>\n",
              "  </tbody>\n",
              "</table>\n",
              "</div>\n",
              "      <button class=\"colab-df-convert\" onclick=\"convertToInteractive('df-8ab9c784-994c-4686-b6c9-3bd537a11eef')\"\n",
              "              title=\"Convert this dataframe to an interactive table.\"\n",
              "              style=\"display:none;\">\n",
              "        \n",
              "  <svg xmlns=\"http://www.w3.org/2000/svg\" height=\"24px\"viewBox=\"0 0 24 24\"\n",
              "       width=\"24px\">\n",
              "    <path d=\"M0 0h24v24H0V0z\" fill=\"none\"/>\n",
              "    <path d=\"M18.56 5.44l.94 2.06.94-2.06 2.06-.94-2.06-.94-.94-2.06-.94 2.06-2.06.94zm-11 1L8.5 8.5l.94-2.06 2.06-.94-2.06-.94L8.5 2.5l-.94 2.06-2.06.94zm10 10l.94 2.06.94-2.06 2.06-.94-2.06-.94-.94-2.06-.94 2.06-2.06.94z\"/><path d=\"M17.41 7.96l-1.37-1.37c-.4-.4-.92-.59-1.43-.59-.52 0-1.04.2-1.43.59L10.3 9.45l-7.72 7.72c-.78.78-.78 2.05 0 2.83L4 21.41c.39.39.9.59 1.41.59.51 0 1.02-.2 1.41-.59l7.78-7.78 2.81-2.81c.8-.78.8-2.07 0-2.86zM5.41 20L4 18.59l7.72-7.72 1.47 1.35L5.41 20z\"/>\n",
              "  </svg>\n",
              "      </button>\n",
              "      \n",
              "  <style>\n",
              "    .colab-df-container {\n",
              "      display:flex;\n",
              "      flex-wrap:wrap;\n",
              "      gap: 12px;\n",
              "    }\n",
              "\n",
              "    .colab-df-convert {\n",
              "      background-color: #E8F0FE;\n",
              "      border: none;\n",
              "      border-radius: 50%;\n",
              "      cursor: pointer;\n",
              "      display: none;\n",
              "      fill: #1967D2;\n",
              "      height: 32px;\n",
              "      padding: 0 0 0 0;\n",
              "      width: 32px;\n",
              "    }\n",
              "\n",
              "    .colab-df-convert:hover {\n",
              "      background-color: #E2EBFA;\n",
              "      box-shadow: 0px 1px 2px rgba(60, 64, 67, 0.3), 0px 1px 3px 1px rgba(60, 64, 67, 0.15);\n",
              "      fill: #174EA6;\n",
              "    }\n",
              "\n",
              "    [theme=dark] .colab-df-convert {\n",
              "      background-color: #3B4455;\n",
              "      fill: #D2E3FC;\n",
              "    }\n",
              "\n",
              "    [theme=dark] .colab-df-convert:hover {\n",
              "      background-color: #434B5C;\n",
              "      box-shadow: 0px 1px 3px 1px rgba(0, 0, 0, 0.15);\n",
              "      filter: drop-shadow(0px 1px 2px rgba(0, 0, 0, 0.3));\n",
              "      fill: #FFFFFF;\n",
              "    }\n",
              "  </style>\n",
              "\n",
              "      <script>\n",
              "        const buttonEl =\n",
              "          document.querySelector('#df-8ab9c784-994c-4686-b6c9-3bd537a11eef button.colab-df-convert');\n",
              "        buttonEl.style.display =\n",
              "          google.colab.kernel.accessAllowed ? 'block' : 'none';\n",
              "\n",
              "        async function convertToInteractive(key) {\n",
              "          const element = document.querySelector('#df-8ab9c784-994c-4686-b6c9-3bd537a11eef');\n",
              "          const dataTable =\n",
              "            await google.colab.kernel.invokeFunction('convertToInteractive',\n",
              "                                                     [key], {});\n",
              "          if (!dataTable) return;\n",
              "\n",
              "          const docLinkHtml = 'Like what you see? Visit the ' +\n",
              "            '<a target=\"_blank\" href=https://colab.research.google.com/notebooks/data_table.ipynb>data table notebook</a>'\n",
              "            + ' to learn more about interactive tables.';\n",
              "          element.innerHTML = '';\n",
              "          dataTable['output_type'] = 'display_data';\n",
              "          await google.colab.output.renderOutput(dataTable, element);\n",
              "          const docLink = document.createElement('div');\n",
              "          docLink.innerHTML = docLinkHtml;\n",
              "          element.appendChild(docLink);\n",
              "        }\n",
              "      </script>\n",
              "    </div>\n",
              "  </div>\n",
              "  "
            ]
          },
          "metadata": {},
          "execution_count": 139
        }
      ]
    },
    {
      "cell_type": "code",
      "source": [
        "# Ranking songs based on above recommendations\n",
        "ranking_songs(recommendations, final_count)"
      ],
      "metadata": {
        "id": "UpWOCHjNF1Kr",
        "colab": {
          "base_uri": "https://localhost:8080/",
          "height": 206
        },
        "outputId": "fa268798-daf2-47f8-d9e4-db1a6c922159"
      },
      "execution_count": null,
      "outputs": [
        {
          "output_type": "execute_result",
          "data": {
            "text/plain": [
              "   song_id  play_frequency  predicted_playcount  corrected_playcount\n",
              "3     6450             114             4.226809             4.320468\n",
              "2     5653             119             3.743278             3.834948\n",
              "4     8324             103             3.600737             3.699270\n",
              "1     7416             513             3.581545             3.625696\n",
              "0     2220             695             3.580421             3.618353"
            ],
            "text/html": [
              "\n",
              "  <div id=\"df-bbd80219-b772-4b78-ae60-958db12efa1a\">\n",
              "    <div class=\"colab-df-container\">\n",
              "      <div>\n",
              "<style scoped>\n",
              "    .dataframe tbody tr th:only-of-type {\n",
              "        vertical-align: middle;\n",
              "    }\n",
              "\n",
              "    .dataframe tbody tr th {\n",
              "        vertical-align: top;\n",
              "    }\n",
              "\n",
              "    .dataframe thead th {\n",
              "        text-align: right;\n",
              "    }\n",
              "</style>\n",
              "<table border=\"1\" class=\"dataframe\">\n",
              "  <thead>\n",
              "    <tr style=\"text-align: right;\">\n",
              "      <th></th>\n",
              "      <th>song_id</th>\n",
              "      <th>play_frequency</th>\n",
              "      <th>predicted_playcount</th>\n",
              "      <th>corrected_playcount</th>\n",
              "    </tr>\n",
              "  </thead>\n",
              "  <tbody>\n",
              "    <tr>\n",
              "      <th>3</th>\n",
              "      <td>6450</td>\n",
              "      <td>114</td>\n",
              "      <td>4.226809</td>\n",
              "      <td>4.320468</td>\n",
              "    </tr>\n",
              "    <tr>\n",
              "      <th>2</th>\n",
              "      <td>5653</td>\n",
              "      <td>119</td>\n",
              "      <td>3.743278</td>\n",
              "      <td>3.834948</td>\n",
              "    </tr>\n",
              "    <tr>\n",
              "      <th>4</th>\n",
              "      <td>8324</td>\n",
              "      <td>103</td>\n",
              "      <td>3.600737</td>\n",
              "      <td>3.699270</td>\n",
              "    </tr>\n",
              "    <tr>\n",
              "      <th>1</th>\n",
              "      <td>7416</td>\n",
              "      <td>513</td>\n",
              "      <td>3.581545</td>\n",
              "      <td>3.625696</td>\n",
              "    </tr>\n",
              "    <tr>\n",
              "      <th>0</th>\n",
              "      <td>2220</td>\n",
              "      <td>695</td>\n",
              "      <td>3.580421</td>\n",
              "      <td>3.618353</td>\n",
              "    </tr>\n",
              "  </tbody>\n",
              "</table>\n",
              "</div>\n",
              "      <button class=\"colab-df-convert\" onclick=\"convertToInteractive('df-bbd80219-b772-4b78-ae60-958db12efa1a')\"\n",
              "              title=\"Convert this dataframe to an interactive table.\"\n",
              "              style=\"display:none;\">\n",
              "        \n",
              "  <svg xmlns=\"http://www.w3.org/2000/svg\" height=\"24px\"viewBox=\"0 0 24 24\"\n",
              "       width=\"24px\">\n",
              "    <path d=\"M0 0h24v24H0V0z\" fill=\"none\"/>\n",
              "    <path d=\"M18.56 5.44l.94 2.06.94-2.06 2.06-.94-2.06-.94-.94-2.06-.94 2.06-2.06.94zm-11 1L8.5 8.5l.94-2.06 2.06-.94-2.06-.94L8.5 2.5l-.94 2.06-2.06.94zm10 10l.94 2.06.94-2.06 2.06-.94-2.06-.94-.94-2.06-.94 2.06-2.06.94z\"/><path d=\"M17.41 7.96l-1.37-1.37c-.4-.4-.92-.59-1.43-.59-.52 0-1.04.2-1.43.59L10.3 9.45l-7.72 7.72c-.78.78-.78 2.05 0 2.83L4 21.41c.39.39.9.59 1.41.59.51 0 1.02-.2 1.41-.59l7.78-7.78 2.81-2.81c.8-.78.8-2.07 0-2.86zM5.41 20L4 18.59l7.72-7.72 1.47 1.35L5.41 20z\"/>\n",
              "  </svg>\n",
              "      </button>\n",
              "      \n",
              "  <style>\n",
              "    .colab-df-container {\n",
              "      display:flex;\n",
              "      flex-wrap:wrap;\n",
              "      gap: 12px;\n",
              "    }\n",
              "\n",
              "    .colab-df-convert {\n",
              "      background-color: #E8F0FE;\n",
              "      border: none;\n",
              "      border-radius: 50%;\n",
              "      cursor: pointer;\n",
              "      display: none;\n",
              "      fill: #1967D2;\n",
              "      height: 32px;\n",
              "      padding: 0 0 0 0;\n",
              "      width: 32px;\n",
              "    }\n",
              "\n",
              "    .colab-df-convert:hover {\n",
              "      background-color: #E2EBFA;\n",
              "      box-shadow: 0px 1px 2px rgba(60, 64, 67, 0.3), 0px 1px 3px 1px rgba(60, 64, 67, 0.15);\n",
              "      fill: #174EA6;\n",
              "    }\n",
              "\n",
              "    [theme=dark] .colab-df-convert {\n",
              "      background-color: #3B4455;\n",
              "      fill: #D2E3FC;\n",
              "    }\n",
              "\n",
              "    [theme=dark] .colab-df-convert:hover {\n",
              "      background-color: #434B5C;\n",
              "      box-shadow: 0px 1px 3px 1px rgba(0, 0, 0, 0.15);\n",
              "      filter: drop-shadow(0px 1px 2px rgba(0, 0, 0, 0.3));\n",
              "      fill: #FFFFFF;\n",
              "    }\n",
              "  </style>\n",
              "\n",
              "      <script>\n",
              "        const buttonEl =\n",
              "          document.querySelector('#df-bbd80219-b772-4b78-ae60-958db12efa1a button.colab-df-convert');\n",
              "        buttonEl.style.display =\n",
              "          google.colab.kernel.accessAllowed ? 'block' : 'none';\n",
              "\n",
              "        async function convertToInteractive(key) {\n",
              "          const element = document.querySelector('#df-bbd80219-b772-4b78-ae60-958db12efa1a');\n",
              "          const dataTable =\n",
              "            await google.colab.kernel.invokeFunction('convertToInteractive',\n",
              "                                                     [key], {});\n",
              "          if (!dataTable) return;\n",
              "\n",
              "          const docLinkHtml = 'Like what you see? Visit the ' +\n",
              "            '<a target=\"_blank\" href=https://colab.research.google.com/notebooks/data_table.ipynb>data table notebook</a>'\n",
              "            + ' to learn more about interactive tables.';\n",
              "          element.innerHTML = '';\n",
              "          dataTable['output_type'] = 'display_data';\n",
              "          await google.colab.output.renderOutput(dataTable, element);\n",
              "          const docLink = document.createElement('div');\n",
              "          docLink.innerHTML = docLinkHtml;\n",
              "          element.appendChild(docLink);\n",
              "        }\n",
              "      </script>\n",
              "    </div>\n",
              "  </div>\n",
              "  "
            ]
          },
          "metadata": {},
          "execution_count": 140
        }
      ]
    },
    {
      "cell_type": "markdown",
      "source": [
        "**Observations:**\n",
        "- The optimized SVD model has recommended different songs to the user than optimized item-item model. Interestingly, however, it has recommended a few of the same songs as the optimized user-user model.\n",
        "\n",
        "- Similar to the optimized item-item model, llthough some of these songs have a higher play frequency than the recommended songs by user-user model, their predicted/corrected playcount is slightly less."
      ],
      "metadata": {
        "id": "XhGDhu_7GI_4"
      }
    },
    {
      "cell_type": "markdown",
      "source": [
        "##**Conclusion and Recommendations**\n",
        "\n",
        "Four different algorithms were used to build recommendation systems for this Spotify case study:\n",
        "\n",
        "1. Rank-based Recommendation System\n",
        "2. User-user similarity-based collaborative filtering\n",
        "3. Item-item similarity-based collaborative filtering\n",
        "4. Model-based (matrix factorization) collaborative filtering\n",
        "\n",
        "To demonstrate these 4 recommendation system models, surprise library was used. \n",
        "Based on the baseline performances of each of these models, grid search CV was used to the tune the hyperparameters of the models in search for better parameters for performance. However, due to computational time and efficiency, the optimal parameters were unable to be identified. \n",
        "\n",
        "In order to evaluate the performance of the models, I built a function to calculate precision@k and recall@k. Using these two metrics, the F_1 score is calculated for each working model.\n",
        "\n",
        "Many important insights were drawn from this projectL\n",
        "1. **All models** (for the exception of one) **resulted in relatively similar F1 scores**, typically ranging from 0.55 to 0.57. \n",
        "2. All models resulted in **higher recall scores than precision scores**, meaning the models were able to better retrieve false negatives than positives and thus more relevant items were actually recommended than the inverse.\n",
        "3. Due to these slight discrepancies, I tested the predictions 4 times per model for different songs that had a true playcount and compared the results. Ultimately, this was the method I ended up using to compare the performance of the models since they all had somewhat similar metrics. In this case, the ability of the models to make predictions closer to the true playcount provided more insight into its performance than comparing preicion@k, recall@k, and f1_score@k alone. \n",
        "\n",
        "With all of this in mind, the **optimized user-user similarity based recommendations system model gave the best performance**, with the optimized item-item model as a close second in performance.\n",
        "\n",
        "The optimized user-user collaborative filterning recommendation system has given the best performance in terms of:\n",
        "- its recall score since this model resulted in the highest recall score across models\n",
        "- its F1 score since this model was among the highest in this metric\n",
        "- and lastly, in overall performance in predicting a playcount (compared to the true playcount. \n",
        "\n",
        "Collaborative Filtering searches for neighbors based on similarity of song preferences and recommend songs that those neighbors listen to while Matrix factorization works by decomposing the user-item matrix into the product of two lower dimensionality rectangular matrices.\n",
        "\n",
        "Ultimately, the performance of the optimized user-user similarity based recommendation system in this Spotify case study shows that songs are more likely recommended to users based on other similar users rather than similar songs they have listened to or a combo (SVD). \n",
        "\n",
        "In the future, I would like to turn my performance metric of calcualting overall performance through the mean of performances in playcount predictions of 4 songs into a function instead of using my more rudimentary technique (pencil and paper math). \n",
        "\n",
        "If alloted more computational power and time, I could try to further improve the performance of these models using hyperparameter tuning.\n",
        "\n",
        "Although beyond the scope of this project, I could also try to combine different recommendation techniques to build a more complex model like hybrid recommendation systems."
      ],
      "metadata": {
        "id": "FUbW4uaqT3ss"
      }
    },
    {
      "cell_type": "code",
      "source": [],
      "metadata": {
        "id": "m8fIN84dBDln"
      },
      "execution_count": null,
      "outputs": []
    }
  ]
}